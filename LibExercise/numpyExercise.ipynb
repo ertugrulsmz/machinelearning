{
 "cells": [
  {
   "cell_type": "code",
   "execution_count": 1,
   "metadata": {
    "collapsed": true,
    "pycharm": {
     "is_executing": false,
     "name": "#%%\n"
    }
   },
   "outputs": [],
   "source": [
    "import numpy as np\n",
    "x = np.arange(15.).reshape(3,5)\n",
    "type(x)\n",
    "\n",
    "#Creation\n",
    "b = np.array([1.2, 3.5, 5.1])\n",
    "b = np.array([1,2,3])\n",
    "b = np.zeros( (3,4) )\n",
    "a = np.ones( (2,3,4), dtype=np.int16 )\n",
    "a = np.ones((2,3),dtype=int)"
   ]
  },
  {
   "cell_type": "code",
   "execution_count": 6,
   "outputs": [
    {
     "data": {
      "text/plain": "array([0., 1., 8., 5., 1., 3., 0., 5., 4., 3., 5., 7.])"
     },
     "metadata": {},
     "output_type": "execute_result",
     "execution_count": 6
    }
   ],
   "source": [
    "b = np.arange( 10, 30, 5 )\n",
    "b = np.arange( 0, 2, 0.3 )\n",
    "b = np.linspace( 0, 2, 8 )\n",
    "\n",
    "from numpy import pi\n",
    "x = np.linspace( 0, 2*pi, 100 ) \n",
    "y = np.sin(x)\n",
    "y\n",
    "\n",
    "#Arithmetic Operations\n",
    "a = np.array( [20,30,40,50] )\n",
    "b = np.arange( 4 )\n",
    "c = a - b\n",
    "bsquare = b**2\n",
    "bsquare < 2\n",
    "\n",
    "\n",
    "\n",
    "\n",
    "#Matrix Operations\n",
    "A = np.array( [[1,1],\n",
    "            [0,1]] )\n",
    "B = np.array( [[2,0],\n",
    "            [3,4]] )\n",
    "A * B #İnner Product\n",
    "A.dot(B) # equal to A @ B (Matrix Mul.)\n",
    "\n",
    "#Random\n",
    "b = np.random.random((2,3))\n",
    "value = b.sum()\n",
    "value = b.min()\n",
    "eachcolumnsum = b.sum(axis=0)\n",
    "eachcolumnsum\n",
    "\n",
    "\n",
    "#Random and reshape - ravel\n",
    "a = np.floor(10*np.random.random((3,4)))\n",
    "a.ravel()\n",
    "\n",
    "\n"
   ],
   "metadata": {
    "collapsed": false,
    "pycharm": {
     "name": "#%%\n",
     "is_executing": false
    }
   }
  }
 ],
 "metadata": {
  "kernelspec": {
   "display_name": "Python 3",
   "language": "python",
   "name": "python3"
  },
  "language_info": {
   "codemirror_mode": {
    "name": "ipython",
    "version": 2
   },
   "file_extension": ".py",
   "mimetype": "text/x-python",
   "name": "python",
   "nbconvert_exporter": "python",
   "pygments_lexer": "ipython2",
   "version": "2.7.6"
  },
  "pycharm": {
   "stem_cell": {
    "cell_type": "raw",
    "source": [],
    "metadata": {
     "collapsed": false
    }
   }
  }
 },
 "nbformat": 4,
 "nbformat_minor": 0
}