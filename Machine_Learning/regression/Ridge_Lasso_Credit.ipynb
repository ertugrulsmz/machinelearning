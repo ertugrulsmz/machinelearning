{
 "cells": [
  {
   "cell_type": "code",
   "execution_count": 1,
   "metadata": {},
   "outputs": [],
   "source": [
    "%matplotlib inline\n",
    "\n",
    "import pandas as pd\n",
    "import numpy as np\n",
    "import matplotlib.pyplot as plt\n",
    "\n",
    "from sklearn.preprocessing import scale \n",
    "from sklearn.model_selection import train_test_split\n",
    "from sklearn.linear_model import Ridge, RidgeCV, Lasso, LassoCV\n",
    "from sklearn.metrics import mean_squared_error"
   ]
  },
  {
   "cell_type": "code",
   "execution_count": 2,
   "metadata": {},
   "outputs": [
    {
     "name": "stdout",
     "output_type": "stream",
     "text": [
      "<class 'pandas.core.frame.DataFrame'>\n",
      "RangeIndex: 400 entries, 0 to 399\n",
      "Data columns (total 12 columns):\n",
      " #   Column     Non-Null Count  Dtype  \n",
      "---  ------     --------------  -----  \n",
      " 0   ID         400 non-null    int64  \n",
      " 1   Income     400 non-null    float64\n",
      " 2   Limit      400 non-null    int64  \n",
      " 3   Rating     400 non-null    int64  \n",
      " 4   Cards      400 non-null    int64  \n",
      " 5   Age        400 non-null    int64  \n",
      " 6   Education  400 non-null    int64  \n",
      " 7   Gender     400 non-null    object \n",
      " 8   Student    400 non-null    object \n",
      " 9   Married    400 non-null    object \n",
      " 10  Ethnicity  400 non-null    object \n",
      " 11  Balance    400 non-null    int64  \n",
      "dtypes: float64(1), int64(7), object(4)\n",
      "memory usage: 37.6+ KB\n"
     ]
    }
   ],
   "source": [
    "df = pd.read_csv('Credit_Data.csv')\n",
    "df.info()"
   ]
  },
  {
   "cell_type": "code",
   "execution_count": 3,
   "metadata": {},
   "outputs": [
    {
     "data": {
      "text/html": [
       "<div>\n",
       "<style scoped>\n",
       "    .dataframe tbody tr th:only-of-type {\n",
       "        vertical-align: middle;\n",
       "    }\n",
       "\n",
       "    .dataframe tbody tr th {\n",
       "        vertical-align: top;\n",
       "    }\n",
       "\n",
       "    .dataframe thead th {\n",
       "        text-align: right;\n",
       "    }\n",
       "</style>\n",
       "<table border=\"1\" class=\"dataframe\">\n",
       "  <thead>\n",
       "    <tr style=\"text-align: right;\">\n",
       "      <th></th>\n",
       "      <th>ID</th>\n",
       "      <th>Income</th>\n",
       "      <th>Limit</th>\n",
       "      <th>Rating</th>\n",
       "      <th>Cards</th>\n",
       "      <th>Age</th>\n",
       "      <th>Education</th>\n",
       "      <th>Gender</th>\n",
       "      <th>Student</th>\n",
       "      <th>Married</th>\n",
       "      <th>Ethnicity</th>\n",
       "      <th>Balance</th>\n",
       "    </tr>\n",
       "  </thead>\n",
       "  <tbody>\n",
       "    <tr>\n",
       "      <th>0</th>\n",
       "      <td>1</td>\n",
       "      <td>14.891</td>\n",
       "      <td>3606</td>\n",
       "      <td>283</td>\n",
       "      <td>2</td>\n",
       "      <td>34</td>\n",
       "      <td>11</td>\n",
       "      <td>Male</td>\n",
       "      <td>No</td>\n",
       "      <td>Yes</td>\n",
       "      <td>Caucasian</td>\n",
       "      <td>333</td>\n",
       "    </tr>\n",
       "    <tr>\n",
       "      <th>1</th>\n",
       "      <td>2</td>\n",
       "      <td>106.025</td>\n",
       "      <td>6645</td>\n",
       "      <td>483</td>\n",
       "      <td>3</td>\n",
       "      <td>82</td>\n",
       "      <td>15</td>\n",
       "      <td>Female</td>\n",
       "      <td>Yes</td>\n",
       "      <td>Yes</td>\n",
       "      <td>Asian</td>\n",
       "      <td>903</td>\n",
       "    </tr>\n",
       "    <tr>\n",
       "      <th>2</th>\n",
       "      <td>3</td>\n",
       "      <td>104.593</td>\n",
       "      <td>7075</td>\n",
       "      <td>514</td>\n",
       "      <td>4</td>\n",
       "      <td>71</td>\n",
       "      <td>11</td>\n",
       "      <td>Male</td>\n",
       "      <td>No</td>\n",
       "      <td>No</td>\n",
       "      <td>Asian</td>\n",
       "      <td>580</td>\n",
       "    </tr>\n",
       "    <tr>\n",
       "      <th>3</th>\n",
       "      <td>4</td>\n",
       "      <td>148.924</td>\n",
       "      <td>9504</td>\n",
       "      <td>681</td>\n",
       "      <td>3</td>\n",
       "      <td>36</td>\n",
       "      <td>11</td>\n",
       "      <td>Female</td>\n",
       "      <td>No</td>\n",
       "      <td>No</td>\n",
       "      <td>Asian</td>\n",
       "      <td>964</td>\n",
       "    </tr>\n",
       "    <tr>\n",
       "      <th>4</th>\n",
       "      <td>5</td>\n",
       "      <td>55.882</td>\n",
       "      <td>4897</td>\n",
       "      <td>357</td>\n",
       "      <td>2</td>\n",
       "      <td>68</td>\n",
       "      <td>16</td>\n",
       "      <td>Male</td>\n",
       "      <td>No</td>\n",
       "      <td>Yes</td>\n",
       "      <td>Caucasian</td>\n",
       "      <td>331</td>\n",
       "    </tr>\n",
       "    <tr>\n",
       "      <th>...</th>\n",
       "      <td>...</td>\n",
       "      <td>...</td>\n",
       "      <td>...</td>\n",
       "      <td>...</td>\n",
       "      <td>...</td>\n",
       "      <td>...</td>\n",
       "      <td>...</td>\n",
       "      <td>...</td>\n",
       "      <td>...</td>\n",
       "      <td>...</td>\n",
       "      <td>...</td>\n",
       "      <td>...</td>\n",
       "    </tr>\n",
       "    <tr>\n",
       "      <th>395</th>\n",
       "      <td>396</td>\n",
       "      <td>12.096</td>\n",
       "      <td>4100</td>\n",
       "      <td>307</td>\n",
       "      <td>3</td>\n",
       "      <td>32</td>\n",
       "      <td>13</td>\n",
       "      <td>Male</td>\n",
       "      <td>No</td>\n",
       "      <td>Yes</td>\n",
       "      <td>Caucasian</td>\n",
       "      <td>560</td>\n",
       "    </tr>\n",
       "    <tr>\n",
       "      <th>396</th>\n",
       "      <td>397</td>\n",
       "      <td>13.364</td>\n",
       "      <td>3838</td>\n",
       "      <td>296</td>\n",
       "      <td>5</td>\n",
       "      <td>65</td>\n",
       "      <td>17</td>\n",
       "      <td>Male</td>\n",
       "      <td>No</td>\n",
       "      <td>No</td>\n",
       "      <td>African American</td>\n",
       "      <td>480</td>\n",
       "    </tr>\n",
       "    <tr>\n",
       "      <th>397</th>\n",
       "      <td>398</td>\n",
       "      <td>57.872</td>\n",
       "      <td>4171</td>\n",
       "      <td>321</td>\n",
       "      <td>5</td>\n",
       "      <td>67</td>\n",
       "      <td>12</td>\n",
       "      <td>Female</td>\n",
       "      <td>No</td>\n",
       "      <td>Yes</td>\n",
       "      <td>Caucasian</td>\n",
       "      <td>138</td>\n",
       "    </tr>\n",
       "    <tr>\n",
       "      <th>398</th>\n",
       "      <td>399</td>\n",
       "      <td>37.728</td>\n",
       "      <td>2525</td>\n",
       "      <td>192</td>\n",
       "      <td>1</td>\n",
       "      <td>44</td>\n",
       "      <td>13</td>\n",
       "      <td>Male</td>\n",
       "      <td>No</td>\n",
       "      <td>Yes</td>\n",
       "      <td>Caucasian</td>\n",
       "      <td>0</td>\n",
       "    </tr>\n",
       "    <tr>\n",
       "      <th>399</th>\n",
       "      <td>400</td>\n",
       "      <td>18.701</td>\n",
       "      <td>5524</td>\n",
       "      <td>415</td>\n",
       "      <td>5</td>\n",
       "      <td>64</td>\n",
       "      <td>7</td>\n",
       "      <td>Female</td>\n",
       "      <td>No</td>\n",
       "      <td>No</td>\n",
       "      <td>Asian</td>\n",
       "      <td>966</td>\n",
       "    </tr>\n",
       "  </tbody>\n",
       "</table>\n",
       "<p>400 rows × 12 columns</p>\n",
       "</div>"
      ],
      "text/plain": [
       "      ID   Income  Limit  Rating  Cards  Age  Education  Gender Student  \\\n",
       "0      1   14.891   3606     283      2   34         11    Male      No   \n",
       "1      2  106.025   6645     483      3   82         15  Female     Yes   \n",
       "2      3  104.593   7075     514      4   71         11    Male      No   \n",
       "3      4  148.924   9504     681      3   36         11  Female      No   \n",
       "4      5   55.882   4897     357      2   68         16    Male      No   \n",
       "..   ...      ...    ...     ...    ...  ...        ...     ...     ...   \n",
       "395  396   12.096   4100     307      3   32         13    Male      No   \n",
       "396  397   13.364   3838     296      5   65         17    Male      No   \n",
       "397  398   57.872   4171     321      5   67         12  Female      No   \n",
       "398  399   37.728   2525     192      1   44         13    Male      No   \n",
       "399  400   18.701   5524     415      5   64          7  Female      No   \n",
       "\n",
       "    Married         Ethnicity  Balance  \n",
       "0       Yes         Caucasian      333  \n",
       "1       Yes             Asian      903  \n",
       "2        No             Asian      580  \n",
       "3        No             Asian      964  \n",
       "4       Yes         Caucasian      331  \n",
       "..      ...               ...      ...  \n",
       "395     Yes         Caucasian      560  \n",
       "396      No  African American      480  \n",
       "397     Yes         Caucasian      138  \n",
       "398     Yes         Caucasian        0  \n",
       "399      No             Asian      966  \n",
       "\n",
       "[400 rows x 12 columns]"
      ]
     },
     "execution_count": 3,
     "metadata": {},
     "output_type": "execute_result"
    }
   ],
   "source": [
    "df"
   ]
  },
  {
   "cell_type": "code",
   "execution_count": 4,
   "metadata": {},
   "outputs": [],
   "source": [
    "dummies = pd.get_dummies(df[['Gender', 'Student', 'Married','Ethnicity']])"
   ]
  },
  {
   "cell_type": "code",
   "execution_count": null,
   "metadata": {},
   "outputs": [],
   "source": [
    "dummies"
   ]
  },
  {
   "cell_type": "code",
   "execution_count": 5,
   "metadata": {},
   "outputs": [
    {
     "name": "stdout",
     "output_type": "stream",
     "text": [
      "<class 'pandas.core.frame.DataFrame'>\n",
      "RangeIndex: 400 entries, 0 to 399\n",
      "Data columns (total 11 columns):\n",
      " #   Column                      Non-Null Count  Dtype  \n",
      "---  ------                      --------------  -----  \n",
      " 0   Income                      400 non-null    float64\n",
      " 1   Limit                       400 non-null    float64\n",
      " 2   Rating                      400 non-null    float64\n",
      " 3   Cards                       400 non-null    float64\n",
      " 4   Age                         400 non-null    float64\n",
      " 5   Education                   400 non-null    float64\n",
      " 6   Gender_Male                 400 non-null    uint8  \n",
      " 7   Student_Yes                 400 non-null    uint8  \n",
      " 8   Married_Yes                 400 non-null    uint8  \n",
      " 9   Ethnicity_African American  400 non-null    uint8  \n",
      " 10  Ethnicity_Asian             400 non-null    uint8  \n",
      "dtypes: float64(6), uint8(5)\n",
      "memory usage: 20.8 KB\n"
     ]
    }
   ],
   "source": [
    "y = df.Balance\n",
    "\n",
    "# Drop the column with the independent variable (Balance), and columns for which we created dummy variables\n",
    "X_ = df.drop(['ID','Gender', 'Student', 'Married','Ethnicity','Balance'], axis = 1).astype('float64')\n",
    "\n",
    "# Define the feature set X.\n",
    "X = pd.concat([X_, dummies[['Gender_Male', 'Student_Yes', 'Married_Yes','Ethnicity_African American','Ethnicity_Asian']]], axis = 1)\n",
    "\n",
    "X.info()"
   ]
  },
  {
   "cell_type": "code",
   "execution_count": null,
   "metadata": {},
   "outputs": [],
   "source": [
    "y"
   ]
  },
  {
   "cell_type": "code",
   "execution_count": 6,
   "metadata": {},
   "outputs": [
    {
     "data": {
      "text/plain": [
       "array([5.00000000e+04, 4.24876718e+04, 3.61040451e+04, 3.06795364e+04,\n",
       "       2.60700414e+04, 2.21531073e+04, 1.88246790e+04, 1.59963357e+04,\n",
       "       1.35929412e+04, 1.15506485e+04, 9.81520325e+03, 8.34050269e+03,\n",
       "       7.08737081e+03, 6.02251770e+03, 5.11765511e+03, 4.34874501e+03,\n",
       "       3.69536102e+03, 3.14014572e+03, 2.66834962e+03, 2.26743925e+03,\n",
       "       1.92676430e+03, 1.63727458e+03, 1.39127970e+03, 1.18224471e+03,\n",
       "       1.00461650e+03, 8.53676324e+02, 7.25414389e+02, 6.16423370e+02,\n",
       "       5.23807876e+02, 4.45107543e+02, 3.78231664e+02, 3.21403656e+02,\n",
       "       2.73113861e+02, 2.32079442e+02, 1.97210303e+02, 1.67580133e+02,\n",
       "       1.42401793e+02, 1.21006413e+02, 1.02825615e+02, 8.73764200e+01,\n",
       "       7.42484131e+01, 6.30928442e+01, 5.36133611e+01, 4.55581378e+01,\n",
       "       3.87131841e+01, 3.28966612e+01, 2.79540509e+01, 2.37540508e+01,\n",
       "       2.01850863e+01, 1.71523464e+01, 1.45752653e+01, 1.23853818e+01,\n",
       "       1.05245207e+01, 8.94324765e+00, 7.59955541e+00, 6.45774833e+00,\n",
       "       5.48749383e+00, 4.66301673e+00, 3.96241449e+00, 3.36707533e+00,\n",
       "       2.86118383e+00, 2.43130079e+00, 2.06600620e+00, 1.75559587e+00,\n",
       "       1.49182362e+00, 1.26768225e+00, 1.07721735e+00, 9.15369140e-01,\n",
       "       7.77838072e-01, 6.60970574e-01, 5.61662016e-01, 4.77274228e-01,\n",
       "       4.05565415e-01, 3.44630605e-01, 2.92851041e-01, 2.48851178e-01,\n",
       "       2.11462144e-01, 1.79690683e-01, 1.52692775e-01, 1.29751211e-01,\n",
       "       1.10256537e-01, 9.36908711e-02, 7.96141397e-02, 6.76523887e-02,\n",
       "       5.74878498e-02, 4.88504979e-02, 4.15108784e-02, 3.52740116e-02,\n",
       "       2.99742125e-02, 2.54706901e-02, 2.16438064e-02, 1.83918989e-02,\n",
       "       1.56285792e-02, 1.32804389e-02, 1.12850986e-02, 9.58955131e-03,\n",
       "       8.14875417e-03, 6.92443186e-03, 5.88405976e-03, 5.00000000e-03])"
      ]
     },
     "execution_count": 6,
     "metadata": {},
     "output_type": "execute_result"
    }
   ],
   "source": [
    "#The Ridge() function has an alpha argument ( λ , but with a different name!) that is used to tune the model. \n",
    "#We'll generate an array of alpha values ranging from very big to very small, essentially covering the full range of scenarios \n",
    "#from the null model containing only the intercept, to the least squares fit\n",
    "alphas = 10**np.linspace(5,-2,100)*0.5\n",
    "alphas"
   ]
  },
  {
   "cell_type": "code",
   "execution_count": 7,
   "metadata": {},
   "outputs": [],
   "source": [
    "from sklearn import preprocessing\n",
    "scaler = preprocessing.StandardScaler()\n",
    "Xscaled = scaler.fit_transform(X)"
   ]
  },
  {
   "cell_type": "code",
   "execution_count": 8,
   "metadata": {},
   "outputs": [
    {
     "data": {
      "text/plain": [
       "(100, 11)"
      ]
     },
     "execution_count": 8,
     "metadata": {},
     "output_type": "execute_result"
    }
   ],
   "source": [
    "ridge = Ridge()\n",
    "coefs = []\n",
    "\n",
    "for a in alphas:\n",
    "    ridge.set_params(alpha = a)\n",
    "    ridge.fit(Xscaled, y)\n",
    "    coefs.append(ridge.coef_)\n",
    "np.shape(coefs)"
   ]
  },
  {
   "cell_type": "code",
   "execution_count": 9,
   "metadata": {},
   "outputs": [
    {
     "data": {
      "text/plain": [
       "Text(0, 0.5, 'weights')"
      ]
     },
     "execution_count": 9,
     "metadata": {},
     "output_type": "execute_result"
    },
    {
     "data": {
      "image/png": "[encoded data removed]",
      "text/plain": [
       "<Figure size 432x288 with 1 Axes>"
      ]
     },
     "metadata": {
      "needs_background": "light"
     },
     "output_type": "display_data"
    }
   ],
   "source": [
    "ax = plt.gca()\n",
    "ax.plot(alphas, coefs)\n",
    "ax.set_xscale('log')\n",
    "plt.axis('tight')\n",
    "plt.xlabel('alpha')\n",
    "plt.ylabel('weights')"
   ]
  },
  {
   "cell_type": "code",
   "execution_count": 10,
   "metadata": {},
   "outputs": [],
   "source": [
    "# Split data into training and test sets\n",
    "X_train, X_test , y_train, y_test = train_test_split(Xscaled, y, test_size=0.2, random_state=1)"
   ]
  },
  {
   "cell_type": "code",
   "execution_count": 11,
   "metadata": {},
   "outputs": [
    {
     "name": "stdout",
     "output_type": "stream",
     "text": [
      "Income                       -266.538920\n",
      "Limit                         316.765026\n",
      "Rating                        289.790990\n",
      "Cards                          18.158109\n",
      "Age                           -12.984617\n",
      "Education                      -1.351949\n",
      "Gender_Male                    -0.201034\n",
      "Student_Yes                   125.605562\n",
      "Married_Yes                    -0.208776\n",
      "Ethnicity_African American     -6.368362\n",
      "Ethnicity_Asian                 4.565187\n",
      "dtype: float64\n",
      "13027.957927624026\n"
     ]
    }
   ],
   "source": [
    "ridge2 = Ridge(alpha = 1)\n",
    "ridge2.fit(X_train, y_train)             # Fit a ridge regression on the training data\n",
    "pred2 = ridge2.predict(X_test)           # Use this model to predict the test data\n",
    "print(pd.Series(ridge2.coef_, index = X.columns)) # Print coefficients\n",
    "print(mean_squared_error(y_test, pred2))          # Calculate the test MSE"
   ]
  },
  {
   "cell_type": "code",
   "execution_count": 12,
   "metadata": {},
   "outputs": [
    {
     "name": "stdout",
     "output_type": "stream",
     "text": [
      "Income                        6.407719e-06\n",
      "Limit                         1.202728e-05\n",
      "Rating                        1.214890e-05\n",
      "Cards                         1.440257e-06\n",
      "Age                           1.627723e-07\n",
      "Education                     7.792693e-08\n",
      "Gender_Male                  -1.242331e-06\n",
      "Student_Yes                   3.413527e-06\n",
      "Married_Yes                   5.313532e-07\n",
      "Ethnicity_African American   -6.461374e-07\n",
      "Ethnicity_Asian               4.751655e-08\n",
      "dtype: float64\n",
      "256386.5094010435\n"
     ]
    }
   ],
   "source": [
    "ridge3 = Ridge(alpha = 10**10)\n",
    "ridge3.fit(X_train, y_train)             # Fit a ridge regression on the training data\n",
    "pred3 = ridge3.predict(X_test)           # Use this model to predict the test data\n",
    "print(pd.Series(ridge3.coef_, index = X.columns)) # Print coefficients\n",
    "print(mean_squared_error(y_test, pred3))          # Calculate the test MSE"
   ]
  },
  {
   "cell_type": "code",
   "execution_count": 13,
   "metadata": {},
   "outputs": [
    {
     "name": "stdout",
     "output_type": "stream",
     "text": [
      "Income                       -271.021773\n",
      "Limit                         341.630213\n",
      "Rating                        269.497858\n",
      "Cards                          19.005822\n",
      "Age                           -12.698240\n",
      "Education                      -1.566329\n",
      "Gender_Male                     0.001890\n",
      "Student_Yes                   126.400846\n",
      "Married_Yes                    -0.029300\n",
      "Ethnicity_African American     -6.197288\n",
      "Ethnicity_Asian                 4.683719\n",
      "dtype: float64\n",
      "12827.009329624556\n"
     ]
    }
   ],
   "source": [
    "ridge4 = Ridge(alpha = 0)\n",
    "ridge4.fit(X_train, y_train)             # Fit a ridge regression on the training data\n",
    "pred = ridge4.predict(X_test)            # Use this model to predict the test data\n",
    "print(pd.Series(ridge4.coef_, index = X.columns)) # Print coefficients\n",
    "print(mean_squared_error(y_test, pred))           # Calculate the test MSE"
   ]
  },
  {
   "cell_type": "code",
   "execution_count": 14,
   "metadata": {},
   "outputs": [
    {
     "data": {
      "text/plain": [
       "Text(0, 0.5, 'weights')"
      ]
     },
     "execution_count": 14,
     "metadata": {},
     "output_type": "execute_result"
    },
    {
     "data": {
      "image/png": "[encoded data removed]",
      "text/plain": [
       "<Figure size 432x288 with 1 Axes>"
      ]
     },
     "metadata": {
      "needs_background": "light"
     },
     "output_type": "display_data"
    }
   ],
   "source": [
    "lasso = Lasso(max_iter = 10000)\n",
    "coefs = []\n",
    "\n",
    "for a in alphas:\n",
    "    lasso.set_params(alpha=a)\n",
    "    lasso.fit(scale(X_train), y_train)\n",
    "    coefs.append(lasso.coef_)\n",
    "    \n",
    "ax = plt.gca()\n",
    "ax.plot(alphas*2, coefs)\n",
    "ax.set_xscale('log')\n",
    "plt.axis('tight')\n",
    "plt.xlabel('alpha')\n",
    "plt.ylabel('weights')"
   ]
  },
  {
   "cell_type": "code",
   "execution_count": 15,
   "metadata": {},
   "outputs": [
    {
     "name": "stdout",
     "output_type": "stream",
     "text": [
      "85911.48161959123\n"
     ]
    }
   ],
   "source": [
    "lasso2 = Lasso(alpha=100,max_iter = 10000)\n",
    "lasso2.fit(X_train, y_train)             # Fit a Lasso regression on the training data\n",
    "pred2 = lasso2.predict(X_test)           # Use this model to predict the test data\n",
    "lasso2.fit(X_train, y_train)\n",
    "#print(pd.Series(pred.coef_, index = X.columns)) # Print coefficients\n",
    "print(mean_squared_error(y_test, pred2))          # Calculate the test MSE"
   ]
  },
  {
   "cell_type": "code",
   "execution_count": 16,
   "metadata": {},
   "outputs": [
    {
     "data": {
      "text/plain": [
       "Income                         -0.000000\n",
       "Limit                           0.000000\n",
       "Rating                        294.599010\n",
       "Cards                           0.000000\n",
       "Age                            -0.000000\n",
       "Education                       0.000000\n",
       "Gender_Male                    -0.000000\n",
       "Student_Yes                     2.135785\n",
       "Married_Yes                    -0.000000\n",
       "Ethnicity_African American     -0.000000\n",
       "Ethnicity_Asian                 0.000000\n",
       "dtype: float64"
      ]
     },
     "execution_count": 16,
     "metadata": {},
     "output_type": "execute_result"
    }
   ],
   "source": [
    "# Some of the coefficients are now reduced to exactly zero.\n",
    "pd.Series(lasso2.coef_, index=X.columns)"
   ]
  },
  {
   "cell_type": "code",
   "execution_count": 17,
   "metadata": {},
   "outputs": [
    {
     "name": "stdout",
     "output_type": "stream",
     "text": [
      "21609.7069158394\n"
     ]
    }
   ],
   "source": [
    "lasso3 = Lasso(alpha=20,max_iter = 10000)\n",
    "lasso3.fit(X_train, y_train)             # Fit a Lasso regression on the training data\n",
    "pred3 = lasso3.predict(X_test)           # Use this model to predict the test data\n",
    "lasso3.fit(X_train, y_train)\n",
    "print(pd.Series(lasso3.coef_, index = X.columns)) # Print coefficients\n",
    "print(mean_squared_error(y_test, pred3))          # Calculate the test MSE"
   ]
  },
  {
   "cell_type": "code",
   "execution_count": 18,
   "metadata": {},
   "outputs": [
    {
     "data": {
      "text/plain": [
       "Income                       -173.828085\n",
       "Limit                         121.942025\n",
       "Rating                        391.193586\n",
       "Cards                           0.000000\n",
       "Age                            -0.000000\n",
       "Education                       0.000000\n",
       "Gender_Male                    -0.000000\n",
       "Student_Yes                    98.573982\n",
       "Married_Yes                    -0.000000\n",
       "Ethnicity_African American     -0.000000\n",
       "Ethnicity_Asian                 0.000000\n",
       "dtype: float64"
      ]
     },
     "execution_count": 18,
     "metadata": {},
     "output_type": "execute_result"
    }
   ],
   "source": [
    "pd.Series(lasso3.coef_, index=X.columns)"
   ]
  },
  {
   "cell_type": "code",
   "execution_count": 28,
   "metadata": {},
   "outputs": [
    {
     "data": {
      "text/html": [
       "<div>\n",
       "<style scoped>\n",
       "    .dataframe tbody tr th:only-of-type {\n",
       "        vertical-align: middle;\n",
       "    }\n",
       "\n",
       "    .dataframe tbody tr th {\n",
       "        vertical-align: top;\n",
       "    }\n",
       "\n",
       "    .dataframe thead th {\n",
       "        text-align: right;\n",
       "    }\n",
       "</style>\n",
       "<table border=\"1\" class=\"dataframe\">\n",
       "  <thead>\n",
       "    <tr style=\"text-align: right;\">\n",
       "      <th></th>\n",
       "      <th>Lambda</th>\n",
       "      <th>Validation Error</th>\n",
       "    </tr>\n",
       "  </thead>\n",
       "  <tbody>\n",
       "    <tr>\n",
       "      <th>0</th>\n",
       "      <td>0.01000</td>\n",
       "      <td>9573.437258</td>\n",
       "    </tr>\n",
       "    <tr>\n",
       "      <th>1</th>\n",
       "      <td>0.11009</td>\n",
       "      <td>9566.947544</td>\n",
       "    </tr>\n",
       "    <tr>\n",
       "      <th>2</th>\n",
       "      <td>0.21018</td>\n",
       "      <td>9562.637348</td>\n",
       "    </tr>\n",
       "    <tr>\n",
       "      <th>3</th>\n",
       "      <td>0.31027</td>\n",
       "      <td>9559.780419</td>\n",
       "    </tr>\n",
       "    <tr>\n",
       "      <th>4</th>\n",
       "      <td>0.41036</td>\n",
       "      <td>9557.967127</td>\n",
       "    </tr>\n",
       "    <tr>\n",
       "      <th>...</th>\n",
       "      <td>...</td>\n",
       "      <td>...</td>\n",
       "    </tr>\n",
       "    <tr>\n",
       "      <th>995</th>\n",
       "      <td>99.59964</td>\n",
       "      <td>31724.977844</td>\n",
       "    </tr>\n",
       "    <tr>\n",
       "      <th>996</th>\n",
       "      <td>99.69973</td>\n",
       "      <td>31745.907033</td>\n",
       "    </tr>\n",
       "    <tr>\n",
       "      <th>997</th>\n",
       "      <td>99.79982</td>\n",
       "      <td>31766.826165</td>\n",
       "    </tr>\n",
       "    <tr>\n",
       "      <th>998</th>\n",
       "      <td>99.89991</td>\n",
       "      <td>31787.735248</td>\n",
       "    </tr>\n",
       "    <tr>\n",
       "      <th>999</th>\n",
       "      <td>100.00000</td>\n",
       "      <td>31808.634288</td>\n",
       "    </tr>\n",
       "  </tbody>\n",
       "</table>\n",
       "<p>1000 rows × 2 columns</p>\n",
       "</div>"
      ],
      "text/plain": [
       "        Lambda  Validation Error\n",
       "0      0.01000       9573.437258\n",
       "1      0.11009       9566.947544\n",
       "2      0.21018       9562.637348\n",
       "3      0.31027       9559.780419\n",
       "4      0.41036       9557.967127\n",
       "..         ...               ...\n",
       "995   99.59964      31724.977844\n",
       "996   99.69973      31745.907033\n",
       "997   99.79982      31766.826165\n",
       "998   99.89991      31787.735248\n",
       "999  100.00000      31808.634288\n",
       "\n",
       "[1000 rows x 2 columns]"
      ]
     },
     "execution_count": 28,
     "metadata": {},
     "output_type": "execute_result"
    }
   ],
   "source": [
    "from sklearn.model_selection import cross_val_score\n",
    "from sklearn.model_selection import KFold\n",
    "lambdas = np.linspace(0.01,100,num=1000)\n",
    "scoresCV = []\n",
    "for l in lambdas:\n",
    "    RidgeReg = Ridge(alpha=l)\n",
    "    RidgeReg.fit(X_train, y_train)    \n",
    "    scoreCV = cross_val_score(RidgeReg, X_train, y_train, scoring='neg_mean_squared_error',\n",
    "                             cv=KFold(n_splits=10, shuffle=True,\n",
    "                                            random_state=1))\n",
    "    scoresCV.append([l,-1*np.mean(scoreCV)])\n",
    "df = pd.DataFrame(scoresCV,columns=['Lambda','Validation Error'])\n",
    "df"
   ]
  },
  {
   "cell_type": "code",
   "execution_count": 31,
   "metadata": {},
   "outputs": [
    {
     "data": {
      "text/plain": [
       "[<matplotlib.lines.Line2D at 0x2a27fe26a20>]"
      ]
     },
     "execution_count": 31,
     "metadata": {},
     "output_type": "execute_result"
    },
    {
     "data": {
      "image/png": "[encoded data removed]",
      "text/plain": [
       "<Figure size 432x288 with 1 Axes>"
      ]
     },
     "metadata": {
      "needs_background": "light"
     },
     "output_type": "display_data"
    }
   ],
   "source": [
    "plt.plot(df.Lambda,df['Validation Error'])"
   ]
  },
  {
   "cell_type": "code",
   "execution_count": 32,
   "metadata": {},
   "outputs": [
    {
     "data": {
      "text/plain": [
       "0.7778380719652361"
      ]
     },
     "execution_count": 32,
     "metadata": {},
     "output_type": "execute_result"
    }
   ],
   "source": [
    "ridgecv = RidgeCV(alphas = alphas,cv = 10, scoring = 'neg_mean_squared_error')\n",
    "ridgecv.fit(X_train, y_train)\n",
    "ridgecv.alpha_"
   ]
  },
  {
   "cell_type": "code",
   "execution_count": 33,
   "metadata": {},
   "outputs": [
    {
     "data": {
      "text/plain": [
       "12993.478951084773"
      ]
     },
     "execution_count": 33,
     "metadata": {},
     "output_type": "execute_result"
    }
   ],
   "source": [
    "ridge5 = Ridge(alpha = ridgecv.alpha_)\n",
    "ridge5.fit(X_train, y_train)\n",
    "mean_squared_error(y_test, ridge5.predict(X_test))"
   ]
  },
  {
   "cell_type": "code",
   "execution_count": 22,
   "metadata": {},
   "outputs": [
    {
     "data": {
      "text/plain": [
       "Income                         -7.797640\n",
       "Limit                           0.189104\n",
       "Rating                          1.162590\n",
       "Cards                          17.543029\n",
       "Age                            -0.620650\n",
       "Education                      -1.026954\n",
       "Gender_Male                    10.264204\n",
       "Student_Yes                   416.468045\n",
       "Married_Yes                    -9.014495\n",
       "Ethnicity_African American     -9.924146\n",
       "Ethnicity_Asian                 7.066768\n",
       "dtype: float64"
      ]
     },
     "execution_count": 22,
     "metadata": {},
     "output_type": "execute_result"
    }
   ],
   "source": [
    "ridge5.fit(X, y)\n",
    "pd.Series(ridge5.coef_, index = X.columns)"
   ]
  },
  {
   "cell_type": "code",
   "execution_count": 35,
   "metadata": {},
   "outputs": [
    {
     "data": {
      "text/html": [
       "<div>\n",
       "<style scoped>\n",
       "    .dataframe tbody tr th:only-of-type {\n",
       "        vertical-align: middle;\n",
       "    }\n",
       "\n",
       "    .dataframe tbody tr th {\n",
       "        vertical-align: top;\n",
       "    }\n",
       "\n",
       "    .dataframe thead th {\n",
       "        text-align: right;\n",
       "    }\n",
       "</style>\n",
       "<table border=\"1\" class=\"dataframe\">\n",
       "  <thead>\n",
       "    <tr style=\"text-align: right;\">\n",
       "      <th></th>\n",
       "      <th>Lambda</th>\n",
       "      <th>Validation Error</th>\n",
       "    </tr>\n",
       "  </thead>\n",
       "  <tbody>\n",
       "    <tr>\n",
       "      <th>0</th>\n",
       "      <td>0.01000</td>\n",
       "      <td>9573.000400</td>\n",
       "    </tr>\n",
       "    <tr>\n",
       "      <th>1</th>\n",
       "      <td>0.11009</td>\n",
       "      <td>9566.493109</td>\n",
       "    </tr>\n",
       "    <tr>\n",
       "      <th>2</th>\n",
       "      <td>0.21018</td>\n",
       "      <td>9559.280507</td>\n",
       "    </tr>\n",
       "    <tr>\n",
       "      <th>3</th>\n",
       "      <td>0.31027</td>\n",
       "      <td>9552.468447</td>\n",
       "    </tr>\n",
       "    <tr>\n",
       "      <th>4</th>\n",
       "      <td>0.41036</td>\n",
       "      <td>9546.002716</td>\n",
       "    </tr>\n",
       "    <tr>\n",
       "      <th>...</th>\n",
       "      <td>...</td>\n",
       "      <td>...</td>\n",
       "    </tr>\n",
       "    <tr>\n",
       "      <th>995</th>\n",
       "      <td>99.59964</td>\n",
       "      <td>58326.018754</td>\n",
       "    </tr>\n",
       "    <tr>\n",
       "      <th>996</th>\n",
       "      <td>99.69973</td>\n",
       "      <td>58355.516545</td>\n",
       "    </tr>\n",
       "    <tr>\n",
       "      <th>997</th>\n",
       "      <td>99.79982</td>\n",
       "      <td>58383.236909</td>\n",
       "    </tr>\n",
       "    <tr>\n",
       "      <th>998</th>\n",
       "      <td>99.89991</td>\n",
       "      <td>58410.988748</td>\n",
       "    </tr>\n",
       "    <tr>\n",
       "      <th>999</th>\n",
       "      <td>100.00000</td>\n",
       "      <td>58438.772061</td>\n",
       "    </tr>\n",
       "  </tbody>\n",
       "</table>\n",
       "<p>1000 rows × 2 columns</p>\n",
       "</div>"
      ],
      "text/plain": [
       "        Lambda  Validation Error\n",
       "0      0.01000       9573.000400\n",
       "1      0.11009       9566.493109\n",
       "2      0.21018       9559.280507\n",
       "3      0.31027       9552.468447\n",
       "4      0.41036       9546.002716\n",
       "..         ...               ...\n",
       "995   99.59964      58326.018754\n",
       "996   99.69973      58355.516545\n",
       "997   99.79982      58383.236909\n",
       "998   99.89991      58410.988748\n",
       "999  100.00000      58438.772061\n",
       "\n",
       "[1000 rows x 2 columns]"
      ]
     },
     "execution_count": 35,
     "metadata": {},
     "output_type": "execute_result"
    }
   ],
   "source": [
    "from sklearn.model_selection import cross_val_score\n",
    "from sklearn.model_selection import KFold\n",
    "lambdas = np.linspace(0.01,100,num=1000)\n",
    "scoresCV = []\n",
    "for l in lambdas:\n",
    "    lassoReg = Lasso(alpha=l,max_iter=10000)\n",
    "    lassoReg.fit(X_train, y_train)    \n",
    "    scoreCV = cross_val_score(lassoReg, X_train, y_train, scoring='neg_mean_squared_error',\n",
    "                             cv=KFold(n_splits=10, shuffle=True,\n",
    "                                            random_state=1))\n",
    "    scoresCV.append([l,-1*np.mean(scoreCV)])\n",
    "df = pd.DataFrame(scoresCV,columns=['Lambda','Validation Error'])\n",
    "df"
   ]
  },
  {
   "cell_type": "code",
   "execution_count": 36,
   "metadata": {},
   "outputs": [
    {
     "data": {
      "text/plain": [
       "[<matplotlib.lines.Line2D at 0x2a27fcd0320>]"
      ]
     },
     "execution_count": 36,
     "metadata": {},
     "output_type": "execute_result"
    },
    {
     "data": {
      "image/png": "[encoded data removed]",
      "text/plain": [
       "<Figure size 432x288 with 1 Axes>"
      ]
     },
     "metadata": {
      "needs_background": "light"
     },
     "output_type": "display_data"
    }
   ],
   "source": [
    "plt.plot(df.Lambda,df['Validation Error'])"
   ]
  },
  {
   "cell_type": "code",
   "execution_count": 37,
   "metadata": {},
   "outputs": [
    {
     "data": {
      "text/plain": [
       "13003.61472629615"
      ]
     },
     "execution_count": 37,
     "metadata": {},
     "output_type": "execute_result"
    }
   ],
   "source": [
    "lassocv = LassoCV(alphas = None, cv = 10, max_iter = 100000)\n",
    "lassocv.fit(X_train, y_train)\n",
    "lasso.set_params(alpha=lassocv.alpha_)\n",
    "lasso.fit(X_train, y_train)\n",
    "mean_squared_error(y_test, lasso.predict(X_test))"
   ]
  },
  {
   "cell_type": "code",
   "execution_count": 38,
   "metadata": {},
   "outputs": [
    {
     "data": {
      "text/plain": [
       "1.429370225671359"
      ]
     },
     "execution_count": 38,
     "metadata": {},
     "output_type": "execute_result"
    }
   ],
   "source": [
    "lassocv.alpha_"
   ]
  },
  {
   "cell_type": "code",
   "execution_count": 39,
   "metadata": {},
   "outputs": [
    {
     "data": {
      "text/plain": [
       "Income                       -264.010938\n",
       "Limit                         328.279171\n",
       "Rating                        275.865403\n",
       "Cards                          17.474350\n",
       "Age                           -11.830613\n",
       "Education                      -0.000000\n",
       "Gender_Male                    -0.000000\n",
       "Student_Yes                   124.330379\n",
       "Married_Yes                    -0.000000\n",
       "Ethnicity_African American     -5.466792\n",
       "Ethnicity_Asian                 3.495659\n",
       "dtype: float64"
      ]
     },
     "execution_count": 39,
     "metadata": {},
     "output_type": "execute_result"
    }
   ],
   "source": [
    "pd.Series(lasso.coef_, index=X.columns)"
   ]
  },
  {
   "cell_type": "code",
   "execution_count": null,
   "metadata": {},
   "outputs": [],
   "source": []
  }
 ],
 "metadata": {
  "kernelspec": {
   "display_name": "Python 3",
   "language": "python",
   "name": "python3"
  },
  "language_info": {
   "codemirror_mode": {
    "name": "ipython",
    "version": 3
   },
   "file_extension": ".py",
   "mimetype": "text/x-python",
   "name": "python",
   "nbconvert_exporter": "python",
   "pygments_lexer": "ipython3",
   "version": "3.8.3"
  }
 },
 "nbformat": 4,
 "nbformat_minor": 1
}
