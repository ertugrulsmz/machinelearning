{
  "nbformat": 4,
  "nbformat_minor": 0,
  "metadata": {
    "colab": {
      "name": "MultipleInputs-Image-Text.ipynb",
      "provenance": [],
      "collapsed_sections": []
    },
    "kernelspec": {
      "name": "python3",
      "display_name": "Python 3"
    },
    "language_info": {
      "name": "python"
    }
  },
  "cells": [
    {
      "cell_type": "code",
      "metadata": {
        "id": "9Q_S7GVBFCdM"
      },
      "source": [
        "import keras"
      ],
      "execution_count": 1,
      "outputs": []
    },
    {
      "cell_type": "code",
      "metadata": {
        "id": "k2ogVgEMMJ53"
      },
      "source": [
        "# define two sets of inputs\n",
        "inputA = Input(shape=(32,))\n",
        "inputB = Input(shape=(128,))\n",
        "# the first branch operates on the first input\n",
        "x = Dense(8, activation=\"relu\")(inputA)\n",
        "x = Dense(4, activation=\"relu\")(x)\n",
        "x = Model(inputs=inputA, outputs=x)\n",
        "# the second branch opreates on the second input\n",
        "y = Dense(64, activation=\"relu\")(inputB)\n",
        "y = Dense(32, activation=\"relu\")(y)\n",
        "y = Dense(4, activation=\"relu\")(y)\n",
        "y = Model(inputs=inputB, outputs=y)\n",
        "# combine the output of the two branches\n",
        "combined = concatenate([x.output, y.output])\n",
        "# apply a FC layer and then a regression prediction on the\n",
        "# combined outputs\n",
        "z = Dense(2, activation=\"relu\")(combined)\n",
        "z = Dense(1, activation=\"linear\")(z)\n",
        "# our model will accept the inputs of the two branches and\n",
        "# then output a single value\n",
        "model = Model(inputs=[x.input, y.input], outputs=z)"
      ],
      "execution_count": null,
      "outputs": []
    },
    {
      "cell_type": "code",
      "metadata": {
        "id": "nJrc0J2rMT6I"
      },
      "source": [
        "from tensorflow.keras.models import Sequential\n",
        "from tensorflow.keras.layers import BatchNormalization\n",
        "from tensorflow.keras.layers import Conv2D\n",
        "from tensorflow.keras.layers import MaxPooling2D\n",
        "from tensorflow.keras.layers import Activation\n",
        "from tensorflow.keras.layers import Dropout\n",
        "from tensorflow.keras.layers import Dense\n",
        "from tensorflow.keras.layers import Flatten\n",
        "from tensorflow.keras.layers import Input\n",
        "from tensorflow.keras.models import Model\n",
        "\n",
        "def create_mlp(dim, regress=False):\n",
        "\t# define our MLP network\n",
        "\tmodel = Sequential()\n",
        "\tmodel.add(Dense(8, input_dim=dim, activation=\"relu\"))\n",
        "\tmodel.add(Dense(4, activation=\"relu\"))\n",
        "\t# check to see if the regression node should be added\n",
        "\tif regress:\n",
        "\t\tmodel.add(Dense(1, activation=\"linear\"))\n",
        "\t# return our model\n",
        "\treturn model"
      ],
      "execution_count": 2,
      "outputs": []
    },
    {
      "cell_type": "code",
      "metadata": {
        "id": "wneNZc1bMVdd"
      },
      "source": [
        "def create_cnn(width, height, depth, filters=(16, 32, 64), regress=False):\n",
        "\t# initialize the input shape and channel dimension, assuming\n",
        "\n",
        "\tinputShape = (height, width, depth)\n",
        "\tchanDim = -1\n",
        "\t# define the model input\n",
        "\tinputs = Input(shape=inputShape)\n",
        "\t# loop over the number of filters\n",
        "\tfor (i, f) in enumerate(filters):\n",
        "\t\t# if this is the first CONV layer then set the input\n",
        "\t\t# appropriately\n",
        "\t\tif i == 0:\n",
        "\t\t\tx = inputs\n",
        "\t\t# CONV => RELU => BN => POOL\n",
        "\t\tx = Conv2D(f, (3, 3), padding=\"same\")(x)\n",
        "\t\tx = Activation(\"relu\")(x)\n",
        "\t\tx = BatchNormalization(axis=chanDim)(x)\n",
        "\t\tx = MaxPooling2D(pool_size=(2, 2))(x)\n",
        "  \n",
        "\n",
        "  # flatten the volume, then FC => RELU => BN => DROPOUT\n",
        "  x = Flatten()(x)\n",
        "  x = Dense(16)(x)\n",
        "  x = Activation(\"relu\")(x)\n",
        "  x = BatchNormalization(axis=chanDim)(x)\n",
        "  x = Dropout(0.5)(x)\n",
        "  # apply another FC layer, this one to match the number of nodes\n",
        "  # coming out of the MLP\n",
        "  x = Dense(4)(x)\n",
        "  x = Activation(\"relu\")(x)\n",
        "  # check to see if the regression node should be added\n",
        "  if regress:\n",
        "    x = Dense(1, activation=\"linear\")(x)\n",
        "  # construct the CNN\n",
        "  model = Model(inputs, x)\n",
        "  # return the CNN\n",
        "  return model"
      ],
      "execution_count": 7,
      "outputs": []
    },
    {
      "cell_type": "code",
      "metadata": {
        "id": "zLJzYArvMbVV"
      },
      "source": [
        "mlp = create_mlp(trainAttrX.shape[1], regress=False)\n",
        "cnn = create_cnn(64, 64, 3, regress=False)\n",
        "# create the input to our final set of layers as the *output* of both\n",
        "# the MLP and CNN\n",
        "combinedInput = concatenate([mlp.output, cnn.output])\n",
        "# our final FC layer head will have two dense layers, the final one\n",
        "# being our regression head\n",
        "x = Dense(4, activation=\"relu\")(combinedInput)\n",
        "x = Dense(1, activation=\"linear\")(x)\n",
        "\n",
        "\n",
        "# --------------- !!  WARNING -----------------------\n",
        "# Otherwise, to create new model here in this snippet we would define new ix = Input(a,b,c) and iy = Input(t,z,x) we would say output = mlp(x), output2 = cnn(y) \n",
        "#then combinetInput = concatenate(output1,output2). And finally Model([ix,iy] , outputs=x)\n",
        "model = Model(inputs=[mlp.input, cnn.input], outputs=x)"
      ],
      "execution_count": null,
      "outputs": []
    },
    {
      "cell_type": "code",
      "metadata": {
        "id": "kOVWPNf5PC4X"
      },
      "source": [
        "#https://www.pyimagesearch.com/2019/02/04/keras-multiple-inputs-and-mixed-data/"
      ],
      "execution_count": 8,
      "outputs": []
    }
  ]
}