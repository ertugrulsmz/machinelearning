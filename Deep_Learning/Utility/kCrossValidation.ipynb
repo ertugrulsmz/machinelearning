{
  "nbformat": 4,
  "nbformat_minor": 0,
  "metadata": {
    "colab": {
      "name": "kCrossValidation.ipynb",
      "provenance": [],
      "collapsed_sections": []
    },
    "kernelspec": {
      "name": "python3",
      "display_name": "Python 3"
    }
  },
  "cells": [
    {
      "cell_type": "markdown",
      "metadata": {
        "id": "Ec_cPx8_eifL",
        "colab_type": "text"
      },
      "source": [
        "## K-Fold Cross Validation"
      ]
    },
    {
      "cell_type": "markdown",
      "metadata": {
        "id": "sdPEtt22ldlr",
        "colab_type": "text"
      },
      "source": [
        "KFold When dealing with a regression problem.\n",
        "StratifiedKFold When dealing with a classification problem."
      ]
    },
    {
      "cell_type": "code",
      "metadata": {
        "id": "d_JFA3UTlg6R",
        "colab_type": "code",
        "colab": {}
      },
      "source": [
        "import pandas as pd\n",
        "from scipy.stats import zscore\n",
        "from sklearn.model_selection import train_test_split\n",
        "\n",
        "# Read the data set\n",
        "df = pd.read_csv(\n",
        "    \"https://data.heatonresearch.com/data/t81-558/jh-simple-dataset.csv\",\n",
        "    na_values=['NA','?'])\n",
        "\n",
        "# Generate dummies for job\n",
        "df = pd.concat([df,pd.get_dummies(df['job'],prefix=\"job\")],axis=1)\n",
        "df.drop('job', axis=1, inplace=True)\n",
        "\n",
        "# Generate dummies for area\n",
        "df = pd.concat([df,pd.get_dummies(df['area'],prefix=\"area\")],axis=1)\n",
        "df.drop('area', axis=1, inplace=True)\n",
        "\n",
        "# Generate dummies for product\n",
        "df = pd.concat([df,pd.get_dummies(df['product'],prefix=\"product\")],axis=1)\n",
        "df.drop('product', axis=1, inplace=True)\n",
        "\n",
        "# Missing values for income\n",
        "med = df['income'].median()\n",
        "df['income'] = df['income'].fillna(med)\n",
        "\n",
        "# Standardize ranges\n",
        "df['income'] = zscore(df['income'])\n",
        "df['aspect'] = zscore(df['aspect'])\n",
        "df['save_rate'] = zscore(df['save_rate'])\n",
        "df['subscriptions'] = zscore(df['subscriptions'])\n",
        "\n",
        "# Convert to numpy - Classification\n",
        "x_columns = df.columns.drop('age').drop('id')\n",
        "x = df[x_columns].values\n",
        "y = df['age'].values"
      ],
      "execution_count": 1,
      "outputs": []
    },
    {
      "cell_type": "markdown",
      "metadata": {
        "id": "RP9XiuqXnDcO",
        "colab_type": "text"
      },
      "source": [
        "Now that the feature vector is created a 5-fold cross-validation can be performed to generate out of sample predictions. We will assume 500 epochs, and not use early stopping. Later we will see how we can estimate a more optimal epoch count."
      ]
    },
    {
      "cell_type": "code",
      "metadata": {
        "id": "LB6xHa3_nKGi",
        "colab_type": "code",
        "colab": {
          "base_uri": "https://localhost:8080/",
          "height": 204
        },
        "outputId": "a8285b1b-2b4b-4c6c-b6f5-cd075eb235bb"
      },
      "source": [
        "import os\n",
        "import numpy as np\n",
        "from sklearn import metrics\n",
        "from scipy.stats import zscore\n",
        "from sklearn.model_selection import KFold\n",
        "from tensorflow.keras.models import Sequential\n",
        "from tensorflow.keras.layers import Dense, Activation\n",
        "\n",
        "# Cross-Validate\n",
        "kf = KFold(5, shuffle=True, random_state=42) # Use for KFold classification\n",
        "    \n",
        "oos_y = []\n",
        "oos_pred = []\n",
        "\n",
        "fold = 0\n",
        "for train, test in kf.split(x):\n",
        "    fold+=1\n",
        "    print(f\"Fold #{fold}\")\n",
        "   \n",
        "        \n",
        "    x_train = x[train]\n",
        "    y_train = y[train]\n",
        "    x_test = x[test]\n",
        "    y_test = y[test]\n",
        "    \n",
        "    model = Sequential()\n",
        "    model.add(Dense(20, input_dim=x.shape[1], activation='relu'))\n",
        "    model.add(Dense(10, activation='relu'))\n",
        "    model.add(Dense(1))\n",
        "    model.compile(loss='mean_squared_error', optimizer='adam')\n",
        "    \n",
        "    model.fit(x_train,y_train,validation_data=(x_test,y_test),verbose=0,\n",
        "              epochs=500)\n",
        "    \n",
        "    pred = model.predict(x_test)\n",
        "    \n",
        "    oos_y.append(y_test)\n",
        "    oos_pred.append(pred)    \n",
        "\n",
        "    # Measure this fold's RMSE\n",
        "    score = np.sqrt(metrics.mean_squared_error(pred,y_test))\n",
        "    print(f\"Fold score (RMSE): {score}\")\n",
        "\n",
        "# Build the oos prediction list and calculate the error.\n",
        "\n",
        "# get 5 predicts and real value in a single array.\n",
        "oos_y = np.concatenate(oos_y)\n",
        "oos_pred = np.concatenate(oos_pred)\n",
        "score = np.sqrt(metrics.mean_squared_error(oos_pred,oos_y))\n",
        "print(f\"Final, out of sample score (RMSE): {score}\")    \n",
        "    \n",
        "# Write the cross-validated prediction\n",
        "oos_y = pd.DataFrame(oos_y)\n",
        "oos_pred = pd.DataFrame(oos_pred)\n",
        "oosDF = pd.concat( [df, oos_y, oos_pred],axis=1 )\n",
        "#oosDF.to_csv(filename_write,index=False)"
      ],
      "execution_count": 3,
      "outputs": [
        {
          "output_type": "stream",
          "text": [
            "Fold #1\n",
            "Fold score (RMSE): 0.6632884603630015\n",
            "Fold #2\n",
            "Fold score (RMSE): 0.4401315505305907\n",
            "Fold #3\n",
            "Fold score (RMSE): 0.6307427115217248\n",
            "Fold #4\n",
            "Fold score (RMSE): 0.4724969975141028\n",
            "Fold #5\n",
            "Fold score (RMSE): 1.0980368462920707\n",
            "Final, out of sample score (RMSE): 0.7014901367853776\n"
          ],
          "name": "stdout"
        }
      ]
    },
    {
      "cell_type": "markdown",
      "metadata": {
        "id": "3uuLi1ZhWxU-",
        "colab_type": "text"
      },
      "source": [
        "## Training with Cross Validation and Holdout Set"
      ]
    },
    {
      "cell_type": "code",
      "metadata": {
        "id": "DSYaDVzsW2G-",
        "colab_type": "code",
        "colab": {
          "base_uri": "https://localhost:8080/",
          "height": 238
        },
        "outputId": "d4a991f0-858e-4b69-f229-abcb2bed68d9"
      },
      "source": [
        "import pandas as pd\n",
        "import os\n",
        "import numpy as np\n",
        "from sklearn import metrics\n",
        "from scipy.stats import zscore\n",
        "from sklearn.model_selection import KFold\n",
        "\n",
        "# Keep a 10% holdout\n",
        "x_main, x_holdout, y_main, y_holdout = train_test_split(    \n",
        "    x, y, test_size=0.10) \n",
        "\n",
        "\n",
        "# Cross-validate\n",
        "kf = KFold(5)\n",
        "    \n",
        "oos_y = []\n",
        "oos_pred = []\n",
        "fold = 0\n",
        "\n",
        "for train, test in kf.split(x_main):        \n",
        "    fold+=1\n",
        "    print(f\"Fold #{fold}\")\n",
        "        \n",
        "    x_train = x_main[train]\n",
        "    y_train = y_main[train]\n",
        "    x_test = x_main[test]\n",
        "    y_test = y_main[test]\n",
        "    \n",
        "    model = Sequential()\n",
        "    model.add(Dense(20, input_dim=x.shape[1], activation='relu'))\n",
        "    model.add(Dense(5, activation='relu'))\n",
        "    model.add(Dense(1))\n",
        "    model.compile(loss='mean_squared_error', optimizer='adam')\n",
        "    \n",
        "    model.fit(x_train,y_train,validation_data=(x_test,y_test),\n",
        "              verbose=0,epochs=500)\n",
        "    \n",
        "    pred = model.predict(x_test)\n",
        "    \n",
        "    oos_y.append(y_test)\n",
        "    oos_pred.append(pred) \n",
        "\n",
        "    # Measure accuracy\n",
        "    score = np.sqrt(metrics.mean_squared_error(pred,y_test))\n",
        "    print(f\"Fold score (RMSE): {score}\")\n",
        "\n",
        "\n",
        "# Build the oos prediction list and calculate the error.\n",
        "\n",
        "oos_y = np.concatenate(oos_y)\n",
        "oos_pred = np.concatenate(oos_pred)\n",
        "\n",
        "\n",
        "score = np.sqrt(metrics.mean_squared_error(oos_pred,oos_y))\n",
        "print()\n",
        "print(f\"Cross-validated score (RMSE): {score}\")    \n",
        "    \n",
        "# Write the cross-validated prediction (from the last neural network)\n",
        "holdout_pred = model.predict(x_holdout)\n",
        "\n",
        "score = np.sqrt(metrics.mean_squared_error(holdout_pred,y_holdout))\n",
        "print(f\"Holdout score (RMSE): {score}\")"
      ],
      "execution_count": 6,
      "outputs": [
        {
          "output_type": "stream",
          "text": [
            "Fold #1\n",
            "Fold score (RMSE): 0.4729481002221928\n",
            "Fold #2\n",
            "Fold score (RMSE): 0.5145767602555157\n",
            "Fold #3\n",
            "Fold score (RMSE): 0.6695344990507857\n",
            "Fold #4\n",
            "Fold score (RMSE): 0.6548413984788608\n",
            "Fold #5\n",
            "Fold score (RMSE): 0.7175250657172383\n",
            "\n",
            "Cross-validated score (RMSE): 0.6132544447800289\n",
            "Holdout score (RMSE): 1.2032455582252202\n"
          ],
          "name": "stdout"
        }
      ]
    }
  ]
}