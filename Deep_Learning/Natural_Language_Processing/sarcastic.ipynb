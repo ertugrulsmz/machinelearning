{
  "nbformat": 4,
  "nbformat_minor": 0,
  "metadata": {
    "colab": {
      "name": "sarcastic.ipynb",
      "provenance": [],
      "collapsed_sections": []
    },
    "kernelspec": {
      "name": "python3",
      "display_name": "Python 3"
    }
  },
  "cells": [
    {
      "cell_type": "code",
      "metadata": {
        "id": "bcMG4ao5ajfH",
        "colab_type": "code",
        "colab": {}
      },
      "source": [
        "import json\n",
        "import tensorflow as tf\n",
        "\n",
        "from tensorflow.keras.preprocessing.text import Tokenizer\n",
        "from tensorflow.keras.preprocessing.sequence import pad_sequences"
      ],
      "execution_count": 4,
      "outputs": []
    },
    {
      "cell_type": "code",
      "metadata": {
        "id": "K4PGmT5Ba3H5",
        "colab_type": "code",
        "colab": {}
      },
      "source": [
        "vocab_size = 10000\n",
        "embedding_dim = 16\n",
        "max_length = 100\n",
        "trunc_type='post'\n",
        "padding_type='post'\n",
        "oov_tok = \"<OOV>\"\n",
        "training_size = 20000"
      ],
      "execution_count": 5,
      "outputs": []
    },
    {
      "cell_type": "code",
      "metadata": {
        "id": "iP0nDtVNart4",
        "colab_type": "code",
        "colab": {
          "base_uri": "https://localhost:8080/",
          "height": 204
        },
        "outputId": "b4352d10-8575-4bd3-fdf5-87ccdefe524c"
      },
      "source": [
        "!wget --no-check-certificate \\\n",
        "    https://storage.googleapis.com/laurencemoroney-blog.appspot.com/sarcasm.json \\\n",
        "    -O /tmp/sarcasm.json\n"
      ],
      "execution_count": 6,
      "outputs": [
        {
          "output_type": "stream",
          "text": [
            "--2020-09-14 11:41:50--  https://storage.googleapis.com/laurencemoroney-blog.appspot.com/sarcasm.json\n",
            "Resolving storage.googleapis.com (storage.googleapis.com)... 172.217.204.128, 172.217.203.128, 173.194.216.128, ...\n",
            "Connecting to storage.googleapis.com (storage.googleapis.com)|172.217.204.128|:443... connected.\n",
            "HTTP request sent, awaiting response... 200 OK\n",
            "Length: 5643545 (5.4M) [application/json]\n",
            "Saving to: ‘/tmp/sarcasm.json’\n",
            "\n",
            "\r/tmp/sarcasm.json     0%[                    ]       0  --.-KB/s               \r/tmp/sarcasm.json   100%[===================>]   5.38M  --.-KB/s    in 0.03s   \n",
            "\n",
            "2020-09-14 11:41:50 (180 MB/s) - ‘/tmp/sarcasm.json’ saved [5643545/5643545]\n",
            "\n"
          ],
          "name": "stdout"
        }
      ]
    },
    {
      "cell_type": "code",
      "metadata": {
        "id": "tj8Q8EpjataH",
        "colab_type": "code",
        "colab": {}
      },
      "source": [
        "with open(\"/tmp/sarcasm.json\", 'r') as f:\n",
        "    datastore = json.load(f)\n",
        "\n",
        "sentences = []\n",
        "labels = []\n",
        "\n",
        "for item in datastore:\n",
        "    sentences.append(item['headline'])\n",
        "    labels.append(item['is_sarcastic'])"
      ],
      "execution_count": 7,
      "outputs": []
    },
    {
      "cell_type": "code",
      "metadata": {
        "id": "dmhX0D_gayi6",
        "colab_type": "code",
        "colab": {}
      },
      "source": [
        "training_sentences = sentences[0:training_size]\n",
        "testing_sentences = sentences[training_size:]\n",
        "training_labels = labels[0:training_size]\n",
        "testing_labels = labels[training_size:]"
      ],
      "execution_count": 8,
      "outputs": []
    },
    {
      "cell_type": "code",
      "metadata": {
        "id": "eL9Bl5NxbCCr",
        "colab_type": "code",
        "colab": {}
      },
      "source": [
        "tokenizer = Tokenizer(num_words=vocab_size, oov_token=oov_tok)\n",
        "tokenizer.fit_on_texts(training_sentences)\n",
        "\n",
        "word_index = tokenizer.word_index\n",
        "\n",
        "training_sequences = tokenizer.texts_to_sequences(training_sentences)\n",
        "training_padded = pad_sequences(training_sequences, maxlen=max_length, padding=padding_type, truncating=trunc_type)\n",
        "\n",
        "testing_sequences = tokenizer.texts_to_sequences(testing_sentences)\n",
        "testing_padded = pad_sequences(testing_sequences, maxlen=max_length, padding=padding_type, truncating=trunc_type)"
      ],
      "execution_count": 9,
      "outputs": []
    },
    {
      "cell_type": "code",
      "metadata": {
        "id": "iDOYBR3SbMdq",
        "colab_type": "code",
        "colab": {}
      },
      "source": [
        "# Need this block to get it to work with TensorFlow 2.x\n",
        "import numpy as np\n",
        "training_padded = np.array(training_padded)\n",
        "training_labels = np.array(training_labels)\n",
        "testing_padded = np.array(testing_padded)\n",
        "testing_labels = np.array(testing_labels)"
      ],
      "execution_count": 10,
      "outputs": []
    },
    {
      "cell_type": "code",
      "metadata": {
        "id": "_9dkkwuQb0N2",
        "colab_type": "code",
        "colab": {}
      },
      "source": [
        "model = tf.keras.Sequential([\n",
        "    tf.keras.layers.Embedding(vocab_size, embedding_dim, input_length=max_length),\n",
        "    tf.keras.layers.GlobalAveragePooling1D(),\n",
        "    tf.keras.layers.Dense(24, activation='relu'),\n",
        "    tf.keras.layers.Dense(1, activation='sigmoid')\n",
        "])\n",
        "model.compile(loss='binary_crossentropy',optimizer='adam',metrics=['accuracy'])"
      ],
      "execution_count": 11,
      "outputs": []
    },
    {
      "cell_type": "code",
      "metadata": {
        "id": "wA6PTWN1b6ed",
        "colab_type": "code",
        "colab": {
          "base_uri": "https://localhost:8080/",
          "height": 289
        },
        "outputId": "15e38596-4917-489a-8978-8ebbf8b33aa6"
      },
      "source": [
        "model.summary()\n"
      ],
      "execution_count": 12,
      "outputs": [
        {
          "output_type": "stream",
          "text": [
            "Model: \"sequential\"\n",
            "_________________________________________________________________\n",
            "Layer (type)                 Output Shape              Param #   \n",
            "=================================================================\n",
            "embedding (Embedding)        (None, 100, 16)           160000    \n",
            "_________________________________________________________________\n",
            "global_average_pooling1d (Gl (None, 16)                0         \n",
            "_________________________________________________________________\n",
            "dense (Dense)                (None, 24)                408       \n",
            "_________________________________________________________________\n",
            "dense_1 (Dense)              (None, 1)                 25        \n",
            "=================================================================\n",
            "Total params: 160,433\n",
            "Trainable params: 160,433\n",
            "Non-trainable params: 0\n",
            "_________________________________________________________________\n"
          ],
          "name": "stdout"
        }
      ]
    },
    {
      "cell_type": "code",
      "metadata": {
        "id": "-Yd5KYTub9VQ",
        "colab_type": "code",
        "colab": {
          "base_uri": "https://localhost:8080/",
          "height": 1000
        },
        "outputId": "1671d804-717d-45f5-b8c9-a14fc77b5398"
      },
      "source": [
        "num_epochs = 30\n",
        "history = model.fit(training_padded, training_labels, epochs=num_epochs, validation_data=(testing_padded, testing_labels), verbose=2)"
      ],
      "execution_count": 13,
      "outputs": [
        {
          "output_type": "stream",
          "text": [
            "Epoch 1/30\n",
            "625/625 - 3s - loss: 0.6731 - accuracy: 0.5762 - val_loss: 0.6125 - val_accuracy: 0.7818\n",
            "Epoch 2/30\n",
            "625/625 - 2s - loss: 0.4616 - accuracy: 0.8194 - val_loss: 0.4004 - val_accuracy: 0.8335\n",
            "Epoch 3/30\n",
            "625/625 - 2s - loss: 0.3260 - accuracy: 0.8705 - val_loss: 0.3666 - val_accuracy: 0.8419\n",
            "Epoch 4/30\n",
            "625/625 - 2s - loss: 0.2735 - accuracy: 0.8928 - val_loss: 0.3443 - val_accuracy: 0.8520\n",
            "Epoch 5/30\n",
            "625/625 - 2s - loss: 0.2381 - accuracy: 0.9075 - val_loss: 0.3469 - val_accuracy: 0.8554\n",
            "Epoch 6/30\n",
            "625/625 - 2s - loss: 0.2114 - accuracy: 0.9178 - val_loss: 0.3410 - val_accuracy: 0.8569\n",
            "Epoch 7/30\n",
            "625/625 - 2s - loss: 0.1876 - accuracy: 0.9300 - val_loss: 0.3514 - val_accuracy: 0.8524\n",
            "Epoch 8/30\n",
            "625/625 - 2s - loss: 0.1701 - accuracy: 0.9359 - val_loss: 0.3595 - val_accuracy: 0.8553\n",
            "Epoch 9/30\n",
            "625/625 - 2s - loss: 0.1544 - accuracy: 0.9453 - val_loss: 0.3706 - val_accuracy: 0.8554\n",
            "Epoch 10/30\n",
            "625/625 - 2s - loss: 0.1405 - accuracy: 0.9505 - val_loss: 0.4001 - val_accuracy: 0.8435\n",
            "Epoch 11/30\n",
            "625/625 - 2s - loss: 0.1290 - accuracy: 0.9558 - val_loss: 0.4026 - val_accuracy: 0.8504\n",
            "Epoch 12/30\n",
            "625/625 - 2s - loss: 0.1180 - accuracy: 0.9593 - val_loss: 0.4200 - val_accuracy: 0.8486\n",
            "Epoch 13/30\n",
            "625/625 - 2s - loss: 0.1091 - accuracy: 0.9643 - val_loss: 0.4502 - val_accuracy: 0.8384\n",
            "Epoch 14/30\n",
            "625/625 - 2s - loss: 0.1006 - accuracy: 0.9665 - val_loss: 0.4583 - val_accuracy: 0.8432\n",
            "Epoch 15/30\n",
            "625/625 - 2s - loss: 0.0936 - accuracy: 0.9687 - val_loss: 0.4769 - val_accuracy: 0.8433\n",
            "Epoch 16/30\n",
            "625/625 - 2s - loss: 0.0861 - accuracy: 0.9725 - val_loss: 0.5026 - val_accuracy: 0.8411\n",
            "Epoch 17/30\n",
            "625/625 - 2s - loss: 0.0795 - accuracy: 0.9750 - val_loss: 0.5275 - val_accuracy: 0.8356\n",
            "Epoch 18/30\n",
            "625/625 - 2s - loss: 0.0753 - accuracy: 0.9758 - val_loss: 0.5567 - val_accuracy: 0.8320\n",
            "Epoch 19/30\n",
            "625/625 - 2s - loss: 0.0685 - accuracy: 0.9790 - val_loss: 0.5857 - val_accuracy: 0.8308\n",
            "Epoch 20/30\n",
            "625/625 - 2s - loss: 0.0642 - accuracy: 0.9807 - val_loss: 0.5965 - val_accuracy: 0.8331\n",
            "Epoch 21/30\n",
            "625/625 - 2s - loss: 0.0593 - accuracy: 0.9823 - val_loss: 0.6217 - val_accuracy: 0.8322\n",
            "Epoch 22/30\n",
            "625/625 - 2s - loss: 0.0559 - accuracy: 0.9836 - val_loss: 0.6475 - val_accuracy: 0.8301\n",
            "Epoch 23/30\n",
            "625/625 - 2s - loss: 0.0523 - accuracy: 0.9851 - val_loss: 0.6705 - val_accuracy: 0.8284\n",
            "Epoch 24/30\n",
            "625/625 - 2s - loss: 0.0486 - accuracy: 0.9858 - val_loss: 0.6993 - val_accuracy: 0.8258\n",
            "Epoch 25/30\n",
            "625/625 - 2s - loss: 0.0443 - accuracy: 0.9873 - val_loss: 0.7320 - val_accuracy: 0.8250\n",
            "Epoch 26/30\n",
            "625/625 - 2s - loss: 0.0416 - accuracy: 0.9891 - val_loss: 0.7597 - val_accuracy: 0.8238\n",
            "Epoch 27/30\n",
            "625/625 - 2s - loss: 0.0381 - accuracy: 0.9893 - val_loss: 0.7892 - val_accuracy: 0.8226\n",
            "Epoch 28/30\n",
            "625/625 - 2s - loss: 0.0354 - accuracy: 0.9902 - val_loss: 0.8236 - val_accuracy: 0.8211\n",
            "Epoch 29/30\n",
            "625/625 - 2s - loss: 0.0343 - accuracy: 0.9897 - val_loss: 0.8531 - val_accuracy: 0.8196\n",
            "Epoch 30/30\n",
            "625/625 - 2s - loss: 0.0309 - accuracy: 0.9918 - val_loss: 0.8843 - val_accuracy: 0.8174\n"
          ],
          "name": "stdout"
        }
      ]
    },
    {
      "cell_type": "code",
      "metadata": {
        "id": "r5rPFYB_cAzS",
        "colab_type": "code",
        "colab": {
          "base_uri": "https://localhost:8080/",
          "height": 541
        },
        "outputId": "82f9b100-8034-410f-db06-eddd1d84621e"
      },
      "source": [
        "import matplotlib.pyplot as plt\n",
        "\n",
        "\n",
        "def plot_graphs(history, string):\n",
        "  plt.plot(history.history[string])\n",
        "  plt.plot(history.history['val_'+string])\n",
        "  plt.xlabel(\"Epochs\")\n",
        "  plt.ylabel(string)\n",
        "  plt.legend([string, 'val_'+string])\n",
        "  plt.show()\n",
        "  \n",
        "plot_graphs(history, \"accuracy\")\n",
        "plot_graphs(history, \"loss\")"
      ],
      "execution_count": 14,
      "outputs": [
        {
          "output_type": "display_data",
          "data": {
            "image/png": "[encoded data removed]",
            "text/plain": [
              "<Figure size 432x288 with 1 Axes>"
            ]
          },
          "metadata": {
            "tags": [],
            "needs_background": "light"
          }
        },
        {
          "output_type": "display_data",
          "data": {
            "image/png": "[encoded data removed]",
            "text/plain": [
              "<Figure size 432x288 with 1 Axes>"
            ]
          },
          "metadata": {
            "tags": [],
            "needs_background": "light"
          }
        }
      ]
    },
    {
      "cell_type": "code",
      "metadata": {
        "id": "g2PSEvG0cuQo",
        "colab_type": "code",
        "colab": {
          "base_uri": "https://localhost:8080/",
          "height": 88
        },
        "outputId": "eb8b67d2-fd06-4760-e9ec-0381d7d5e72e"
      },
      "source": [
        "reverse_word_index = dict([(value, key) for (key, value) in word_index.items()])\n",
        "\n",
        "def decode_sentence(text):\n",
        "    return ' '.join([reverse_word_index.get(i, '?') for i in text])\n",
        "\n",
        "print(decode_sentence(training_padded[2\n",
        "]))\n",
        "print(training_sentences[2])\n",
        "print(labels[2])"
      ],
      "execution_count": 16,
      "outputs": [
        {
          "output_type": "stream",
          "text": [
            "mom starting to fear son's web series closest thing she will have to grandchild ? ? ? ? ? ? ? ? ? ? ? ? ? ? ? ? ? ? ? ? ? ? ? ? ? ? ? ? ? ? ? ? ? ? ? ? ? ? ? ? ? ? ? ? ? ? ? ? ? ? ? ? ? ? ? ? ? ? ? ? ? ? ? ? ? ? ? ? ? ? ? ? ? ? ? ? ? ? ? ? ? ? ? ? ? ?\n",
            "mom starting to fear son's web series closest thing she will have to grandchild\n",
            "1\n"
          ],
          "name": "stdout"
        }
      ]
    },
    {
      "cell_type": "code",
      "metadata": {
        "id": "SYiUNqVecyGb",
        "colab_type": "code",
        "colab": {
          "base_uri": "https://localhost:8080/",
          "height": 34
        },
        "outputId": "4f4bf72d-dfbf-4921-c749-202d8b25c40a"
      },
      "source": [
        "e = model.layers[0]\n",
        "weights = e.get_weights()[0]\n",
        "print(weights.shape) # shape: (vocab_size, embedding_dim)"
      ],
      "execution_count": 17,
      "outputs": [
        {
          "output_type": "stream",
          "text": [
            "(10000, 16)\n"
          ],
          "name": "stdout"
        }
      ]
    },
    {
      "cell_type": "code",
      "metadata": {
        "id": "yr1R1hczc8cw",
        "colab_type": "code",
        "colab": {
          "base_uri": "https://localhost:8080/",
          "height": 51
        },
        "outputId": "ffa08ac9-545a-4964-ea84-5c510c4dffdd"
      },
      "source": [
        "sentence = [\"granny starting to fear spiders in the garden might be real\", \"game of thrones season finale showing this sunday night\"]\n",
        "sequences = tokenizer.texts_to_sequences(sentence)\n",
        "padded = pad_sequences(sequences, maxlen=max_length, padding=padding_type, truncating=trunc_type)\n",
        "print(model.predict(padded))"
      ],
      "execution_count": 18,
      "outputs": [
        {
          "output_type": "stream",
          "text": [
            "[[9.766971e-01]\n",
            " [4.878044e-04]]\n"
          ],
          "name": "stdout"
        }
      ]
    },
    {
      "cell_type": "code",
      "metadata": {
        "id": "7AiIsDy2dCe_",
        "colab_type": "code",
        "colab": {}
      },
      "source": [
        ""
      ],
      "execution_count": null,
      "outputs": []
    }
  ]
}