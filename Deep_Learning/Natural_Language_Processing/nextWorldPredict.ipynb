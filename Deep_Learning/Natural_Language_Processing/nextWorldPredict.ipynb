{
  "nbformat": 4,
  "nbformat_minor": 0,
  "metadata": {
    "accelerator": "GPU",
    "colab": {
      "name": "Course 3 - Week 4 - Lesson 2 - Notebook.ipynb",
      "provenance": [],
      "toc_visible": true
    },
    "kernelspec": {
      "display_name": "Python 3",
      "name": "python3"
    }
  },
  "cells": [
    {
      "cell_type": "markdown",
      "metadata": {
        "id": "view-in-github",
        "colab_type": "text"
      },
      "source": [
        "<a href=\"https://colab.research.google.com/github/lmoroney/dlaicourse/blob/master/TensorFlow%20In%20Practice/Course%203%20-%20NLP/Course%203%20-%20Week%204%20-%20Lesson%202%20-%20Notebook.ipynb\" target=\"_parent\"><img src=\"https://colab.research.google.com/assets/colab-badge.svg\" alt=\"Open In Colab\"/></a>"
      ]
    },
    {
      "cell_type": "code",
      "metadata": {
        "colab_type": "code",
        "id": "BOwsuGQQY9OL",
        "colab": {}
      },
      "source": [
        "import tensorflow as tf\n",
        "\n",
        "from tensorflow.keras.preprocessing.sequence import pad_sequences\n",
        "from tensorflow.keras.layers import Embedding, LSTM, Dense, Bidirectional\n",
        "from tensorflow.keras.preprocessing.text import Tokenizer\n",
        "from tensorflow.keras.models import Sequential\n",
        "from tensorflow.keras.optimizers import Adam\n",
        "import numpy as np "
      ],
      "execution_count": 1,
      "outputs": []
    },
    {
      "cell_type": "code",
      "metadata": {
        "colab_type": "code",
        "id": "pylt5qZYsWPh",
        "colab": {
          "base_uri": "https://localhost:8080/",
          "height": 204
        },
        "outputId": "8ada50b2-bc44-449a-bbbd-3a9bdef0abc0"
      },
      "source": [
        "!wget --no-check-certificate \\\n",
        "    https://storage.googleapis.com/laurencemoroney-blog.appspot.com/irish-lyrics-eof.txt \\\n",
        "    -O /tmp/irish-lyrics-eof.txt"
      ],
      "execution_count": 2,
      "outputs": [
        {
          "output_type": "stream",
          "text": [
            "--2020-09-16 13:53:37--  https://storage.googleapis.com/laurencemoroney-blog.appspot.com/irish-lyrics-eof.txt\n",
            "Resolving storage.googleapis.com (storage.googleapis.com)... 74.125.142.128, 74.125.20.128, 74.125.135.128, ...\n",
            "Connecting to storage.googleapis.com (storage.googleapis.com)|74.125.142.128|:443... connected.\n",
            "HTTP request sent, awaiting response... 200 OK\n",
            "Length: 68970 (67K) [text/plain]\n",
            "Saving to: ‘/tmp/irish-lyrics-eof.txt’\n",
            "\n",
            "\r          /tmp/iris   0%[                    ]       0  --.-KB/s               \r/tmp/irish-lyrics-e 100%[===================>]  67.35K  --.-KB/s    in 0.001s  \n",
            "\n",
            "2020-09-16 13:53:37 (94.1 MB/s) - ‘/tmp/irish-lyrics-eof.txt’ saved [68970/68970]\n",
            "\n"
          ],
          "name": "stdout"
        }
      ]
    },
    {
      "cell_type": "code",
      "metadata": {
        "colab_type": "code",
        "id": "PRnDnCW-Z7qv",
        "colab": {
          "base_uri": "https://localhost:8080/",
          "height": 34
        },
        "outputId": "7b4aa8d5-2e23-4624-ec1b-99c4f0c4d75e"
      },
      "source": [
        "tokenizer = Tokenizer()\n",
        "\n",
        "data = open('/tmp/irish-lyrics-eof.txt').read()\n",
        "\n",
        "corpus = data.lower().split(\"\\n\")\n",
        "\n",
        "tokenizer.fit_on_texts(corpus)\n",
        "\n",
        "#as word index start from 1, but we have padding values which is 0\n",
        "# so total words including 0 is word.index+1\n",
        "total_words = len(tokenizer.word_index) + 1\n",
        "\n",
        "#print(tokenizer.word_index)\n",
        "print(total_words)\n"
      ],
      "execution_count": 5,
      "outputs": [
        {
          "output_type": "stream",
          "text": [
            "2690\n"
          ],
          "name": "stdout"
        }
      ]
    },
    {
      "cell_type": "code",
      "metadata": {
        "colab_type": "code",
        "id": "soPGVheskaQP",
        "colab": {}
      },
      "source": [
        "input_sequences = []\n",
        "for line in corpus:\n",
        "\ttoken_list = tokenizer.texts_to_sequences([line])[0]\n",
        "\tfor i in range(1, len(token_list)):\n",
        "\t\tn_gram_sequence = token_list[:i+1]\n",
        "\t\tinput_sequences.append(n_gram_sequence)\n",
        "\n",
        "# pad sequences \n",
        "max_sequence_len = max([len(x) for x in input_sequences])\n",
        "input_sequences = np.array(pad_sequences(input_sequences, maxlen=max_sequence_len, padding='pre'))\n",
        "\n",
        "# create predictors and label\n",
        "xs, labels = input_sequences[:,:-1],input_sequences[:,-1]\n",
        "\n",
        "ys = tf.keras.utils.to_categorical(labels, num_classes=total_words)"
      ],
      "execution_count": 7,
      "outputs": []
    },
    {
      "cell_type": "code",
      "metadata": {
        "colab_type": "code",
        "id": "pJtwVB2NbOAP",
        "colab": {
          "base_uri": "https://localhost:8080/",
          "height": 153
        },
        "outputId": "e21b1969-a789-46b0-c58c-2198dc4fee2c"
      },
      "source": [
        "print(tokenizer.word_index['in'])\n",
        "print(tokenizer.word_index['the'])\n",
        "print(tokenizer.word_index['town'])\n",
        "print(tokenizer.word_index['of'])\n",
        "print(tokenizer.word_index['athy'])\n",
        "print(tokenizer.word_index['one'])\n",
        "print(tokenizer.word_index['jeremy'])\n",
        "print(tokenizer.word_index['lanigan'])"
      ],
      "execution_count": 8,
      "outputs": [
        {
          "output_type": "stream",
          "text": [
            "8\n",
            "1\n",
            "71\n",
            "6\n",
            "713\n",
            "39\n",
            "1790\n",
            "1791\n"
          ],
          "name": "stdout"
        }
      ]
    },
    {
      "cell_type": "code",
      "metadata": {
        "colab_type": "code",
        "id": "49Cv68JOakwv",
        "colab": {
          "base_uri": "https://localhost:8080/",
          "height": 34
        },
        "outputId": "1bec9a1a-1528-4649-ebc0-95530cfb2f37"
      },
      "source": [
        "print(xs[6])"
      ],
      "execution_count": 9,
      "outputs": [
        {
          "output_type": "stream",
          "text": [
            "[0 0 0 0 0 0 0 0 0 0 0 0 0 0 2]\n"
          ],
          "name": "stdout"
        }
      ]
    },
    {
      "cell_type": "code",
      "metadata": {
        "colab_type": "code",
        "id": "iY-jwvfgbEF8",
        "colab": {
          "base_uri": "https://localhost:8080/",
          "height": 34
        },
        "outputId": "09523374-2a34-48bd-8bf4-38075f1e0c31"
      },
      "source": [
        "print(ys[6])"
      ],
      "execution_count": 10,
      "outputs": [
        {
          "output_type": "stream",
          "text": [
            "[0. 0. 0. ... 0. 0. 0.]\n"
          ],
          "name": "stdout"
        }
      ]
    },
    {
      "cell_type": "code",
      "metadata": {
        "colab_type": "code",
        "id": "wtzlUMYadhKt",
        "colab": {
          "base_uri": "https://localhost:8080/",
          "height": 68
        },
        "outputId": "ad12149f-e8ef-4ff7-b8d3-a966b52936c6"
      },
      "source": [
        "print(xs[5])\n",
        "print(ys[5])"
      ],
      "execution_count": 11,
      "outputs": [
        {
          "output_type": "stream",
          "text": [
            "[   0    0    0    0    0    0    0    0    0   51   12   96 1217   48\n",
            "    2]\n",
            "[0. 0. 0. ... 0. 0. 0.]\n"
          ],
          "name": "stdout"
        }
      ]
    },
    {
      "cell_type": "code",
      "metadata": {
        "colab_type": "code",
        "id": "w9vH8Y59ajYL",
        "colab": {
          "base_uri": "https://localhost:8080/",
          "height": 1000
        },
        "outputId": "5f73f78b-8927-48ac-b15e-b279f3d0dd63"
      },
      "source": [
        "model = Sequential()\n",
        "model.add(Embedding(total_words, 100, input_length=max_sequence_len-1))\n",
        "model.add(Bidirectional(LSTM(150)))\n",
        "model.add(Dense(total_words, activation='softmax'))\n",
        "adam = Adam(lr=0.01)\n",
        "model.compile(loss='categorical_crossentropy', optimizer=adam, metrics=['accuracy'])\n",
        "#earlystop = EarlyStopping(monitor='val_loss', min_delta=0, patience=5, verbose=0, mode='auto')\n",
        "history = model.fit(xs, ys, epochs=100, verbose=1)\n",
        "#print model.summary()\n",
        "print(model)\n"
      ],
      "execution_count": 13,
      "outputs": [
        {
          "output_type": "stream",
          "text": [
            "Epoch 1/100\n",
            "377/377 [==============================] - 4s 10ms/step - loss: 6.6722 - accuracy: 0.0724\n",
            "Epoch 2/100\n",
            "377/377 [==============================] - 4s 10ms/step - loss: 5.8091 - accuracy: 0.1128\n",
            "Epoch 3/100\n",
            "377/377 [==============================] - 4s 10ms/step - loss: 4.9764 - accuracy: 0.1582\n",
            "Epoch 4/100\n",
            "377/377 [==============================] - 4s 10ms/step - loss: 4.1132 - accuracy: 0.2221\n",
            "Epoch 5/100\n",
            "377/377 [==============================] - 4s 10ms/step - loss: 3.2830 - accuracy: 0.3183\n",
            "Epoch 6/100\n",
            "377/377 [==============================] - 4s 10ms/step - loss: 2.5945 - accuracy: 0.4212\n",
            "Epoch 7/100\n",
            "377/377 [==============================] - 4s 10ms/step - loss: 2.1046 - accuracy: 0.5090\n",
            "Epoch 8/100\n",
            "377/377 [==============================] - 4s 10ms/step - loss: 1.8890 - accuracy: 0.5572\n",
            "Epoch 9/100\n",
            "377/377 [==============================] - 4s 10ms/step - loss: 1.6814 - accuracy: 0.6006\n",
            "Epoch 10/100\n",
            "377/377 [==============================] - 4s 10ms/step - loss: 1.3664 - accuracy: 0.6686\n",
            "Epoch 11/100\n",
            "377/377 [==============================] - 4s 10ms/step - loss: 1.1913 - accuracy: 0.7075\n",
            "Epoch 12/100\n",
            "377/377 [==============================] - 4s 10ms/step - loss: 1.1308 - accuracy: 0.7237\n",
            "Epoch 13/100\n",
            "377/377 [==============================] - 4s 10ms/step - loss: 1.0970 - accuracy: 0.7257\n",
            "Epoch 14/100\n",
            "377/377 [==============================] - 4s 10ms/step - loss: 1.1034 - accuracy: 0.7206\n",
            "Epoch 15/100\n",
            "377/377 [==============================] - 4s 10ms/step - loss: 1.1362 - accuracy: 0.7103\n",
            "Epoch 16/100\n",
            "377/377 [==============================] - 4s 10ms/step - loss: 1.1089 - accuracy: 0.7178\n",
            "Epoch 17/100\n",
            "377/377 [==============================] - 4s 10ms/step - loss: 1.1381 - accuracy: 0.7088\n",
            "Epoch 18/100\n",
            "377/377 [==============================] - 4s 10ms/step - loss: 1.0690 - accuracy: 0.7251\n",
            "Epoch 19/100\n",
            "377/377 [==============================] - 4s 10ms/step - loss: 1.0964 - accuracy: 0.7314\n",
            "Epoch 20/100\n",
            "377/377 [==============================] - 4s 10ms/step - loss: 1.0682 - accuracy: 0.7260\n",
            "Epoch 21/100\n",
            "377/377 [==============================] - 4s 10ms/step - loss: 1.0533 - accuracy: 0.7263\n",
            "Epoch 22/100\n",
            "377/377 [==============================] - 4s 10ms/step - loss: 1.0641 - accuracy: 0.7335\n",
            "Epoch 23/100\n",
            "377/377 [==============================] - 4s 10ms/step - loss: 1.0872 - accuracy: 0.7298\n",
            "Epoch 24/100\n",
            "377/377 [==============================] - 4s 10ms/step - loss: 1.1644 - accuracy: 0.7105\n",
            "Epoch 25/100\n",
            "377/377 [==============================] - 4s 10ms/step - loss: 1.1768 - accuracy: 0.7098\n",
            "Epoch 26/100\n",
            "377/377 [==============================] - 4s 10ms/step - loss: 1.1196 - accuracy: 0.7201\n",
            "Epoch 27/100\n",
            "377/377 [==============================] - 4s 10ms/step - loss: 1.0529 - accuracy: 0.7322\n",
            "Epoch 28/100\n",
            "377/377 [==============================] - 4s 10ms/step - loss: 0.9799 - accuracy: 0.7490\n",
            "Epoch 29/100\n",
            "377/377 [==============================] - 4s 10ms/step - loss: 1.0554 - accuracy: 0.7358\n",
            "Epoch 30/100\n",
            "377/377 [==============================] - 4s 10ms/step - loss: 1.0795 - accuracy: 0.7236\n",
            "Epoch 31/100\n",
            "377/377 [==============================] - 4s 10ms/step - loss: 1.0301 - accuracy: 0.7400\n",
            "Epoch 32/100\n",
            "377/377 [==============================] - 4s 10ms/step - loss: 1.0247 - accuracy: 0.7426\n",
            "Epoch 33/100\n",
            "377/377 [==============================] - 4s 10ms/step - loss: 1.0291 - accuracy: 0.7387\n",
            "Epoch 34/100\n",
            "377/377 [==============================] - 4s 11ms/step - loss: 1.0582 - accuracy: 0.7284\n",
            "Epoch 35/100\n",
            "377/377 [==============================] - 4s 11ms/step - loss: 1.0660 - accuracy: 0.7322\n",
            "Epoch 36/100\n",
            "377/377 [==============================] - 4s 10ms/step - loss: 1.0238 - accuracy: 0.7411\n",
            "Epoch 37/100\n",
            "377/377 [==============================] - 4s 10ms/step - loss: 0.9913 - accuracy: 0.7481\n",
            "Epoch 38/100\n",
            "377/377 [==============================] - 4s 10ms/step - loss: 0.9752 - accuracy: 0.7516\n",
            "Epoch 39/100\n",
            "377/377 [==============================] - 4s 10ms/step - loss: 1.0264 - accuracy: 0.7394\n",
            "Epoch 40/100\n",
            "377/377 [==============================] - 4s 10ms/step - loss: 1.0591 - accuracy: 0.7300\n",
            "Epoch 41/100\n",
            "377/377 [==============================] - 4s 9ms/step - loss: 1.0949 - accuracy: 0.7276\n",
            "Epoch 42/100\n",
            "377/377 [==============================] - 4s 10ms/step - loss: 1.0757 - accuracy: 0.7272\n",
            "Epoch 43/100\n",
            "377/377 [==============================] - 4s 10ms/step - loss: 1.0323 - accuracy: 0.7352\n",
            "Epoch 44/100\n",
            "377/377 [==============================] - 4s 9ms/step - loss: 0.9638 - accuracy: 0.7527\n",
            "Epoch 45/100\n",
            "377/377 [==============================] - 4s 10ms/step - loss: 0.9775 - accuracy: 0.7514\n",
            "Epoch 46/100\n",
            "377/377 [==============================] - 4s 10ms/step - loss: 1.0500 - accuracy: 0.7373\n",
            "Epoch 47/100\n",
            "377/377 [==============================] - 4s 10ms/step - loss: 1.0968 - accuracy: 0.7288\n",
            "Epoch 48/100\n",
            "377/377 [==============================] - 4s 10ms/step - loss: 1.0406 - accuracy: 0.7386\n",
            "Epoch 49/100\n",
            "377/377 [==============================] - 4s 10ms/step - loss: 1.0281 - accuracy: 0.7449\n",
            "Epoch 50/100\n",
            "377/377 [==============================] - 4s 10ms/step - loss: 1.0538 - accuracy: 0.7382\n",
            "Epoch 51/100\n",
            "377/377 [==============================] - 4s 10ms/step - loss: 1.0450 - accuracy: 0.7378\n",
            "Epoch 52/100\n",
            "377/377 [==============================] - 4s 10ms/step - loss: 1.0707 - accuracy: 0.7283\n",
            "Epoch 53/100\n",
            "377/377 [==============================] - 4s 10ms/step - loss: 1.0556 - accuracy: 0.7358\n",
            "Epoch 54/100\n",
            "377/377 [==============================] - 4s 10ms/step - loss: 1.1185 - accuracy: 0.7188\n",
            "Epoch 55/100\n",
            "377/377 [==============================] - 4s 10ms/step - loss: 1.0847 - accuracy: 0.7250\n",
            "Epoch 56/100\n",
            "377/377 [==============================] - 4s 10ms/step - loss: 1.0247 - accuracy: 0.7432\n",
            "Epoch 57/100\n",
            "377/377 [==============================] - 4s 10ms/step - loss: 0.9735 - accuracy: 0.7518\n",
            "Epoch 58/100\n",
            "377/377 [==============================] - 4s 10ms/step - loss: 0.9474 - accuracy: 0.7577\n",
            "Epoch 59/100\n",
            "377/377 [==============================] - 4s 10ms/step - loss: 0.9283 - accuracy: 0.7662\n",
            "Epoch 60/100\n",
            "377/377 [==============================] - 4s 10ms/step - loss: 0.9071 - accuracy: 0.7713\n",
            "Epoch 61/100\n",
            "377/377 [==============================] - 4s 10ms/step - loss: 0.8720 - accuracy: 0.7784\n",
            "Epoch 62/100\n",
            "377/377 [==============================] - 4s 10ms/step - loss: 0.8728 - accuracy: 0.7800\n",
            "Epoch 63/100\n",
            "377/377 [==============================] - 4s 10ms/step - loss: 0.9719 - accuracy: 0.7548\n",
            "Epoch 64/100\n",
            "377/377 [==============================] - 4s 10ms/step - loss: 1.0263 - accuracy: 0.7396\n",
            "Epoch 65/100\n",
            "377/377 [==============================] - 4s 10ms/step - loss: 1.0835 - accuracy: 0.7274\n",
            "Epoch 66/100\n",
            "377/377 [==============================] - 4s 10ms/step - loss: 1.1805 - accuracy: 0.7073\n",
            "Epoch 67/100\n",
            "377/377 [==============================] - 4s 10ms/step - loss: 1.1710 - accuracy: 0.7123\n",
            "Epoch 68/100\n",
            "377/377 [==============================] - 4s 10ms/step - loss: 1.0782 - accuracy: 0.7284\n",
            "Epoch 69/100\n",
            "377/377 [==============================] - 4s 10ms/step - loss: 0.9457 - accuracy: 0.7603\n",
            "Epoch 70/100\n",
            "377/377 [==============================] - 4s 10ms/step - loss: 0.9095 - accuracy: 0.7696\n",
            "Epoch 71/100\n",
            "377/377 [==============================] - 4s 10ms/step - loss: 0.9008 - accuracy: 0.7736\n",
            "Epoch 72/100\n",
            "377/377 [==============================] - 4s 10ms/step - loss: 0.9362 - accuracy: 0.7645\n",
            "Epoch 73/100\n",
            "377/377 [==============================] - 4s 10ms/step - loss: 0.9484 - accuracy: 0.7593\n",
            "Epoch 74/100\n",
            "377/377 [==============================] - 4s 10ms/step - loss: 1.0038 - accuracy: 0.7538\n",
            "Epoch 75/100\n",
            "377/377 [==============================] - 4s 10ms/step - loss: 1.0503 - accuracy: 0.7418\n",
            "Epoch 76/100\n",
            "377/377 [==============================] - 4s 10ms/step - loss: 1.0593 - accuracy: 0.7388\n",
            "Epoch 77/100\n",
            "377/377 [==============================] - 4s 10ms/step - loss: 1.0381 - accuracy: 0.7421\n",
            "Epoch 78/100\n",
            "377/377 [==============================] - 4s 10ms/step - loss: 1.0921 - accuracy: 0.7381\n",
            "Epoch 79/100\n",
            "377/377 [==============================] - 4s 10ms/step - loss: 1.0165 - accuracy: 0.7461\n",
            "Epoch 80/100\n",
            "377/377 [==============================] - 4s 10ms/step - loss: 0.9839 - accuracy: 0.7579\n",
            "Epoch 81/100\n",
            "377/377 [==============================] - 4s 10ms/step - loss: 0.9663 - accuracy: 0.7624\n",
            "Epoch 82/100\n",
            "377/377 [==============================] - 4s 10ms/step - loss: 1.0073 - accuracy: 0.7560\n",
            "Epoch 83/100\n",
            "377/377 [==============================] - 4s 10ms/step - loss: 1.0862 - accuracy: 0.7370\n",
            "Epoch 84/100\n",
            "377/377 [==============================] - 4s 10ms/step - loss: 1.1050 - accuracy: 0.7318\n",
            "Epoch 85/100\n",
            "377/377 [==============================] - 4s 10ms/step - loss: 1.0746 - accuracy: 0.7361\n",
            "Epoch 86/100\n",
            "377/377 [==============================] - 4s 10ms/step - loss: 1.0773 - accuracy: 0.7338\n",
            "Epoch 87/100\n",
            "377/377 [==============================] - 4s 10ms/step - loss: 1.0087 - accuracy: 0.7500\n",
            "Epoch 88/100\n",
            "377/377 [==============================] - 4s 10ms/step - loss: 0.9594 - accuracy: 0.7609\n",
            "Epoch 89/100\n",
            "377/377 [==============================] - 4s 10ms/step - loss: 0.9346 - accuracy: 0.7708\n",
            "Epoch 90/100\n",
            "377/377 [==============================] - 4s 10ms/step - loss: 0.9089 - accuracy: 0.7745\n",
            "Epoch 91/100\n",
            "377/377 [==============================] - 4s 10ms/step - loss: 0.9203 - accuracy: 0.7695\n",
            "Epoch 92/100\n",
            "377/377 [==============================] - 4s 10ms/step - loss: 0.9210 - accuracy: 0.7686\n",
            "Epoch 93/100\n",
            "377/377 [==============================] - 4s 10ms/step - loss: 1.0032 - accuracy: 0.7511\n",
            "Epoch 94/100\n",
            "377/377 [==============================] - 4s 10ms/step - loss: 1.1265 - accuracy: 0.7283\n",
            "Epoch 95/100\n",
            "377/377 [==============================] - 4s 10ms/step - loss: 1.1135 - accuracy: 0.7301\n",
            "Epoch 96/100\n",
            "377/377 [==============================] - 4s 10ms/step - loss: 1.0283 - accuracy: 0.7461\n",
            "Epoch 97/100\n",
            "377/377 [==============================] - 4s 10ms/step - loss: 1.0112 - accuracy: 0.7516\n",
            "Epoch 98/100\n",
            "377/377 [==============================] - 4s 10ms/step - loss: 0.9912 - accuracy: 0.7536\n",
            "Epoch 99/100\n",
            "377/377 [==============================] - 4s 10ms/step - loss: 0.9098 - accuracy: 0.7755\n",
            "Epoch 100/100\n",
            "377/377 [==============================] - 4s 10ms/step - loss: 0.9347 - accuracy: 0.7686\n",
            "<tensorflow.python.keras.engine.sequential.Sequential object at 0x7fd7ba4e37b8>\n"
          ],
          "name": "stdout"
        }
      ]
    },
    {
      "cell_type": "code",
      "metadata": {
        "colab_type": "code",
        "id": "3YXGelKThoTT",
        "colab": {}
      },
      "source": [
        "import matplotlib.pyplot as plt\n",
        "\n",
        "\n",
        "def plot_graphs(history, string):\n",
        "  plt.plot(history.history[string])\n",
        "  plt.xlabel(\"Epochs\")\n",
        "  plt.ylabel(string)\n",
        "  plt.show()"
      ],
      "execution_count": 14,
      "outputs": []
    },
    {
      "cell_type": "code",
      "metadata": {
        "colab_type": "code",
        "id": "poeprYK8h-c7",
        "colab": {
          "base_uri": "https://localhost:8080/",
          "height": 541
        },
        "outputId": "ea84bf58-a08d-4c3a-d5bb-cbcfac26f5ba"
      },
      "source": [
        "plot_graphs(history, 'accuracy')\n",
        "plot_graphs(history,'loss')\n"
      ],
      "execution_count": 16,
      "outputs": [
        {
          "output_type": "display_data",
          "data": {
            "image/png": "[encoded data removed]",
            "text/plain": [
              "<Figure size 432x288 with 1 Axes>"
            ]
          },
          "metadata": {
            "tags": [],
            "needs_background": "light"
          }
        },
        {
          "output_type": "display_data",
          "data": {
            "image/png": "[encoded data removed]",
            "text/plain": [
              "<Figure size 432x288 with 1 Axes>"
            ]
          },
          "metadata": {
            "tags": [],
            "needs_background": "light"
          }
        }
      ]
    },
    {
      "cell_type": "code",
      "metadata": {
        "colab_type": "code",
        "id": "6Vc6PHgxa6Hm",
        "colab": {
          "base_uri": "https://localhost:8080/",
          "height": 34
        },
        "outputId": "225fa664-9201-4912-9fba-de63a65c27b5"
      },
      "source": [
        "seed_text = \"long time\"\n",
        "next_words = 10\n",
        "  \n",
        "for _ in range(next_words):\n",
        "\ttoken_list = tokenizer.texts_to_sequences([seed_text])[0]\n",
        "\ttoken_list = pad_sequences([token_list], maxlen=max_sequence_len-1, padding='pre')\n",
        "\tpredicted = model.predict_classes(token_list, verbose=0)\n",
        "\toutput_word = \"\"\n",
        "\tfor word, index in tokenizer.word_index.items():\n",
        "\t\tif index == predicted:\n",
        "\t\t\toutput_word = word\n",
        "\t\t\tbreak\n",
        "\tseed_text += \" \" + output_word\n",
        "print(seed_text)"
      ],
      "execution_count": 56,
      "outputs": [
        {
          "output_type": "stream",
          "text": [
            "long time ago came we can sit and sport and play wid\n"
          ],
          "name": "stdout"
        }
      ]
    },
    {
      "cell_type": "markdown",
      "metadata": {
        "id": "RW5vfLsWRqAq",
        "colab_type": "text"
      },
      "source": [
        "Another Seed Text And Completion Method"
      ]
    },
    {
      "cell_type": "code",
      "metadata": {
        "id": "CrAf-yXvUeyQ",
        "colab_type": "code",
        "colab": {}
      },
      "source": [
        "def mergeInputAndPrediction(input,prediction):\n",
        "  for i in range(len(input)):\n",
        "    if input[i]!=0:\n",
        "      break\n",
        "  # do sliding\n",
        "  j = i\n",
        "  for j in range(len(input)):\n",
        "    if j>0:\n",
        "      input[j-1] = input[j]  \n",
        "  input[j] = prediction\n",
        "\n",
        "reversed_word_index = dict([(value,key) for (key,value) in tokenizer.word_index.items()])\n"
      ],
      "execution_count": 29,
      "outputs": []
    },
    {
      "cell_type": "code",
      "metadata": {
        "id": "EHpApOVDRWCu",
        "colab_type": "code",
        "colab": {
          "base_uri": "https://localhost:8080/",
          "height": 34
        },
        "outputId": "a7c9fe7f-c9b4-4973-b5ad-7fb3a0e54c6b"
      },
      "source": [
        "seed_text = \"long time\"\n",
        "next_words = 10\n",
        "print(seed_text,end='')\n",
        "\n",
        "\n",
        "sequence_seed = tokenizer.texts_to_sequences([seed_text])\n",
        "pad_seed = pad_sequences(sequence_seed,maxlen=max_sequence_len-1,padding='pre')\n",
        "\n",
        "for i in range(next_words):\n",
        "  predicted_word = model.predict_classes(pad_seed)[0]\n",
        "  print(\"\",reversed_word_index[predicted_word],end='')\n",
        "  mergeInputAndPrediction(pad_seed[0],predicted_word)\n",
        "\n",
        "\n",
        "\n",
        "\n"
      ],
      "execution_count": 57,
      "outputs": [
        {
          "output_type": "stream",
          "text": [
            "long time ago came we can sit and sport and play wid"
          ],
          "name": "stdout"
        }
      ]
    }
  ]
}