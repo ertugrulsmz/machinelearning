{
  "nbformat": 4,
  "nbformat_minor": 0,
  "metadata": {
    "colab": {
      "name": "autoEncoder_bps.ipynb",
      "provenance": [],
      "collapsed_sections": [],
      "toc_visible": true
    },
    "kernelspec": {
      "name": "python3",
      "display_name": "Python 3"
    },
    "accelerator": "GPU"
  },
  "cells": [
    {
      "cell_type": "code",
      "metadata": {
        "id": "25B3bOP-R3dm",
        "outputId": "00464dc9-9280-41b2-f2a1-ee571793072b",
        "colab": {
          "base_uri": "https://localhost:8080/",
          "height": 68
        }
      },
      "source": [
        "\n",
        "!pip install -qq arff2pandas\n",
        "!pip install -q -U watermark\n",
        "!pip install -qq -U pandas\n"
      ],
      "execution_count": null,
      "outputs": [
        {
          "output_type": "stream",
          "text": [
            "  Building wheel for arff2pandas (setup.py) ... \u001b[?25l\u001b[?25hdone\n",
            "  Building wheel for liac-arff (setup.py) ... \u001b[?25l\u001b[?25hdone\n",
            "\u001b[K     |████████████████████████████████| 9.5MB 4.3MB/s \n",
            "\u001b[?25h"
          ],
          "name": "stdout"
        }
      ]
    },
    {
      "cell_type": "code",
      "metadata": {
        "id": "QnFRs1miSAJY",
        "outputId": "b3e8dd06-46f6-46d8-b779-3aef2237f7ac",
        "colab": {
          "base_uri": "https://localhost:8080/",
          "height": 85
        }
      },
      "source": [
        "!gdown --id 16MIleqoIr1vYxlGk4GKnGmrsCPuWkkpT\n"
      ],
      "execution_count": null,
      "outputs": [
        {
          "output_type": "stream",
          "text": [
            "Downloading...\n",
            "From: https://drive.google.com/uc?id=16MIleqoIr1vYxlGk4GKnGmrsCPuWkkpT\n",
            "To: /content/ECG5000.zip\n",
            "\r0.00B [00:00, ?B/s]\r10.6MB [00:00, 93.7MB/s]\n"
          ],
          "name": "stdout"
        }
      ]
    },
    {
      "cell_type": "code",
      "metadata": {
        "id": "N4XYKQrcTrtk"
      },
      "source": [
        "!unzip -qq ECG5000.zip"
      ],
      "execution_count": null,
      "outputs": []
    },
    {
      "cell_type": "code",
      "metadata": {
        "id": "Avr_dYPXVAVf",
        "outputId": "d605ef02-6332-4ded-ca1e-c51226c66aa3",
        "colab": {
          "base_uri": "https://localhost:8080/",
          "height": 34
        }
      },
      "source": [
        "\n",
        "import torch\n",
        "\n",
        "import copy\n",
        "import numpy as np\n",
        "import pandas as pd\n",
        "import seaborn as sns\n",
        "from pylab import rcParams\n",
        "import matplotlib.pyplot as plt\n",
        "from matplotlib import rc\n",
        "from sklearn.model_selection import train_test_split\n",
        "\n",
        "from torch import nn, optim\n",
        "from torch.utils.data import DataLoader\n",
        "\n",
        "import torch.nn.functional as F\n",
        "from arff2pandas import a2p\n",
        "\n",
        "\n",
        "%matplotlib inline\n",
        "%config InlineBackend.figure_format='retina'\n",
        "\n",
        "sns.set(style='whitegrid', palette='muted', font_scale=1.2)\n",
        "\n",
        "HAPPY_COLORS_PALETTE = [\"#01BEFE\", \"#FFDD00\", \"#FF7D00\", \"#FF006D\", \"#ADFF02\", \"#8F00FF\"]\n",
        "\n",
        "sns.set_palette(sns.color_palette(HAPPY_COLORS_PALETTE))\n",
        "\n",
        "rcParams['figure.figsize'] = 12, 8\n",
        "\n",
        "RANDOM_SEED = 42\n",
        "np.random.seed(RANDOM_SEED)\n",
        "torch.manual_seed(RANDOM_SEED)"
      ],
      "execution_count": 51,
      "outputs": [
        {
          "output_type": "execute_result",
          "data": {
            "text/plain": [
              "<torch._C.Generator at 0x7fc1c2bf1690>"
            ]
          },
          "metadata": {
            "tags": []
          },
          "execution_count": 51
        }
      ]
    },
    {
      "cell_type": "code",
      "metadata": {
        "id": "8YyBiKzUUd55",
        "outputId": "693c7ea2-c4bc-4c2f-c14f-f59961204f7f",
        "colab": {
          "base_uri": "https://localhost:8080/",
          "height": 34
        }
      },
      "source": [
        "device = torch.device(\"cuda\" if torch.cuda.is_available() else \"cpu\")\n",
        "device\n"
      ],
      "execution_count": 52,
      "outputs": [
        {
          "output_type": "execute_result",
          "data": {
            "text/plain": [
              "device(type='cuda')"
            ]
          },
          "metadata": {
            "tags": []
          },
          "execution_count": 52
        }
      ]
    },
    {
      "cell_type": "code",
      "metadata": {
        "id": "12Kyl0OrVDHM"
      },
      "source": [
        "with open('ECG5000_TRAIN.arff') as f:\n",
        "  train = a2p.load(f)\n",
        "\n",
        "with open('ECG5000_TEST.arff') as f:\n",
        "  test = a2p.load(f)"
      ],
      "execution_count": 53,
      "outputs": []
    },
    {
      "cell_type": "code",
      "metadata": {
        "id": "wQMg2fCQXjkb",
        "outputId": "ff9eb8b7-46b6-47a4-b7ac-0b0406ff6ac5",
        "colab": {
          "base_uri": "https://localhost:8080/",
          "height": 34
        }
      },
      "source": [
        "train.shape,test.shape"
      ],
      "execution_count": 54,
      "outputs": [
        {
          "output_type": "execute_result",
          "data": {
            "text/plain": [
              "((500, 141), (4500, 141))"
            ]
          },
          "metadata": {
            "tags": []
          },
          "execution_count": 54
        }
      ]
    },
    {
      "cell_type": "markdown",
      "metadata": {
        "id": "aGLpASpJxjzG"
      },
      "source": [
        "Train Test Data first merge then suffle"
      ]
    },
    {
      "cell_type": "code",
      "metadata": {
        "id": "ewtV97XkXlz6",
        "outputId": "c399fbee-af6b-4677-b776-437f976eb349",
        "colab": {
          "base_uri": "https://localhost:8080/",
          "height": 34
        }
      },
      "source": [
        "df = train.append(test)\n",
        "df = df.sample(frac=1.0)\n",
        "df.shape"
      ],
      "execution_count": 55,
      "outputs": [
        {
          "output_type": "execute_result",
          "data": {
            "text/plain": [
              "(5000, 141)"
            ]
          },
          "metadata": {
            "tags": []
          },
          "execution_count": 55
        }
      ]
    },
    {
      "cell_type": "code",
      "metadata": {
        "id": "gs5BL2RQxpk2",
        "outputId": "c2f25d76-cc8c-43e2-bd4d-423cc8305628",
        "colab": {
          "base_uri": "https://localhost:8080/",
          "height": 253
        }
      },
      "source": [
        "df.head()"
      ],
      "execution_count": 56,
      "outputs": [
        {
          "output_type": "execute_result",
          "data": {
            "text/html": [
              "<div>\n",
              "<style scoped>\n",
              "    .dataframe tbody tr th:only-of-type {\n",
              "        vertical-align: middle;\n",
              "    }\n",
              "\n",
              "    .dataframe tbody tr th {\n",
              "        vertical-align: top;\n",
              "    }\n",
              "\n",
              "    .dataframe thead th {\n",
              "        text-align: right;\n",
              "    }\n",
              "</style>\n",
              "<table border=\"1\" class=\"dataframe\">\n",
              "  <thead>\n",
              "    <tr style=\"text-align: right;\">\n",
              "      <th></th>\n",
              "      <th>att1@NUMERIC</th>\n",
              "      <th>att2@NUMERIC</th>\n",
              "      <th>att3@NUMERIC</th>\n",
              "      <th>att4@NUMERIC</th>\n",
              "      <th>att5@NUMERIC</th>\n",
              "      <th>att6@NUMERIC</th>\n",
              "      <th>att7@NUMERIC</th>\n",
              "      <th>att8@NUMERIC</th>\n",
              "      <th>att9@NUMERIC</th>\n",
              "      <th>att10@NUMERIC</th>\n",
              "      <th>att11@NUMERIC</th>\n",
              "      <th>att12@NUMERIC</th>\n",
              "      <th>att13@NUMERIC</th>\n",
              "      <th>att14@NUMERIC</th>\n",
              "      <th>att15@NUMERIC</th>\n",
              "      <th>att16@NUMERIC</th>\n",
              "      <th>att17@NUMERIC</th>\n",
              "      <th>att18@NUMERIC</th>\n",
              "      <th>att19@NUMERIC</th>\n",
              "      <th>att20@NUMERIC</th>\n",
              "      <th>att21@NUMERIC</th>\n",
              "      <th>att22@NUMERIC</th>\n",
              "      <th>att23@NUMERIC</th>\n",
              "      <th>att24@NUMERIC</th>\n",
              "      <th>att25@NUMERIC</th>\n",
              "      <th>att26@NUMERIC</th>\n",
              "      <th>att27@NUMERIC</th>\n",
              "      <th>att28@NUMERIC</th>\n",
              "      <th>att29@NUMERIC</th>\n",
              "      <th>att30@NUMERIC</th>\n",
              "      <th>att31@NUMERIC</th>\n",
              "      <th>att32@NUMERIC</th>\n",
              "      <th>att33@NUMERIC</th>\n",
              "      <th>att34@NUMERIC</th>\n",
              "      <th>att35@NUMERIC</th>\n",
              "      <th>att36@NUMERIC</th>\n",
              "      <th>att37@NUMERIC</th>\n",
              "      <th>att38@NUMERIC</th>\n",
              "      <th>att39@NUMERIC</th>\n",
              "      <th>att40@NUMERIC</th>\n",
              "      <th>...</th>\n",
              "      <th>att102@NUMERIC</th>\n",
              "      <th>att103@NUMERIC</th>\n",
              "      <th>att104@NUMERIC</th>\n",
              "      <th>att105@NUMERIC</th>\n",
              "      <th>att106@NUMERIC</th>\n",
              "      <th>att107@NUMERIC</th>\n",
              "      <th>att108@NUMERIC</th>\n",
              "      <th>att109@NUMERIC</th>\n",
              "      <th>att110@NUMERIC</th>\n",
              "      <th>att111@NUMERIC</th>\n",
              "      <th>att112@NUMERIC</th>\n",
              "      <th>att113@NUMERIC</th>\n",
              "      <th>att114@NUMERIC</th>\n",
              "      <th>att115@NUMERIC</th>\n",
              "      <th>att116@NUMERIC</th>\n",
              "      <th>att117@NUMERIC</th>\n",
              "      <th>att118@NUMERIC</th>\n",
              "      <th>att119@NUMERIC</th>\n",
              "      <th>att120@NUMERIC</th>\n",
              "      <th>att121@NUMERIC</th>\n",
              "      <th>att122@NUMERIC</th>\n",
              "      <th>att123@NUMERIC</th>\n",
              "      <th>att124@NUMERIC</th>\n",
              "      <th>att125@NUMERIC</th>\n",
              "      <th>att126@NUMERIC</th>\n",
              "      <th>att127@NUMERIC</th>\n",
              "      <th>att128@NUMERIC</th>\n",
              "      <th>att129@NUMERIC</th>\n",
              "      <th>att130@NUMERIC</th>\n",
              "      <th>att131@NUMERIC</th>\n",
              "      <th>att132@NUMERIC</th>\n",
              "      <th>att133@NUMERIC</th>\n",
              "      <th>att134@NUMERIC</th>\n",
              "      <th>att135@NUMERIC</th>\n",
              "      <th>att136@NUMERIC</th>\n",
              "      <th>att137@NUMERIC</th>\n",
              "      <th>att138@NUMERIC</th>\n",
              "      <th>att139@NUMERIC</th>\n",
              "      <th>att140@NUMERIC</th>\n",
              "      <th>target@{1,2,3,4,5}</th>\n",
              "    </tr>\n",
              "  </thead>\n",
              "  <tbody>\n",
              "    <tr>\n",
              "      <th>1001</th>\n",
              "      <td>1.469756</td>\n",
              "      <td>-1.048520</td>\n",
              "      <td>-3.394356</td>\n",
              "      <td>-4.254399</td>\n",
              "      <td>-4.162834</td>\n",
              "      <td>-3.822570</td>\n",
              "      <td>-3.003609</td>\n",
              "      <td>-1.799773</td>\n",
              "      <td>-1.500033</td>\n",
              "      <td>-1.025095</td>\n",
              "      <td>-0.166753</td>\n",
              "      <td>0.011275</td>\n",
              "      <td>-0.147008</td>\n",
              "      <td>-0.088714</td>\n",
              "      <td>-0.114587</td>\n",
              "      <td>-0.146307</td>\n",
              "      <td>-0.157915</td>\n",
              "      <td>-0.027796</td>\n",
              "      <td>-0.214186</td>\n",
              "      <td>-0.141600</td>\n",
              "      <td>-0.210829</td>\n",
              "      <td>-0.203778</td>\n",
              "      <td>-0.153019</td>\n",
              "      <td>-0.266533</td>\n",
              "      <td>-0.390077</td>\n",
              "      <td>-0.327032</td>\n",
              "      <td>-0.400833</td>\n",
              "      <td>-0.407830</td>\n",
              "      <td>-0.501358</td>\n",
              "      <td>-0.522868</td>\n",
              "      <td>-0.574155</td>\n",
              "      <td>-0.659348</td>\n",
              "      <td>-0.663703</td>\n",
              "      <td>-0.724858</td>\n",
              "      <td>-0.682038</td>\n",
              "      <td>-0.770026</td>\n",
              "      <td>-0.798246</td>\n",
              "      <td>-0.747866</td>\n",
              "      <td>-0.758533</td>\n",
              "      <td>-0.591910</td>\n",
              "      <td>...</td>\n",
              "      <td>1.487003</td>\n",
              "      <td>1.675518</td>\n",
              "      <td>1.836158</td>\n",
              "      <td>1.767251</td>\n",
              "      <td>1.735520</td>\n",
              "      <td>1.630994</td>\n",
              "      <td>1.380285</td>\n",
              "      <td>1.062822</td>\n",
              "      <td>0.829051</td>\n",
              "      <td>0.559157</td>\n",
              "      <td>0.189454</td>\n",
              "      <td>-0.083072</td>\n",
              "      <td>-0.387828</td>\n",
              "      <td>-0.484409</td>\n",
              "      <td>-0.490306</td>\n",
              "      <td>-0.518586</td>\n",
              "      <td>-0.419299</td>\n",
              "      <td>-0.440095</td>\n",
              "      <td>-0.357985</td>\n",
              "      <td>-0.486044</td>\n",
              "      <td>-0.486691</td>\n",
              "      <td>-0.376997</td>\n",
              "      <td>-0.444405</td>\n",
              "      <td>-0.295011</td>\n",
              "      <td>-0.381458</td>\n",
              "      <td>-0.357774</td>\n",
              "      <td>-0.308135</td>\n",
              "      <td>-0.068073</td>\n",
              "      <td>0.510416</td>\n",
              "      <td>0.873347</td>\n",
              "      <td>0.945178</td>\n",
              "      <td>1.275588</td>\n",
              "      <td>1.617218</td>\n",
              "      <td>1.580279</td>\n",
              "      <td>1.306195</td>\n",
              "      <td>1.351674</td>\n",
              "      <td>1.915517</td>\n",
              "      <td>1.672103</td>\n",
              "      <td>-1.039932</td>\n",
              "      <td>1</td>\n",
              "    </tr>\n",
              "    <tr>\n",
              "      <th>2086</th>\n",
              "      <td>-1.998602</td>\n",
              "      <td>-3.770552</td>\n",
              "      <td>-4.267091</td>\n",
              "      <td>-4.256133</td>\n",
              "      <td>-3.515288</td>\n",
              "      <td>-2.554540</td>\n",
              "      <td>-1.699639</td>\n",
              "      <td>-1.566366</td>\n",
              "      <td>-1.038815</td>\n",
              "      <td>-0.425483</td>\n",
              "      <td>-0.262474</td>\n",
              "      <td>-0.197361</td>\n",
              "      <td>-0.340497</td>\n",
              "      <td>-0.323774</td>\n",
              "      <td>-0.335513</td>\n",
              "      <td>-0.254583</td>\n",
              "      <td>-0.264334</td>\n",
              "      <td>-0.338740</td>\n",
              "      <td>-0.284649</td>\n",
              "      <td>-0.368613</td>\n",
              "      <td>-0.394213</td>\n",
              "      <td>-0.439726</td>\n",
              "      <td>-0.368993</td>\n",
              "      <td>-0.376742</td>\n",
              "      <td>-0.423022</td>\n",
              "      <td>-0.529464</td>\n",
              "      <td>-0.589248</td>\n",
              "      <td>-0.544008</td>\n",
              "      <td>-0.518129</td>\n",
              "      <td>-0.678544</td>\n",
              "      <td>-0.717577</td>\n",
              "      <td>-0.740041</td>\n",
              "      <td>-0.769233</td>\n",
              "      <td>-0.785213</td>\n",
              "      <td>-0.821685</td>\n",
              "      <td>-0.769256</td>\n",
              "      <td>-0.772686</td>\n",
              "      <td>-0.781586</td>\n",
              "      <td>-0.818404</td>\n",
              "      <td>-0.769080</td>\n",
              "      <td>...</td>\n",
              "      <td>1.780951</td>\n",
              "      <td>1.779466</td>\n",
              "      <td>1.754980</td>\n",
              "      <td>1.696125</td>\n",
              "      <td>1.596021</td>\n",
              "      <td>1.385371</td>\n",
              "      <td>1.189426</td>\n",
              "      <td>0.954776</td>\n",
              "      <td>0.739367</td>\n",
              "      <td>0.423573</td>\n",
              "      <td>0.085743</td>\n",
              "      <td>-0.030826</td>\n",
              "      <td>-0.042948</td>\n",
              "      <td>-0.122153</td>\n",
              "      <td>-0.101229</td>\n",
              "      <td>-0.135996</td>\n",
              "      <td>-0.093358</td>\n",
              "      <td>-0.113487</td>\n",
              "      <td>-0.118484</td>\n",
              "      <td>-0.088536</td>\n",
              "      <td>-0.020003</td>\n",
              "      <td>-0.029816</td>\n",
              "      <td>-0.044748</td>\n",
              "      <td>0.034468</td>\n",
              "      <td>0.070666</td>\n",
              "      <td>0.057764</td>\n",
              "      <td>0.120260</td>\n",
              "      <td>0.417549</td>\n",
              "      <td>0.799119</td>\n",
              "      <td>1.028602</td>\n",
              "      <td>1.008577</td>\n",
              "      <td>1.024698</td>\n",
              "      <td>1.051141</td>\n",
              "      <td>1.015352</td>\n",
              "      <td>0.988475</td>\n",
              "      <td>1.050191</td>\n",
              "      <td>1.089509</td>\n",
              "      <td>1.465382</td>\n",
              "      <td>0.799517</td>\n",
              "      <td>1</td>\n",
              "    </tr>\n",
              "    <tr>\n",
              "      <th>2153</th>\n",
              "      <td>-1.187772</td>\n",
              "      <td>-3.365038</td>\n",
              "      <td>-3.695653</td>\n",
              "      <td>-4.094781</td>\n",
              "      <td>-3.992549</td>\n",
              "      <td>-3.425381</td>\n",
              "      <td>-2.057643</td>\n",
              "      <td>-1.277729</td>\n",
              "      <td>-1.307397</td>\n",
              "      <td>-0.623098</td>\n",
              "      <td>-0.320708</td>\n",
              "      <td>-0.359462</td>\n",
              "      <td>-0.377039</td>\n",
              "      <td>-0.397033</td>\n",
              "      <td>-0.381755</td>\n",
              "      <td>-0.427911</td>\n",
              "      <td>-0.414237</td>\n",
              "      <td>-0.448439</td>\n",
              "      <td>-0.437101</td>\n",
              "      <td>-0.362470</td>\n",
              "      <td>-0.357754</td>\n",
              "      <td>-0.360832</td>\n",
              "      <td>-0.456013</td>\n",
              "      <td>-0.426373</td>\n",
              "      <td>-0.477425</td>\n",
              "      <td>-0.551853</td>\n",
              "      <td>-0.491515</td>\n",
              "      <td>-0.540644</td>\n",
              "      <td>-0.626111</td>\n",
              "      <td>-0.672909</td>\n",
              "      <td>-0.609645</td>\n",
              "      <td>-0.674574</td>\n",
              "      <td>-0.738285</td>\n",
              "      <td>-0.711991</td>\n",
              "      <td>-0.707088</td>\n",
              "      <td>-0.719290</td>\n",
              "      <td>-0.665765</td>\n",
              "      <td>-0.681393</td>\n",
              "      <td>-0.551106</td>\n",
              "      <td>-0.678160</td>\n",
              "      <td>...</td>\n",
              "      <td>1.539706</td>\n",
              "      <td>1.861135</td>\n",
              "      <td>1.823973</td>\n",
              "      <td>1.842621</td>\n",
              "      <td>1.807378</td>\n",
              "      <td>1.673375</td>\n",
              "      <td>1.435519</td>\n",
              "      <td>1.256942</td>\n",
              "      <td>1.141169</td>\n",
              "      <td>0.773353</td>\n",
              "      <td>0.352743</td>\n",
              "      <td>-0.006171</td>\n",
              "      <td>-0.082585</td>\n",
              "      <td>-0.174300</td>\n",
              "      <td>-0.050298</td>\n",
              "      <td>-0.190888</td>\n",
              "      <td>-0.151327</td>\n",
              "      <td>-0.106006</td>\n",
              "      <td>-0.101364</td>\n",
              "      <td>-0.116433</td>\n",
              "      <td>-0.127277</td>\n",
              "      <td>0.010743</td>\n",
              "      <td>-0.166507</td>\n",
              "      <td>-0.219952</td>\n",
              "      <td>-0.076155</td>\n",
              "      <td>-0.062330</td>\n",
              "      <td>0.009366</td>\n",
              "      <td>0.151061</td>\n",
              "      <td>0.459543</td>\n",
              "      <td>0.972686</td>\n",
              "      <td>1.085007</td>\n",
              "      <td>1.467196</td>\n",
              "      <td>1.413850</td>\n",
              "      <td>1.283822</td>\n",
              "      <td>0.923126</td>\n",
              "      <td>0.759235</td>\n",
              "      <td>0.932364</td>\n",
              "      <td>1.216265</td>\n",
              "      <td>-0.824489</td>\n",
              "      <td>1</td>\n",
              "    </tr>\n",
              "    <tr>\n",
              "      <th>555</th>\n",
              "      <td>0.604969</td>\n",
              "      <td>-1.671363</td>\n",
              "      <td>-3.236131</td>\n",
              "      <td>-3.966465</td>\n",
              "      <td>-4.067820</td>\n",
              "      <td>-3.551897</td>\n",
              "      <td>-2.582864</td>\n",
              "      <td>-1.804755</td>\n",
              "      <td>-1.688151</td>\n",
              "      <td>-1.025897</td>\n",
              "      <td>-0.434404</td>\n",
              "      <td>-0.391973</td>\n",
              "      <td>-0.488243</td>\n",
              "      <td>-0.431901</td>\n",
              "      <td>-0.389872</td>\n",
              "      <td>-0.552537</td>\n",
              "      <td>-0.522013</td>\n",
              "      <td>-0.412052</td>\n",
              "      <td>-0.435156</td>\n",
              "      <td>-0.485882</td>\n",
              "      <td>-0.495175</td>\n",
              "      <td>-0.472248</td>\n",
              "      <td>-0.491598</td>\n",
              "      <td>-0.542585</td>\n",
              "      <td>-0.495330</td>\n",
              "      <td>-0.514791</td>\n",
              "      <td>-0.556296</td>\n",
              "      <td>-0.654450</td>\n",
              "      <td>-0.652184</td>\n",
              "      <td>-0.705807</td>\n",
              "      <td>-0.764955</td>\n",
              "      <td>-0.806090</td>\n",
              "      <td>-0.826952</td>\n",
              "      <td>-0.834084</td>\n",
              "      <td>-0.824845</td>\n",
              "      <td>-0.894700</td>\n",
              "      <td>-0.855387</td>\n",
              "      <td>-0.843114</td>\n",
              "      <td>-0.803555</td>\n",
              "      <td>-0.649946</td>\n",
              "      <td>...</td>\n",
              "      <td>1.512614</td>\n",
              "      <td>1.786149</td>\n",
              "      <td>1.961367</td>\n",
              "      <td>1.853974</td>\n",
              "      <td>1.825461</td>\n",
              "      <td>1.679417</td>\n",
              "      <td>1.585913</td>\n",
              "      <td>1.286001</td>\n",
              "      <td>0.959101</td>\n",
              "      <td>0.604489</td>\n",
              "      <td>0.249181</td>\n",
              "      <td>-0.116396</td>\n",
              "      <td>-0.230415</td>\n",
              "      <td>-0.126991</td>\n",
              "      <td>-0.234535</td>\n",
              "      <td>-0.239417</td>\n",
              "      <td>-0.302889</td>\n",
              "      <td>-0.274648</td>\n",
              "      <td>-0.246930</td>\n",
              "      <td>-0.268511</td>\n",
              "      <td>-0.229978</td>\n",
              "      <td>-0.315147</td>\n",
              "      <td>-0.246615</td>\n",
              "      <td>-0.240423</td>\n",
              "      <td>-0.301044</td>\n",
              "      <td>-0.210698</td>\n",
              "      <td>-0.253991</td>\n",
              "      <td>-0.040373</td>\n",
              "      <td>0.105965</td>\n",
              "      <td>0.509497</td>\n",
              "      <td>0.545222</td>\n",
              "      <td>0.649363</td>\n",
              "      <td>0.986846</td>\n",
              "      <td>1.234495</td>\n",
              "      <td>1.280039</td>\n",
              "      <td>1.215985</td>\n",
              "      <td>1.617971</td>\n",
              "      <td>2.196543</td>\n",
              "      <td>0.023843</td>\n",
              "      <td>1</td>\n",
              "    </tr>\n",
              "    <tr>\n",
              "      <th>205</th>\n",
              "      <td>-1.197203</td>\n",
              "      <td>-3.270123</td>\n",
              "      <td>-3.778723</td>\n",
              "      <td>-3.977574</td>\n",
              "      <td>-3.405060</td>\n",
              "      <td>-2.392634</td>\n",
              "      <td>-1.726322</td>\n",
              "      <td>-1.572748</td>\n",
              "      <td>-0.920075</td>\n",
              "      <td>-0.388731</td>\n",
              "      <td>-0.329621</td>\n",
              "      <td>-0.432457</td>\n",
              "      <td>-0.412543</td>\n",
              "      <td>-0.394814</td>\n",
              "      <td>-0.437069</td>\n",
              "      <td>-0.363390</td>\n",
              "      <td>-0.399006</td>\n",
              "      <td>-0.403825</td>\n",
              "      <td>-0.376376</td>\n",
              "      <td>-0.506637</td>\n",
              "      <td>-0.436540</td>\n",
              "      <td>-0.465944</td>\n",
              "      <td>-0.429178</td>\n",
              "      <td>-0.519840</td>\n",
              "      <td>-0.568588</td>\n",
              "      <td>-0.537508</td>\n",
              "      <td>-0.679455</td>\n",
              "      <td>-0.720026</td>\n",
              "      <td>-0.745055</td>\n",
              "      <td>-0.681840</td>\n",
              "      <td>-0.811463</td>\n",
              "      <td>-0.896847</td>\n",
              "      <td>-0.866956</td>\n",
              "      <td>-0.955809</td>\n",
              "      <td>-0.950285</td>\n",
              "      <td>-1.025476</td>\n",
              "      <td>-0.973120</td>\n",
              "      <td>-0.979592</td>\n",
              "      <td>-1.022956</td>\n",
              "      <td>-1.054214</td>\n",
              "      <td>...</td>\n",
              "      <td>1.208148</td>\n",
              "      <td>1.359570</td>\n",
              "      <td>1.640742</td>\n",
              "      <td>1.725211</td>\n",
              "      <td>1.740897</td>\n",
              "      <td>1.732714</td>\n",
              "      <td>1.447176</td>\n",
              "      <td>1.348474</td>\n",
              "      <td>1.147636</td>\n",
              "      <td>0.873845</td>\n",
              "      <td>0.702633</td>\n",
              "      <td>0.450193</td>\n",
              "      <td>0.181169</td>\n",
              "      <td>-0.140092</td>\n",
              "      <td>-0.106002</td>\n",
              "      <td>-0.067038</td>\n",
              "      <td>-0.093409</td>\n",
              "      <td>-0.032675</td>\n",
              "      <td>-0.085898</td>\n",
              "      <td>-0.133999</td>\n",
              "      <td>-0.194673</td>\n",
              "      <td>-0.116901</td>\n",
              "      <td>-0.007323</td>\n",
              "      <td>-0.079279</td>\n",
              "      <td>-0.171791</td>\n",
              "      <td>-0.077551</td>\n",
              "      <td>-0.024034</td>\n",
              "      <td>-0.017010</td>\n",
              "      <td>0.068237</td>\n",
              "      <td>0.299639</td>\n",
              "      <td>0.828168</td>\n",
              "      <td>0.914338</td>\n",
              "      <td>1.063077</td>\n",
              "      <td>1.393479</td>\n",
              "      <td>1.469756</td>\n",
              "      <td>1.392281</td>\n",
              "      <td>1.144732</td>\n",
              "      <td>1.668263</td>\n",
              "      <td>1.734676</td>\n",
              "      <td>1</td>\n",
              "    </tr>\n",
              "  </tbody>\n",
              "</table>\n",
              "<p>5 rows × 141 columns</p>\n",
              "</div>"
            ],
            "text/plain": [
              "      att1@NUMERIC  att2@NUMERIC  ...  att140@NUMERIC  target@{1,2,3,4,5}\n",
              "1001      1.469756     -1.048520  ...       -1.039932                   1\n",
              "2086     -1.998602     -3.770552  ...        0.799517                   1\n",
              "2153     -1.187772     -3.365038  ...       -0.824489                   1\n",
              "555       0.604969     -1.671363  ...        0.023843                   1\n",
              "205      -1.197203     -3.270123  ...        1.734676                   1\n",
              "\n",
              "[5 rows x 141 columns]"
            ]
          },
          "metadata": {
            "tags": []
          },
          "execution_count": 56
        }
      ]
    },
    {
      "cell_type": "code",
      "metadata": {
        "id": "OrvM-ND0xyTa"
      },
      "source": [
        "columns = list(df.columns)\n",
        "columns[-1] = 'target'\n",
        "df.columns = columns"
      ],
      "execution_count": 57,
      "outputs": []
    },
    {
      "cell_type": "code",
      "metadata": {
        "id": "I2vaSV18x4tf",
        "outputId": "6049db42-394d-42e0-ed1b-c246698fb6ac",
        "colab": {
          "base_uri": "https://localhost:8080/",
          "height": 253
        }
      },
      "source": [
        "df.head()"
      ],
      "execution_count": 58,
      "outputs": [
        {
          "output_type": "execute_result",
          "data": {
            "text/html": [
              "<div>\n",
              "<style scoped>\n",
              "    .dataframe tbody tr th:only-of-type {\n",
              "        vertical-align: middle;\n",
              "    }\n",
              "\n",
              "    .dataframe tbody tr th {\n",
              "        vertical-align: top;\n",
              "    }\n",
              "\n",
              "    .dataframe thead th {\n",
              "        text-align: right;\n",
              "    }\n",
              "</style>\n",
              "<table border=\"1\" class=\"dataframe\">\n",
              "  <thead>\n",
              "    <tr style=\"text-align: right;\">\n",
              "      <th></th>\n",
              "      <th>att1@NUMERIC</th>\n",
              "      <th>att2@NUMERIC</th>\n",
              "      <th>att3@NUMERIC</th>\n",
              "      <th>att4@NUMERIC</th>\n",
              "      <th>att5@NUMERIC</th>\n",
              "      <th>att6@NUMERIC</th>\n",
              "      <th>att7@NUMERIC</th>\n",
              "      <th>att8@NUMERIC</th>\n",
              "      <th>att9@NUMERIC</th>\n",
              "      <th>att10@NUMERIC</th>\n",
              "      <th>att11@NUMERIC</th>\n",
              "      <th>att12@NUMERIC</th>\n",
              "      <th>att13@NUMERIC</th>\n",
              "      <th>att14@NUMERIC</th>\n",
              "      <th>att15@NUMERIC</th>\n",
              "      <th>att16@NUMERIC</th>\n",
              "      <th>att17@NUMERIC</th>\n",
              "      <th>att18@NUMERIC</th>\n",
              "      <th>att19@NUMERIC</th>\n",
              "      <th>att20@NUMERIC</th>\n",
              "      <th>att21@NUMERIC</th>\n",
              "      <th>att22@NUMERIC</th>\n",
              "      <th>att23@NUMERIC</th>\n",
              "      <th>att24@NUMERIC</th>\n",
              "      <th>att25@NUMERIC</th>\n",
              "      <th>att26@NUMERIC</th>\n",
              "      <th>att27@NUMERIC</th>\n",
              "      <th>att28@NUMERIC</th>\n",
              "      <th>att29@NUMERIC</th>\n",
              "      <th>att30@NUMERIC</th>\n",
              "      <th>att31@NUMERIC</th>\n",
              "      <th>att32@NUMERIC</th>\n",
              "      <th>att33@NUMERIC</th>\n",
              "      <th>att34@NUMERIC</th>\n",
              "      <th>att35@NUMERIC</th>\n",
              "      <th>att36@NUMERIC</th>\n",
              "      <th>att37@NUMERIC</th>\n",
              "      <th>att38@NUMERIC</th>\n",
              "      <th>att39@NUMERIC</th>\n",
              "      <th>att40@NUMERIC</th>\n",
              "      <th>...</th>\n",
              "      <th>att102@NUMERIC</th>\n",
              "      <th>att103@NUMERIC</th>\n",
              "      <th>att104@NUMERIC</th>\n",
              "      <th>att105@NUMERIC</th>\n",
              "      <th>att106@NUMERIC</th>\n",
              "      <th>att107@NUMERIC</th>\n",
              "      <th>att108@NUMERIC</th>\n",
              "      <th>att109@NUMERIC</th>\n",
              "      <th>att110@NUMERIC</th>\n",
              "      <th>att111@NUMERIC</th>\n",
              "      <th>att112@NUMERIC</th>\n",
              "      <th>att113@NUMERIC</th>\n",
              "      <th>att114@NUMERIC</th>\n",
              "      <th>att115@NUMERIC</th>\n",
              "      <th>att116@NUMERIC</th>\n",
              "      <th>att117@NUMERIC</th>\n",
              "      <th>att118@NUMERIC</th>\n",
              "      <th>att119@NUMERIC</th>\n",
              "      <th>att120@NUMERIC</th>\n",
              "      <th>att121@NUMERIC</th>\n",
              "      <th>att122@NUMERIC</th>\n",
              "      <th>att123@NUMERIC</th>\n",
              "      <th>att124@NUMERIC</th>\n",
              "      <th>att125@NUMERIC</th>\n",
              "      <th>att126@NUMERIC</th>\n",
              "      <th>att127@NUMERIC</th>\n",
              "      <th>att128@NUMERIC</th>\n",
              "      <th>att129@NUMERIC</th>\n",
              "      <th>att130@NUMERIC</th>\n",
              "      <th>att131@NUMERIC</th>\n",
              "      <th>att132@NUMERIC</th>\n",
              "      <th>att133@NUMERIC</th>\n",
              "      <th>att134@NUMERIC</th>\n",
              "      <th>att135@NUMERIC</th>\n",
              "      <th>att136@NUMERIC</th>\n",
              "      <th>att137@NUMERIC</th>\n",
              "      <th>att138@NUMERIC</th>\n",
              "      <th>att139@NUMERIC</th>\n",
              "      <th>att140@NUMERIC</th>\n",
              "      <th>target</th>\n",
              "    </tr>\n",
              "  </thead>\n",
              "  <tbody>\n",
              "    <tr>\n",
              "      <th>1001</th>\n",
              "      <td>1.469756</td>\n",
              "      <td>-1.048520</td>\n",
              "      <td>-3.394356</td>\n",
              "      <td>-4.254399</td>\n",
              "      <td>-4.162834</td>\n",
              "      <td>-3.822570</td>\n",
              "      <td>-3.003609</td>\n",
              "      <td>-1.799773</td>\n",
              "      <td>-1.500033</td>\n",
              "      <td>-1.025095</td>\n",
              "      <td>-0.166753</td>\n",
              "      <td>0.011275</td>\n",
              "      <td>-0.147008</td>\n",
              "      <td>-0.088714</td>\n",
              "      <td>-0.114587</td>\n",
              "      <td>-0.146307</td>\n",
              "      <td>-0.157915</td>\n",
              "      <td>-0.027796</td>\n",
              "      <td>-0.214186</td>\n",
              "      <td>-0.141600</td>\n",
              "      <td>-0.210829</td>\n",
              "      <td>-0.203778</td>\n",
              "      <td>-0.153019</td>\n",
              "      <td>-0.266533</td>\n",
              "      <td>-0.390077</td>\n",
              "      <td>-0.327032</td>\n",
              "      <td>-0.400833</td>\n",
              "      <td>-0.407830</td>\n",
              "      <td>-0.501358</td>\n",
              "      <td>-0.522868</td>\n",
              "      <td>-0.574155</td>\n",
              "      <td>-0.659348</td>\n",
              "      <td>-0.663703</td>\n",
              "      <td>-0.724858</td>\n",
              "      <td>-0.682038</td>\n",
              "      <td>-0.770026</td>\n",
              "      <td>-0.798246</td>\n",
              "      <td>-0.747866</td>\n",
              "      <td>-0.758533</td>\n",
              "      <td>-0.591910</td>\n",
              "      <td>...</td>\n",
              "      <td>1.487003</td>\n",
              "      <td>1.675518</td>\n",
              "      <td>1.836158</td>\n",
              "      <td>1.767251</td>\n",
              "      <td>1.735520</td>\n",
              "      <td>1.630994</td>\n",
              "      <td>1.380285</td>\n",
              "      <td>1.062822</td>\n",
              "      <td>0.829051</td>\n",
              "      <td>0.559157</td>\n",
              "      <td>0.189454</td>\n",
              "      <td>-0.083072</td>\n",
              "      <td>-0.387828</td>\n",
              "      <td>-0.484409</td>\n",
              "      <td>-0.490306</td>\n",
              "      <td>-0.518586</td>\n",
              "      <td>-0.419299</td>\n",
              "      <td>-0.440095</td>\n",
              "      <td>-0.357985</td>\n",
              "      <td>-0.486044</td>\n",
              "      <td>-0.486691</td>\n",
              "      <td>-0.376997</td>\n",
              "      <td>-0.444405</td>\n",
              "      <td>-0.295011</td>\n",
              "      <td>-0.381458</td>\n",
              "      <td>-0.357774</td>\n",
              "      <td>-0.308135</td>\n",
              "      <td>-0.068073</td>\n",
              "      <td>0.510416</td>\n",
              "      <td>0.873347</td>\n",
              "      <td>0.945178</td>\n",
              "      <td>1.275588</td>\n",
              "      <td>1.617218</td>\n",
              "      <td>1.580279</td>\n",
              "      <td>1.306195</td>\n",
              "      <td>1.351674</td>\n",
              "      <td>1.915517</td>\n",
              "      <td>1.672103</td>\n",
              "      <td>-1.039932</td>\n",
              "      <td>1</td>\n",
              "    </tr>\n",
              "    <tr>\n",
              "      <th>2086</th>\n",
              "      <td>-1.998602</td>\n",
              "      <td>-3.770552</td>\n",
              "      <td>-4.267091</td>\n",
              "      <td>-4.256133</td>\n",
              "      <td>-3.515288</td>\n",
              "      <td>-2.554540</td>\n",
              "      <td>-1.699639</td>\n",
              "      <td>-1.566366</td>\n",
              "      <td>-1.038815</td>\n",
              "      <td>-0.425483</td>\n",
              "      <td>-0.262474</td>\n",
              "      <td>-0.197361</td>\n",
              "      <td>-0.340497</td>\n",
              "      <td>-0.323774</td>\n",
              "      <td>-0.335513</td>\n",
              "      <td>-0.254583</td>\n",
              "      <td>-0.264334</td>\n",
              "      <td>-0.338740</td>\n",
              "      <td>-0.284649</td>\n",
              "      <td>-0.368613</td>\n",
              "      <td>-0.394213</td>\n",
              "      <td>-0.439726</td>\n",
              "      <td>-0.368993</td>\n",
              "      <td>-0.376742</td>\n",
              "      <td>-0.423022</td>\n",
              "      <td>-0.529464</td>\n",
              "      <td>-0.589248</td>\n",
              "      <td>-0.544008</td>\n",
              "      <td>-0.518129</td>\n",
              "      <td>-0.678544</td>\n",
              "      <td>-0.717577</td>\n",
              "      <td>-0.740041</td>\n",
              "      <td>-0.769233</td>\n",
              "      <td>-0.785213</td>\n",
              "      <td>-0.821685</td>\n",
              "      <td>-0.769256</td>\n",
              "      <td>-0.772686</td>\n",
              "      <td>-0.781586</td>\n",
              "      <td>-0.818404</td>\n",
              "      <td>-0.769080</td>\n",
              "      <td>...</td>\n",
              "      <td>1.780951</td>\n",
              "      <td>1.779466</td>\n",
              "      <td>1.754980</td>\n",
              "      <td>1.696125</td>\n",
              "      <td>1.596021</td>\n",
              "      <td>1.385371</td>\n",
              "      <td>1.189426</td>\n",
              "      <td>0.954776</td>\n",
              "      <td>0.739367</td>\n",
              "      <td>0.423573</td>\n",
              "      <td>0.085743</td>\n",
              "      <td>-0.030826</td>\n",
              "      <td>-0.042948</td>\n",
              "      <td>-0.122153</td>\n",
              "      <td>-0.101229</td>\n",
              "      <td>-0.135996</td>\n",
              "      <td>-0.093358</td>\n",
              "      <td>-0.113487</td>\n",
              "      <td>-0.118484</td>\n",
              "      <td>-0.088536</td>\n",
              "      <td>-0.020003</td>\n",
              "      <td>-0.029816</td>\n",
              "      <td>-0.044748</td>\n",
              "      <td>0.034468</td>\n",
              "      <td>0.070666</td>\n",
              "      <td>0.057764</td>\n",
              "      <td>0.120260</td>\n",
              "      <td>0.417549</td>\n",
              "      <td>0.799119</td>\n",
              "      <td>1.028602</td>\n",
              "      <td>1.008577</td>\n",
              "      <td>1.024698</td>\n",
              "      <td>1.051141</td>\n",
              "      <td>1.015352</td>\n",
              "      <td>0.988475</td>\n",
              "      <td>1.050191</td>\n",
              "      <td>1.089509</td>\n",
              "      <td>1.465382</td>\n",
              "      <td>0.799517</td>\n",
              "      <td>1</td>\n",
              "    </tr>\n",
              "    <tr>\n",
              "      <th>2153</th>\n",
              "      <td>-1.187772</td>\n",
              "      <td>-3.365038</td>\n",
              "      <td>-3.695653</td>\n",
              "      <td>-4.094781</td>\n",
              "      <td>-3.992549</td>\n",
              "      <td>-3.425381</td>\n",
              "      <td>-2.057643</td>\n",
              "      <td>-1.277729</td>\n",
              "      <td>-1.307397</td>\n",
              "      <td>-0.623098</td>\n",
              "      <td>-0.320708</td>\n",
              "      <td>-0.359462</td>\n",
              "      <td>-0.377039</td>\n",
              "      <td>-0.397033</td>\n",
              "      <td>-0.381755</td>\n",
              "      <td>-0.427911</td>\n",
              "      <td>-0.414237</td>\n",
              "      <td>-0.448439</td>\n",
              "      <td>-0.437101</td>\n",
              "      <td>-0.362470</td>\n",
              "      <td>-0.357754</td>\n",
              "      <td>-0.360832</td>\n",
              "      <td>-0.456013</td>\n",
              "      <td>-0.426373</td>\n",
              "      <td>-0.477425</td>\n",
              "      <td>-0.551853</td>\n",
              "      <td>-0.491515</td>\n",
              "      <td>-0.540644</td>\n",
              "      <td>-0.626111</td>\n",
              "      <td>-0.672909</td>\n",
              "      <td>-0.609645</td>\n",
              "      <td>-0.674574</td>\n",
              "      <td>-0.738285</td>\n",
              "      <td>-0.711991</td>\n",
              "      <td>-0.707088</td>\n",
              "      <td>-0.719290</td>\n",
              "      <td>-0.665765</td>\n",
              "      <td>-0.681393</td>\n",
              "      <td>-0.551106</td>\n",
              "      <td>-0.678160</td>\n",
              "      <td>...</td>\n",
              "      <td>1.539706</td>\n",
              "      <td>1.861135</td>\n",
              "      <td>1.823973</td>\n",
              "      <td>1.842621</td>\n",
              "      <td>1.807378</td>\n",
              "      <td>1.673375</td>\n",
              "      <td>1.435519</td>\n",
              "      <td>1.256942</td>\n",
              "      <td>1.141169</td>\n",
              "      <td>0.773353</td>\n",
              "      <td>0.352743</td>\n",
              "      <td>-0.006171</td>\n",
              "      <td>-0.082585</td>\n",
              "      <td>-0.174300</td>\n",
              "      <td>-0.050298</td>\n",
              "      <td>-0.190888</td>\n",
              "      <td>-0.151327</td>\n",
              "      <td>-0.106006</td>\n",
              "      <td>-0.101364</td>\n",
              "      <td>-0.116433</td>\n",
              "      <td>-0.127277</td>\n",
              "      <td>0.010743</td>\n",
              "      <td>-0.166507</td>\n",
              "      <td>-0.219952</td>\n",
              "      <td>-0.076155</td>\n",
              "      <td>-0.062330</td>\n",
              "      <td>0.009366</td>\n",
              "      <td>0.151061</td>\n",
              "      <td>0.459543</td>\n",
              "      <td>0.972686</td>\n",
              "      <td>1.085007</td>\n",
              "      <td>1.467196</td>\n",
              "      <td>1.413850</td>\n",
              "      <td>1.283822</td>\n",
              "      <td>0.923126</td>\n",
              "      <td>0.759235</td>\n",
              "      <td>0.932364</td>\n",
              "      <td>1.216265</td>\n",
              "      <td>-0.824489</td>\n",
              "      <td>1</td>\n",
              "    </tr>\n",
              "    <tr>\n",
              "      <th>555</th>\n",
              "      <td>0.604969</td>\n",
              "      <td>-1.671363</td>\n",
              "      <td>-3.236131</td>\n",
              "      <td>-3.966465</td>\n",
              "      <td>-4.067820</td>\n",
              "      <td>-3.551897</td>\n",
              "      <td>-2.582864</td>\n",
              "      <td>-1.804755</td>\n",
              "      <td>-1.688151</td>\n",
              "      <td>-1.025897</td>\n",
              "      <td>-0.434404</td>\n",
              "      <td>-0.391973</td>\n",
              "      <td>-0.488243</td>\n",
              "      <td>-0.431901</td>\n",
              "      <td>-0.389872</td>\n",
              "      <td>-0.552537</td>\n",
              "      <td>-0.522013</td>\n",
              "      <td>-0.412052</td>\n",
              "      <td>-0.435156</td>\n",
              "      <td>-0.485882</td>\n",
              "      <td>-0.495175</td>\n",
              "      <td>-0.472248</td>\n",
              "      <td>-0.491598</td>\n",
              "      <td>-0.542585</td>\n",
              "      <td>-0.495330</td>\n",
              "      <td>-0.514791</td>\n",
              "      <td>-0.556296</td>\n",
              "      <td>-0.654450</td>\n",
              "      <td>-0.652184</td>\n",
              "      <td>-0.705807</td>\n",
              "      <td>-0.764955</td>\n",
              "      <td>-0.806090</td>\n",
              "      <td>-0.826952</td>\n",
              "      <td>-0.834084</td>\n",
              "      <td>-0.824845</td>\n",
              "      <td>-0.894700</td>\n",
              "      <td>-0.855387</td>\n",
              "      <td>-0.843114</td>\n",
              "      <td>-0.803555</td>\n",
              "      <td>-0.649946</td>\n",
              "      <td>...</td>\n",
              "      <td>1.512614</td>\n",
              "      <td>1.786149</td>\n",
              "      <td>1.961367</td>\n",
              "      <td>1.853974</td>\n",
              "      <td>1.825461</td>\n",
              "      <td>1.679417</td>\n",
              "      <td>1.585913</td>\n",
              "      <td>1.286001</td>\n",
              "      <td>0.959101</td>\n",
              "      <td>0.604489</td>\n",
              "      <td>0.249181</td>\n",
              "      <td>-0.116396</td>\n",
              "      <td>-0.230415</td>\n",
              "      <td>-0.126991</td>\n",
              "      <td>-0.234535</td>\n",
              "      <td>-0.239417</td>\n",
              "      <td>-0.302889</td>\n",
              "      <td>-0.274648</td>\n",
              "      <td>-0.246930</td>\n",
              "      <td>-0.268511</td>\n",
              "      <td>-0.229978</td>\n",
              "      <td>-0.315147</td>\n",
              "      <td>-0.246615</td>\n",
              "      <td>-0.240423</td>\n",
              "      <td>-0.301044</td>\n",
              "      <td>-0.210698</td>\n",
              "      <td>-0.253991</td>\n",
              "      <td>-0.040373</td>\n",
              "      <td>0.105965</td>\n",
              "      <td>0.509497</td>\n",
              "      <td>0.545222</td>\n",
              "      <td>0.649363</td>\n",
              "      <td>0.986846</td>\n",
              "      <td>1.234495</td>\n",
              "      <td>1.280039</td>\n",
              "      <td>1.215985</td>\n",
              "      <td>1.617971</td>\n",
              "      <td>2.196543</td>\n",
              "      <td>0.023843</td>\n",
              "      <td>1</td>\n",
              "    </tr>\n",
              "    <tr>\n",
              "      <th>205</th>\n",
              "      <td>-1.197203</td>\n",
              "      <td>-3.270123</td>\n",
              "      <td>-3.778723</td>\n",
              "      <td>-3.977574</td>\n",
              "      <td>-3.405060</td>\n",
              "      <td>-2.392634</td>\n",
              "      <td>-1.726322</td>\n",
              "      <td>-1.572748</td>\n",
              "      <td>-0.920075</td>\n",
              "      <td>-0.388731</td>\n",
              "      <td>-0.329621</td>\n",
              "      <td>-0.432457</td>\n",
              "      <td>-0.412543</td>\n",
              "      <td>-0.394814</td>\n",
              "      <td>-0.437069</td>\n",
              "      <td>-0.363390</td>\n",
              "      <td>-0.399006</td>\n",
              "      <td>-0.403825</td>\n",
              "      <td>-0.376376</td>\n",
              "      <td>-0.506637</td>\n",
              "      <td>-0.436540</td>\n",
              "      <td>-0.465944</td>\n",
              "      <td>-0.429178</td>\n",
              "      <td>-0.519840</td>\n",
              "      <td>-0.568588</td>\n",
              "      <td>-0.537508</td>\n",
              "      <td>-0.679455</td>\n",
              "      <td>-0.720026</td>\n",
              "      <td>-0.745055</td>\n",
              "      <td>-0.681840</td>\n",
              "      <td>-0.811463</td>\n",
              "      <td>-0.896847</td>\n",
              "      <td>-0.866956</td>\n",
              "      <td>-0.955809</td>\n",
              "      <td>-0.950285</td>\n",
              "      <td>-1.025476</td>\n",
              "      <td>-0.973120</td>\n",
              "      <td>-0.979592</td>\n",
              "      <td>-1.022956</td>\n",
              "      <td>-1.054214</td>\n",
              "      <td>...</td>\n",
              "      <td>1.208148</td>\n",
              "      <td>1.359570</td>\n",
              "      <td>1.640742</td>\n",
              "      <td>1.725211</td>\n",
              "      <td>1.740897</td>\n",
              "      <td>1.732714</td>\n",
              "      <td>1.447176</td>\n",
              "      <td>1.348474</td>\n",
              "      <td>1.147636</td>\n",
              "      <td>0.873845</td>\n",
              "      <td>0.702633</td>\n",
              "      <td>0.450193</td>\n",
              "      <td>0.181169</td>\n",
              "      <td>-0.140092</td>\n",
              "      <td>-0.106002</td>\n",
              "      <td>-0.067038</td>\n",
              "      <td>-0.093409</td>\n",
              "      <td>-0.032675</td>\n",
              "      <td>-0.085898</td>\n",
              "      <td>-0.133999</td>\n",
              "      <td>-0.194673</td>\n",
              "      <td>-0.116901</td>\n",
              "      <td>-0.007323</td>\n",
              "      <td>-0.079279</td>\n",
              "      <td>-0.171791</td>\n",
              "      <td>-0.077551</td>\n",
              "      <td>-0.024034</td>\n",
              "      <td>-0.017010</td>\n",
              "      <td>0.068237</td>\n",
              "      <td>0.299639</td>\n",
              "      <td>0.828168</td>\n",
              "      <td>0.914338</td>\n",
              "      <td>1.063077</td>\n",
              "      <td>1.393479</td>\n",
              "      <td>1.469756</td>\n",
              "      <td>1.392281</td>\n",
              "      <td>1.144732</td>\n",
              "      <td>1.668263</td>\n",
              "      <td>1.734676</td>\n",
              "      <td>1</td>\n",
              "    </tr>\n",
              "  </tbody>\n",
              "</table>\n",
              "<p>5 rows × 141 columns</p>\n",
              "</div>"
            ],
            "text/plain": [
              "      att1@NUMERIC  att2@NUMERIC  ...  att140@NUMERIC  target\n",
              "1001      1.469756     -1.048520  ...       -1.039932       1\n",
              "2086     -1.998602     -3.770552  ...        0.799517       1\n",
              "2153     -1.187772     -3.365038  ...       -0.824489       1\n",
              "555       0.604969     -1.671363  ...        0.023843       1\n",
              "205      -1.197203     -3.270123  ...        1.734676       1\n",
              "\n",
              "[5 rows x 141 columns]"
            ]
          },
          "metadata": {
            "tags": []
          },
          "execution_count": 58
        }
      ]
    },
    {
      "cell_type": "code",
      "metadata": {
        "id": "NzGJlYRVyE9D"
      },
      "source": [
        "CLASS_NORMAL = 1\n",
        "\n",
        "class_names = ['Normal','R on T','PVC','SP','UB']"
      ],
      "execution_count": 59,
      "outputs": []
    },
    {
      "cell_type": "markdown",
      "metadata": {
        "id": "STiZr_snyVRe"
      },
      "source": [
        "#Explore"
      ]
    },
    {
      "cell_type": "code",
      "metadata": {
        "id": "xROYPYH8ySFU",
        "outputId": "5aeb233a-854e-4326-fa75-158b8f3d8962",
        "colab": {
          "base_uri": "https://localhost:8080/",
          "height": 119
        }
      },
      "source": [
        "df.target.value_counts()"
      ],
      "execution_count": 60,
      "outputs": [
        {
          "output_type": "execute_result",
          "data": {
            "text/plain": [
              "1    2919\n",
              "2    1767\n",
              "4     194\n",
              "3      96\n",
              "5      24\n",
              "Name: target, dtype: int64"
            ]
          },
          "metadata": {
            "tags": []
          },
          "execution_count": 60
        }
      ]
    },
    {
      "cell_type": "code",
      "metadata": {
        "id": "Ql5XWL-dyZMl",
        "outputId": "f4de07b2-a9ab-46fc-e91b-ee5f5d4d8bd9",
        "colab": {
          "base_uri": "https://localhost:8080/",
          "height": 560
        }
      },
      "source": [
        "ax = sns.countplot(df.target)\n",
        "ax.set_xticklabels(class_names);"
      ],
      "execution_count": 61,
      "outputs": [
        {
          "output_type": "stream",
          "text": [
            "/usr/local/lib/python3.6/dist-packages/seaborn/_decorators.py:43: FutureWarning: Pass the following variable as a keyword arg: x. From version 0.12, the only valid positional argument will be `data`, and passing other arguments without an explicit keyword will result in an error or misinterpretation.\n",
            "  FutureWarning\n"
          ],
          "name": "stderr"
        },
        {
          "output_type": "display_data",
          "data": {
            "image/png": "[encoded data removed]",
            "text/plain": [
              "<Figure size 864x576 with 1 Axes>"
            ]
          },
          "metadata": {
            "tags": [],
            "image/png": {
              "width": 745,
              "height": 489
            }
          }
        }
      ]
    },
    {
      "cell_type": "markdown",
      "metadata": {
        "id": "y_yLk-sJyqdc"
      },
      "source": [
        "# LSTM Auto Encoder for anomaly detection"
      ]
    },
    {
      "cell_type": "code",
      "metadata": {
        "id": "QQ-v9IoMHc-o",
        "outputId": "50b4ac2f-b5d8-489d-f120-4610fb0ee6a9",
        "colab": {
          "base_uri": "https://localhost:8080/",
          "height": 34
        }
      },
      "source": [
        "def create_dataset(df):\n",
        "\n",
        "  sequences = df.astype(np.float32).to_numpy().tolist()\n",
        "\n",
        "  dataset = [torch.tensor(s).unsqueeze(1).float() for s in sequences]\n",
        "\n",
        "  n_seq, seq_len, n_features = torch.stack(dataset).shape\n",
        "\n",
        "  return dataset, seq_len, n_features\n",
        "\n",
        "train_dataset, seq_len, n_features = create_dataset(train_df)\n",
        "len(train_dataset),seq_len,n_features"
      ],
      "execution_count": 82,
      "outputs": [
        {
          "output_type": "execute_result",
          "data": {
            "text/plain": [
              "(2481, 140, 1)"
            ]
          },
          "metadata": {
            "tags": []
          },
          "execution_count": 82
        }
      ]
    },
    {
      "cell_type": "markdown",
      "metadata": {
        "id": "-fWanU5bzbKh"
      },
      "source": [
        "**Data** **Prep**"
      ]
    },
    {
      "cell_type": "code",
      "metadata": {
        "id": "jNcYghu-yd71",
        "outputId": "233d7c06-cfb6-4c63-e775-92c6db940e10",
        "colab": {
          "base_uri": "https://localhost:8080/",
          "height": 34
        }
      },
      "source": [
        "normal_mask = df.target == str(CLASS_NORMAL)\n",
        "anomaly_mask = df.target != str(CLASS_NORMAL)\n",
        "\n",
        "normal_df = df[normal_mask].drop(['target'],axis=1)\n",
        "anomaly_df = df[anomaly_mask].drop(['target'],axis=1)\n",
        "\n",
        "normal_df.shape,anomaly_df.shape"
      ],
      "execution_count": 62,
      "outputs": [
        {
          "output_type": "execute_result",
          "data": {
            "text/plain": [
              "((2919, 140), (2081, 140))"
            ]
          },
          "metadata": {
            "tags": []
          },
          "execution_count": 62
        }
      ]
    },
    {
      "cell_type": "code",
      "metadata": {
        "id": "KN4nDfGTzRpP"
      },
      "source": [
        "# normal df splitted to normal_train, normal_val, normal_test\n",
        "\n",
        "train_df, val_df = train_test_split(\n",
        "  normal_df,\n",
        "  test_size=0.15,\n",
        "  random_state=RANDOM_SEED\n",
        ")\n",
        "\n",
        "val_df, test_df = train_test_split(\n",
        "  val_df,\n",
        "  test_size=0.33, \n",
        "  random_state=RANDOM_SEED\n",
        ")"
      ],
      "execution_count": 63,
      "outputs": []
    },
    {
      "cell_type": "code",
      "metadata": {
        "id": "patdIhyV0PQ3",
        "outputId": "c8fcfc85-6833-411e-e453-63ad3fd73ff8",
        "colab": {
          "base_uri": "https://localhost:8080/",
          "height": 34
        }
      },
      "source": [
        "shape = train_df.shape\n",
        "shape"
      ],
      "execution_count": 64,
      "outputs": [
        {
          "output_type": "execute_result",
          "data": {
            "text/plain": [
              "(2481, 140)"
            ]
          },
          "metadata": {
            "tags": []
          },
          "execution_count": 64
        }
      ]
    },
    {
      "cell_type": "code",
      "metadata": {
        "id": "apGhKDOnzoe2",
        "outputId": "fba78471-a4be-4172-f95c-9de4bfce0900",
        "colab": {
          "base_uri": "https://localhost:8080/",
          "height": 34
        }
      },
      "source": [
        "train_sequenced = train_df.to_numpy().astype(np.float32).reshape((shape[0],shape[1],1))\n",
        "train_sequenced.shape"
      ],
      "execution_count": 65,
      "outputs": [
        {
          "output_type": "execute_result",
          "data": {
            "text/plain": [
              "(2481, 140, 1)"
            ]
          },
          "metadata": {
            "tags": []
          },
          "execution_count": 65
        }
      ]
    },
    {
      "cell_type": "code",
      "metadata": {
        "id": "Dveov5Ho3IKy"
      },
      "source": [
        "dl = DataLoader(train_sequenced,batch_size=10)"
      ],
      "execution_count": 66,
      "outputs": []
    },
    {
      "cell_type": "code",
      "metadata": {
        "id": "sIPgwCCc392Q",
        "outputId": "a53cc0e2-ae65-449f-931c-c52d55282a49",
        "colab": {
          "base_uri": "https://localhost:8080/",
          "height": 34
        }
      },
      "source": [
        "for d in dl:\n",
        "  break\n",
        "\n",
        "print(d.shape)"
      ],
      "execution_count": 67,
      "outputs": [
        {
          "output_type": "stream",
          "text": [
            "torch.Size([10, 140, 1])\n"
          ],
          "name": "stdout"
        }
      ]
    },
    {
      "cell_type": "code",
      "metadata": {
        "id": "0yBZbtV4zvtX",
        "outputId": "fc598797-173e-48ef-da98-30869f65f99c",
        "colab": {
          "base_uri": "https://localhost:8080/",
          "height": 34
        }
      },
      "source": [
        "train_sequenced_batched = torch.tensor(np.expand_dims(train_sequenced,axis=0))\n",
        "train_sequenced_batched.shape[1]"
      ],
      "execution_count": null,
      "outputs": [
        {
          "output_type": "execute_result",
          "data": {
            "text/plain": [
              "2481"
            ]
          },
          "metadata": {
            "tags": []
          },
          "execution_count": 37
        }
      ]
    },
    {
      "cell_type": "code",
      "metadata": {
        "id": "mcugYKlq1jPj"
      },
      "source": [
        "def create_data_loader(dataset,batch_size):\n",
        "  # create dataset\n",
        "  shape = dataset.shape\n",
        "  sequenced = dataset.to_numpy().astype(np.float32).reshape((shape[0],shape[1],1))\n",
        "  dl = DataLoader(sequenced,batch_size=batch_size)\n",
        "\n",
        "  for d in dl:\n",
        "    break\n",
        "\n",
        "  #shape 0 -> batch_size, 1->sequence length\n",
        "\n",
        "  return dl,d.shape\n",
        "  "
      ],
      "execution_count": 106,
      "outputs": []
    },
    {
      "cell_type": "code",
      "metadata": {
        "id": "mAtEAh2f6Ewy"
      },
      "source": [
        "batch_size = 1\n",
        "\n",
        "train_dataloader, train_shape = create_data_loader(train_df,batch_size)\n",
        "val_dataloader, val_shape = create_data_loader(val_df,batch_size)\n",
        "test_dataloader, test_shape = create_data_loader(test_df,batch_size)\n",
        "anomaly_dataloader, anomaly_shape = create_data_loader(anomaly_df,batch_size)"
      ],
      "execution_count": 107,
      "outputs": []
    },
    {
      "cell_type": "code",
      "metadata": {
        "id": "6wGJMgCZ6k94"
      },
      "source": [
        "class Encoder(nn.Module):\n",
        "\n",
        "  def __init__(self, seq_len, n_features, embedding_dim=64):\n",
        "    super(Encoder, self).__init__()\n",
        "\n",
        "    self.seq_len, self.n_features = seq_len, n_features\n",
        "    self.embedding_dim, self.hidden_dim = embedding_dim, 2 * embedding_dim\n",
        "\n",
        "    self.rnn1 = nn.LSTM(\n",
        "      input_size=n_features,\n",
        "      hidden_size=self.hidden_dim,\n",
        "      num_layers=1,\n",
        "      batch_first=True\n",
        "    )\n",
        "    \n",
        "    self.rnn2 = nn.LSTM(\n",
        "      input_size=self.hidden_dim,\n",
        "      hidden_size=embedding_dim,\n",
        "      num_layers=1,\n",
        "      batch_first=True\n",
        "    )\n",
        "\n",
        "  def forward(self, x):\n",
        "    #x = x.reshape((1, self.seq_len, self.n_features))\n",
        "\n",
        "    x, (_, _) = self.rnn1(x)\n",
        "    x, (hidden_n, _) = self.rnn2(x)\n",
        "\n",
        "    return hidden_n.reshape((self.n_features, self.embedding_dim))"
      ],
      "execution_count": 72,
      "outputs": []
    },
    {
      "cell_type": "code",
      "metadata": {
        "id": "oa296QUhBe9-"
      },
      "source": [
        "class Decoder(nn.Module):\n",
        "\n",
        "  def __init__(self, seq_len, input_dim=64, n_features=1):\n",
        "    super(Decoder, self).__init__()\n",
        "\n",
        "    self.seq_len, self.input_dim = seq_len, input_dim\n",
        "    self.hidden_dim, self.n_features = 2 * input_dim, n_features\n",
        "\n",
        "    self.rnn1 = nn.LSTM(\n",
        "      input_size=input_dim,\n",
        "      hidden_size=input_dim,\n",
        "      num_layers=1,\n",
        "      batch_first=True\n",
        "    )\n",
        "\n",
        "    self.rnn2 = nn.LSTM(\n",
        "      input_size=input_dim,\n",
        "      hidden_size=self.hidden_dim,\n",
        "      num_layers=1,\n",
        "      batch_first=True\n",
        "    )\n",
        "\n",
        "    self.output_layer = nn.Linear(self.hidden_dim, n_features)\n",
        "\n",
        "  def forward(self, x):\n",
        "    x = x.repeat(self.seq_len, self.n_features)\n",
        "    x = x.reshape((self.n_features, self.seq_len, self.input_dim))\n",
        "\n",
        "    x, (hidden_n, cell_n) = self.rnn1(x)\n",
        "    x, (hidden_n, cell_n) = self.rnn2(x)\n",
        "    x = x.reshape((self.seq_len, self.hidden_dim))\n",
        "\n",
        "    return self.output_layer(x)"
      ],
      "execution_count": 83,
      "outputs": []
    },
    {
      "cell_type": "code",
      "metadata": {
        "id": "xZGDoWOZFOFf"
      },
      "source": [
        "\n",
        "class RecurrentAutoencoder(nn.Module):\n",
        "\n",
        "  def __init__(self, seq_len, n_features, embedding_dim=64):\n",
        "    super(RecurrentAutoencoder, self).__init__()\n",
        "\n",
        "    self.encoder = Encoder(seq_len, n_features, embedding_dim).to(device)\n",
        "    self.decoder = Decoder(seq_len, embedding_dim, n_features).to(device)\n",
        "\n",
        "  def forward(self, x):\n",
        "    x = self.encoder(x)\n",
        "    x = self.decoder(x)\n",
        "\n",
        "    return x.unsqueeze(0)"
      ],
      "execution_count": 91,
      "outputs": []
    },
    {
      "cell_type": "code",
      "metadata": {
        "id": "77uxaeY4FUM4"
      },
      "source": [
        "model = RecurrentAutoencoder(seq_len = train_shape[1], n_features = train_shape[2], embedding_dim= 128)\n",
        "model = model.to(device)"
      ],
      "execution_count": 92,
      "outputs": []
    },
    {
      "cell_type": "markdown",
      "metadata": {
        "id": "3rT4zxvZJOk1"
      },
      "source": [
        "# Training Model"
      ]
    },
    {
      "cell_type": "code",
      "metadata": {
        "id": "4aNZkiJsI_jk"
      },
      "source": [
        "def train_model(model, train_dataset, val_dataset, n_epochs):\n",
        "  optimizer = torch.optim.Adam(model.parameters(), lr=1e-3)\n",
        "  criterion = nn.L1Loss(reduction='sum').to(device)\n",
        "  history = dict(train=[], val=[])\n",
        "\n",
        "  best_model_wts = copy.deepcopy(model.state_dict())\n",
        "  best_loss = 10000.0\n",
        "  \n",
        "  for epoch in range(1, n_epochs + 1):\n",
        "    model = model.train()\n",
        "\n",
        "    train_losses = []\n",
        "    for seq_true in train_dataset:\n",
        "      optimizer.zero_grad()\n",
        "\n",
        "      seq_true = seq_true.to(device)\n",
        "      seq_pred = model(seq_true)\n",
        "\n",
        "      loss = criterion(seq_pred, seq_true)\n",
        "\n",
        "      loss.backward()\n",
        "      optimizer.step()\n",
        "\n",
        "      train_losses.append(loss.item())\n",
        "\n",
        "    val_losses = []\n",
        "    model = model.eval()\n",
        "    with torch.no_grad():\n",
        "      for seq_true in val_dataset:\n",
        "\n",
        "        seq_true = seq_true.to(device)\n",
        "        seq_pred = model(seq_true)\n",
        "\n",
        "        loss = criterion(seq_pred, seq_true)\n",
        "        val_losses.append(loss.item())\n",
        "\n",
        "    train_loss = np.mean(train_losses)\n",
        "    val_loss = np.mean(val_losses)\n",
        "\n",
        "    history['train'].append(train_loss)\n",
        "    history['val'].append(val_loss)\n",
        "\n",
        "    if val_loss < best_loss:\n",
        "      best_loss = val_loss\n",
        "      best_model_wts = copy.deepcopy(model.state_dict())\n",
        "\n",
        "    print(f'Epoch {epoch}: train loss {train_loss} val loss {val_loss}')\n",
        "\n",
        "  model.load_state_dict(best_model_wts)\n",
        "  return model.eval(), history"
      ],
      "execution_count": 93,
      "outputs": []
    },
    {
      "cell_type": "code",
      "metadata": {
        "id": "Jdnxp5BXJdc1",
        "outputId": "af7ed36d-b6a8-46c1-ed24-32c03b077096",
        "colab": {
          "base_uri": "https://localhost:8080/",
          "height": 1000
        }
      },
      "source": [
        "\n",
        "model, history = train_model(\n",
        "  model, \n",
        "  train_dataloader,\n",
        "  val_dataloader,\n",
        "  n_epochs=150\n",
        ")"
      ],
      "execution_count": 94,
      "outputs": [
        {
          "output_type": "stream",
          "text": [
            "Epoch 1: train loss 74.39274257827506 val loss 57.84659512222702\n",
            "Epoch 2: train loss 55.52463006262143 val loss 55.57159672606044\n",
            "Epoch 3: train loss 52.06436688685696 val loss 42.358960024823304\n",
            "Epoch 4: train loss 38.01758208538149 val loss 42.118285358648826\n",
            "Epoch 5: train loss 35.838941848551926 val loss 34.54850237776031\n",
            "Epoch 6: train loss 32.9544349229898 val loss 31.479059923564844\n",
            "Epoch 7: train loss 30.37397438189235 val loss 28.12715308717161\n",
            "Epoch 8: train loss 36.10891527285839 val loss 36.23653306849586\n",
            "Epoch 9: train loss 34.232033590403645 val loss 35.199178185976116\n",
            "Epoch 10: train loss 41.181362943945274 val loss 52.41441461377834\n",
            "Epoch 11: train loss 50.589139266823246 val loss 51.46230391964034\n",
            "Epoch 12: train loss 43.03473654335326 val loss 49.01627539127693\n",
            "Epoch 13: train loss 46.881911448825036 val loss 46.56854207839566\n",
            "Epoch 14: train loss 46.38043314523632 val loss 46.27072208747418\n",
            "Epoch 15: train loss 45.70141015596709 val loss 46.97950317416639\n",
            "Epoch 16: train loss 44.90104632164287 val loss 46.409837556721364\n",
            "Epoch 17: train loss 42.0442495188469 val loss 35.63496570594846\n",
            "Epoch 18: train loss 35.107031321727376 val loss 33.48242557053602\n",
            "Epoch 19: train loss 31.0126036140814 val loss 28.98257707828766\n",
            "Epoch 20: train loss 29.601029486389038 val loss 31.85920783100182\n",
            "Epoch 21: train loss 28.33377976054292 val loss 24.40122914919686\n",
            "Epoch 22: train loss 28.810013914050618 val loss 24.777625988011206\n",
            "Epoch 23: train loss 27.717885421005672 val loss 24.273666922674213\n",
            "Epoch 24: train loss 27.277229392879292 val loss 36.981943123574126\n",
            "Epoch 25: train loss 27.413128193229113 val loss 30.540024505609082\n",
            "Epoch 26: train loss 26.477730269779943 val loss 26.911620973051196\n",
            "Epoch 27: train loss 26.432364237399796 val loss 22.5103429358412\n",
            "Epoch 28: train loss 25.311527306780803 val loss 22.139176465964326\n",
            "Epoch 29: train loss 24.960289974358716 val loss 30.76023913794398\n",
            "Epoch 30: train loss 24.827407896879073 val loss 27.00287298250948\n",
            "Epoch 31: train loss 24.801885943506957 val loss 23.819683492015514\n",
            "Epoch 32: train loss 24.337241749761567 val loss 24.32365541485037\n",
            "Epoch 33: train loss 23.83296346299257 val loss 21.085310035730167\n",
            "Epoch 34: train loss 23.164634173361346 val loss 19.948162227616777\n",
            "Epoch 35: train loss 22.688665041371923 val loss 31.799914382341072\n",
            "Epoch 36: train loss 22.23425998211099 val loss 22.73425490545775\n",
            "Epoch 37: train loss 22.56298523764128 val loss 22.64939089986116\n",
            "Epoch 38: train loss 22.224334807128784 val loss 21.516560449181235\n",
            "Epoch 39: train loss 21.782402615353064 val loss 25.99117734325552\n",
            "Epoch 40: train loss 21.681320620178937 val loss 21.402857907689995\n",
            "Epoch 41: train loss 21.311669250113116 val loss 18.455569672421166\n",
            "Epoch 42: train loss 20.966762879451213 val loss 18.80137448962395\n",
            "Epoch 43: train loss 20.81537629211684 val loss 20.73427791510893\n",
            "Epoch 44: train loss 21.121285845992162 val loss 21.54162808302572\n",
            "Epoch 45: train loss 20.7763959399542 val loss 17.981157912500727\n",
            "Epoch 46: train loss 20.42831544903006 val loss 30.89624422204826\n",
            "Epoch 47: train loss 20.155048898130307 val loss 18.927317743482057\n",
            "Epoch 48: train loss 20.096389084561896 val loss 17.696818660796048\n",
            "Epoch 49: train loss 19.888259375109783 val loss 23.469370319208085\n",
            "Epoch 50: train loss 19.615628252871236 val loss 16.19961355175524\n",
            "Epoch 51: train loss 19.239323409802008 val loss 19.343770951621238\n",
            "Epoch 52: train loss 19.33019069508649 val loss 18.75531320637246\n",
            "Epoch 53: train loss 19.52385352187366 val loss 18.287279322377042\n",
            "Epoch 54: train loss 19.174510921791935 val loss 18.224579808789844\n",
            "Epoch 55: train loss 18.74108628081199 val loss 20.475427295449567\n",
            "Epoch 56: train loss 18.45394969342073 val loss 19.750270123925723\n",
            "Epoch 57: train loss 18.072905204508487 val loss 20.671780385590523\n",
            "Epoch 58: train loss 18.32875198416535 val loss 18.065499666283948\n",
            "Epoch 59: train loss 18.119835907391415 val loss 23.392064950582434\n",
            "Epoch 60: train loss 17.67676925082593 val loss 18.42075583801208\n",
            "Epoch 61: train loss 17.719790179034675 val loss 16.84202558309116\n",
            "Epoch 62: train loss 17.928294780512868 val loss 15.365711713019804\n",
            "Epoch 63: train loss 17.442285035512757 val loss 16.42139942287582\n",
            "Epoch 64: train loss 17.850097583792277 val loss 19.635624127155445\n",
            "Epoch 65: train loss 17.542544733560263 val loss 16.5437748450418\n",
            "Epoch 66: train loss 17.195488687966535 val loss 15.46004482086317\n",
            "Epoch 67: train loss 17.13682797242441 val loss 16.713714792573708\n",
            "Epoch 68: train loss 17.044342485371736 val loss 15.465469253875229\n",
            "Epoch 69: train loss 16.718488768962352 val loss 19.87564098599552\n",
            "Epoch 70: train loss 16.76574708415058 val loss 14.628535269922136\n",
            "Epoch 71: train loss 16.75452407854596 val loss 15.329825461655554\n",
            "Epoch 72: train loss 16.662870483406124 val loss 14.865660828479305\n",
            "Epoch 73: train loss 16.37190076661946 val loss 18.55510241598047\n",
            "Epoch 74: train loss 16.367207932116667 val loss 18.12392982212299\n",
            "Epoch 75: train loss 16.17808151591069 val loss 18.843961586158443\n",
            "Epoch 76: train loss 16.242295987084237 val loss 15.280109254451876\n",
            "Epoch 77: train loss 15.962214347481103 val loss 14.709712599132004\n",
            "Epoch 78: train loss 15.865368689706564 val loss 20.385886927277557\n",
            "Epoch 79: train loss 16.145286227944684 val loss 15.859335392341167\n",
            "Epoch 80: train loss 15.579034681331722 val loss 15.698782110540966\n",
            "Epoch 81: train loss 15.506232470958668 val loss 15.158349554753025\n",
            "Epoch 82: train loss 15.542056816328634 val loss 18.06937172162057\n",
            "Epoch 83: train loss 15.510749136906677 val loss 15.952853880501332\n",
            "Epoch 84: train loss 15.547806193010791 val loss 14.320430354695318\n",
            "Epoch 85: train loss 15.13315927131865 val loss 16.361479752297267\n",
            "Epoch 86: train loss 15.686860070887807 val loss 14.12444918120114\n",
            "Epoch 87: train loss 15.391819463051023 val loss 17.0573649583253\n",
            "Epoch 88: train loss 15.037587273846418 val loss 17.62937492884152\n",
            "Epoch 89: train loss 14.804448307641616 val loss 14.240968316373014\n",
            "Epoch 90: train loss 15.377462952524267 val loss 14.766300860838946\n",
            "Epoch 91: train loss 14.713212284432549 val loss 12.97485456193757\n",
            "Epoch 92: train loss 15.098521118248629 val loss 13.2869715853979\n",
            "Epoch 93: train loss 15.117472836972244 val loss 13.889517836395841\n",
            "Epoch 94: train loss 14.787174445686201 val loss 13.368329457148867\n",
            "Epoch 95: train loss 14.652231217199446 val loss 14.012064709100258\n",
            "Epoch 96: train loss 14.641597685531377 val loss 14.749907970620662\n",
            "Epoch 97: train loss 14.601231249432946 val loss 18.252918832295368\n",
            "Epoch 98: train loss 14.580131608985308 val loss 13.439392340466746\n",
            "Epoch 99: train loss 14.699835286223086 val loss 12.14584047359019\n",
            "Epoch 100: train loss 14.493711419472623 val loss 12.829964774215188\n",
            "Epoch 101: train loss 14.61401885615775 val loss 16.037553073032782\n",
            "Epoch 102: train loss 14.382789174763726 val loss 13.436253778495312\n",
            "Epoch 103: train loss 14.239909669844579 val loss 13.72452272133018\n",
            "Epoch 104: train loss 14.574353489266533 val loss 13.419114177047318\n",
            "Epoch 105: train loss 14.045962170505177 val loss 13.241474626334336\n",
            "Epoch 106: train loss 14.06890792877431 val loss 12.494620263600533\n",
            "Epoch 107: train loss 14.061585972742513 val loss 13.55166333205082\n",
            "Epoch 108: train loss 13.909773853314302 val loss 16.811944143947983\n",
            "Epoch 109: train loss 13.915117413322083 val loss 12.351797347970184\n",
            "Epoch 110: train loss 14.139214077095792 val loss 12.890799327513616\n",
            "Epoch 111: train loss 13.803987796726558 val loss 15.222358073211879\n",
            "Epoch 112: train loss 13.934599867947204 val loss 12.675153751903752\n",
            "Epoch 113: train loss 13.800459227317862 val loss 13.770950637964988\n",
            "Epoch 114: train loss 13.947733155280917 val loss 12.737513143177333\n",
            "Epoch 115: train loss 14.154250575668723 val loss 13.319215176807974\n",
            "Epoch 116: train loss 13.67954986415434 val loss 14.664936352045197\n",
            "Epoch 117: train loss 13.944235306024455 val loss 12.585532418281405\n",
            "Epoch 118: train loss 13.766027641027312 val loss 12.563867845731318\n",
            "Epoch 119: train loss 13.878734545379048 val loss 12.444790013131476\n",
            "Epoch 120: train loss 13.694151140133828 val loss 14.78835277949452\n",
            "Epoch 121: train loss 13.557939356442951 val loss 12.158427291894718\n",
            "Epoch 122: train loss 13.76559316761212 val loss 12.2236910039309\n",
            "Epoch 123: train loss 13.697985224933309 val loss 12.31539772691769\n",
            "Epoch 124: train loss 13.498247552907836 val loss 12.453054701210462\n",
            "Epoch 125: train loss 13.40622870473312 val loss 13.444183356528415\n",
            "Epoch 126: train loss 13.306323692809185 val loss 13.152241297087233\n",
            "Epoch 127: train loss 13.497027392735264 val loss 13.880112734882642\n",
            "Epoch 128: train loss 13.32642922022803 val loss 19.11057416953564\n",
            "Epoch 129: train loss 13.369960808359966 val loss 17.543044342047168\n",
            "Epoch 130: train loss 13.476092317612697 val loss 13.146606855265606\n",
            "Epoch 131: train loss 13.15343653084241 val loss 13.020461997501506\n",
            "Epoch 132: train loss 13.10468179359882 val loss 12.755572557545438\n",
            "Epoch 133: train loss 13.417882897593426 val loss 14.892006239070378\n",
            "Epoch 134: train loss 13.234517181654795 val loss 12.086196502530253\n",
            "Epoch 135: train loss 13.200619994512925 val loss 12.415338827399946\n",
            "Epoch 136: train loss 13.694830332682624 val loss 12.267780413314346\n",
            "Epoch 137: train loss 13.272215546450756 val loss 11.748561361728777\n",
            "Epoch 138: train loss 13.095187258691569 val loss 13.732746120231472\n",
            "Epoch 139: train loss 13.204806184441944 val loss 20.49633964306402\n",
            "Epoch 140: train loss 13.145661740185801 val loss 12.563098642625237\n",
            "Epoch 141: train loss 13.06651532731677 val loss 12.854858890650302\n",
            "Epoch 142: train loss 13.225349148162572 val loss 11.286066723561778\n",
            "Epoch 143: train loss 13.40911582553161 val loss 15.027456932229315\n",
            "Epoch 144: train loss 13.177916567347694 val loss 11.424946975246739\n",
            "Epoch 145: train loss 12.972087398645908 val loss 15.607188848851429\n",
            "Epoch 146: train loss 13.354165075864104 val loss 13.321695148632537\n",
            "Epoch 147: train loss 13.289587401229015 val loss 12.159959894377876\n",
            "Epoch 148: train loss 12.867570919550412 val loss 11.911186633596301\n",
            "Epoch 149: train loss 13.005003673710299 val loss 14.349002267313983\n",
            "Epoch 150: train loss 12.920812180521795 val loss 13.045637770748485\n"
          ],
          "name": "stdout"
        }
      ]
    },
    {
      "cell_type": "code",
      "metadata": {
        "id": "QoD8iB4XV_p1"
      },
      "source": [
        "MODEL_PATH = 'model.pth'\n",
        "\n",
        "torch.save(model, MODEL_PATH)"
      ],
      "execution_count": 95,
      "outputs": []
    },
    {
      "cell_type": "code",
      "metadata": {
        "id": "P9xvHFpbKdNv",
        "outputId": "d7fcfc06-3da9-4f89-b481-d2e26bf9644f",
        "colab": {
          "base_uri": "https://localhost:8080/",
          "height": 523
        }
      },
      "source": [
        "\n",
        "ax = plt.figure().gca()\n",
        "\n",
        "ax.plot(history['train'])\n",
        "ax.plot(history['val'])\n",
        "plt.ylabel('Loss')\n",
        "plt.xlabel('Epoch')\n",
        "plt.legend(['train', 'test'])\n",
        "plt.title('Loss over training epochs')\n",
        "plt.show();"
      ],
      "execution_count": 96,
      "outputs": [
        {
          "output_type": "display_data",
          "data": {
            "image/png": "[encoded data removed]",
            "text/plain": [
              "<Figure size 864x576 with 1 Axes>"
            ]
          },
          "metadata": {
            "tags": [],
            "image/png": {
              "width": 728,
              "height": 506
            }
          }
        }
      ]
    },
    {
      "cell_type": "markdown",
      "metadata": {
        "id": "LSQaamq-M8Ey"
      },
      "source": [
        "# See the Score of Normal "
      ]
    },
    {
      "cell_type": "code",
      "metadata": {
        "id": "pSRpdDNbMtj0"
      },
      "source": [
        "def predict(model, dataset):\n",
        "  predictions, losses = [], []\n",
        "  criterion = nn.L1Loss(reduction='sum').to(device)\n",
        "  with torch.no_grad():\n",
        "    model = model.eval()\n",
        "    for seq_true in dataset:\n",
        "      seq_true = seq_true.to(device)\n",
        "      seq_pred = model(seq_true)\n",
        "\n",
        "      loss = criterion(seq_pred, seq_true)\n",
        "\n",
        "      predictions.append(seq_pred.cpu().numpy().flatten())\n",
        "      losses.append(loss.item())\n",
        "  return predictions, losses"
      ],
      "execution_count": 97,
      "outputs": []
    },
    {
      "cell_type": "code",
      "metadata": {
        "id": "j_FakpwkNKQf",
        "outputId": "a67f3f82-b722-4ec7-ec56-ba52adb59d01",
        "colab": {
          "base_uri": "https://localhost:8080/",
          "height": 542
        }
      },
      "source": [
        "_, losses = predict(model, train_dataloader)\n",
        "\n",
        "sns.distplot(losses, bins=50, kde=True);"
      ],
      "execution_count": 98,
      "outputs": [
        {
          "output_type": "stream",
          "text": [
            "/usr/local/lib/python3.6/dist-packages/seaborn/distributions.py:2551: FutureWarning: `distplot` is a deprecated function and will be removed in a future version. Please adapt your code to use either `displot` (a figure-level function with similar flexibility) or `histplot` (an axes-level function for histograms).\n",
            "  warnings.warn(msg, FutureWarning)\n"
          ],
          "name": "stderr"
        },
        {
          "output_type": "display_data",
          "data": {
            "image/png": "[encoded data removed]",
            "text/plain": [
              "<Figure size 864x576 with 1 Axes>"
            ]
          },
          "metadata": {
            "tags": [],
            "image/png": {
              "width": 749,
              "height": 471
            }
          }
        }
      ]
    },
    {
      "cell_type": "code",
      "metadata": {
        "id": "qO4btuw-57VS",
        "outputId": "c2142f75-e7f4-4510-e79e-e151ed1d996f",
        "colab": {
          "base_uri": "https://localhost:8080/",
          "height": 357
        }
      },
      "source": [
        "losses[0:20]"
      ],
      "execution_count": 99,
      "outputs": [
        {
          "output_type": "execute_result",
          "data": {
            "text/plain": [
              "[10.62421703338623,\n",
              " 18.58922576904297,\n",
              " 9.016619682312012,\n",
              " 15.714446067810059,\n",
              " 10.14051628112793,\n",
              " 13.403971672058105,\n",
              " 12.762508392333984,\n",
              " 8.971033096313477,\n",
              " 7.87245512008667,\n",
              " 8.437756538391113,\n",
              " 8.174980163574219,\n",
              " 7.191980361938477,\n",
              " 12.710912704467773,\n",
              " 8.319180488586426,\n",
              " 20.31358528137207,\n",
              " 9.44866943359375,\n",
              " 8.833176612854004,\n",
              " 8.485328674316406,\n",
              " 9.127333641052246,\n",
              " 10.000471115112305]"
            ]
          },
          "metadata": {
            "tags": []
          },
          "execution_count": 99
        }
      ]
    },
    {
      "cell_type": "code",
      "metadata": {
        "id": "wiKx8hyeN86V"
      },
      "source": [
        "#indicating max loss for normal\n",
        "THRESHOLD = 26\n"
      ],
      "execution_count": 100,
      "outputs": []
    },
    {
      "cell_type": "markdown",
      "metadata": {
        "id": "Ava3rBuEOGuR"
      },
      "source": [
        "# Normal Evaluation"
      ]
    },
    {
      "cell_type": "code",
      "metadata": {
        "id": "QWzaoda9OIru",
        "outputId": "8a72441b-2f22-441a-c5d4-fe946c0b2ea0",
        "colab": {
          "base_uri": "https://localhost:8080/",
          "height": 559
        }
      },
      "source": [
        "predictions, pred_losses = predict(model, test_dataloader)\n",
        "sns.distplot(pred_losses, bins=50, kde=True);\n",
        "\n",
        "\n",
        "correct = sum(l <= THRESHOLD for l in pred_losses)\n",
        "print(f'Correct normal predictions: {correct}/{len(test_dataloader)}')"
      ],
      "execution_count": 109,
      "outputs": [
        {
          "output_type": "stream",
          "text": [
            "/usr/local/lib/python3.6/dist-packages/seaborn/distributions.py:2551: FutureWarning: `distplot` is a deprecated function and will be removed in a future version. Please adapt your code to use either `displot` (a figure-level function with similar flexibility) or `histplot` (an axes-level function for histograms).\n",
            "  warnings.warn(msg, FutureWarning)\n"
          ],
          "name": "stderr"
        },
        {
          "output_type": "stream",
          "text": [
            "Correct normal predictions: 138/145\n"
          ],
          "name": "stdout"
        },
        {
          "output_type": "display_data",
          "data": {
            "image/png": "[encoded data removed]",
            "text/plain": [
              "<Figure size 864x576 with 1 Axes>"
            ]
          },
          "metadata": {
            "tags": [],
            "image/png": {
              "width": 749,
              "height": 471
            }
          }
        }
      ]
    },
    {
      "cell_type": "markdown",
      "metadata": {
        "id": "m5zZASGcOTdh"
      },
      "source": [
        "# Anomaly Evaluation"
      ]
    },
    {
      "cell_type": "markdown",
      "metadata": {
        "id": "M1M_5Mn9P-sD"
      },
      "source": [
        "There are too much anomaly so trim it"
      ]
    },
    {
      "cell_type": "code",
      "metadata": {
        "id": "xlp8_in7OV0M",
        "outputId": "948a35fa-677b-4f5c-9c84-1281b7b290ea",
        "colab": {
          "base_uri": "https://localhost:8080/",
          "height": 559
        }
      },
      "source": [
        "predictions, pred_losses = predict(model, anomaly_dataloader)\n",
        "sns.distplot(pred_losses, bins=50, kde=True);\n",
        "\n",
        "correct = sum(l >= THRESHOLD for l in pred_losses)\n",
        "\n",
        "print(f'Correct normal predictions: {correct}/{len(anomaly_dataloader)}')"
      ],
      "execution_count": 110,
      "outputs": [
        {
          "output_type": "stream",
          "text": [
            "/usr/local/lib/python3.6/dist-packages/seaborn/distributions.py:2551: FutureWarning: `distplot` is a deprecated function and will be removed in a future version. Please adapt your code to use either `displot` (a figure-level function with similar flexibility) or `histplot` (an axes-level function for histograms).\n",
            "  warnings.warn(msg, FutureWarning)\n"
          ],
          "name": "stderr"
        },
        {
          "output_type": "stream",
          "text": [
            "Correct normal predictions: 2067/2081\n"
          ],
          "name": "stdout"
        },
        {
          "output_type": "display_data",
          "data": {
            "image/png": "[encoded data removed]",
            "text/plain": [
              "<Figure size 864x576 with 1 Axes>"
            ]
          },
          "metadata": {
            "tags": [],
            "image/png": {
              "width": 756,
              "height": 471
            }
          }
        }
      ]
    },
    {
      "cell_type": "code",
      "metadata": {
        "id": "e1BxbNEr6ikt"
      },
      "source": [
        ""
      ],
      "execution_count": null,
      "outputs": []
    }
  ]
}