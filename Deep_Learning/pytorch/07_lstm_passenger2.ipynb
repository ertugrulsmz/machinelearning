{
  "nbformat": 4,
  "nbformat_minor": 0,
  "metadata": {
    "colab": {
      "name": "LSTM_Tutorial_passenger.ipynb",
      "provenance": []
    },
    "kernelspec": {
      "name": "python3",
      "display_name": "Python 3"
    }
  },
  "cells": [
    {
      "cell_type": "code",
      "metadata": {
        "id": "ZrQTMStERF_v"
      },
      "source": [
        "import torch\n",
        "import torch.nn as nn\n",
        "\n",
        "import seaborn as sns\n",
        "import numpy as np\n",
        "import pandas as pd\n",
        "import matplotlib.pyplot as plt\n",
        "%matplotlib inline"
      ],
      "execution_count": 1,
      "outputs": []
    },
    {
      "cell_type": "code",
      "metadata": {
        "id": "zK6u-dFQRnS9",
        "outputId": "b3efb652-e687-49c7-f34a-1f11dd23b0b9",
        "colab": {
          "base_uri": "https://localhost:8080/",
          "height": 204
        }
      },
      "source": [
        "flight_data = sns.load_dataset(\"flights\")\n",
        "flight_data.head()"
      ],
      "execution_count": 2,
      "outputs": [
        {
          "output_type": "execute_result",
          "data": {
            "text/html": [
              "<div>\n",
              "<style scoped>\n",
              "    .dataframe tbody tr th:only-of-type {\n",
              "        vertical-align: middle;\n",
              "    }\n",
              "\n",
              "    .dataframe tbody tr th {\n",
              "        vertical-align: top;\n",
              "    }\n",
              "\n",
              "    .dataframe thead th {\n",
              "        text-align: right;\n",
              "    }\n",
              "</style>\n",
              "<table border=\"1\" class=\"dataframe\">\n",
              "  <thead>\n",
              "    <tr style=\"text-align: right;\">\n",
              "      <th></th>\n",
              "      <th>year</th>\n",
              "      <th>month</th>\n",
              "      <th>passengers</th>\n",
              "    </tr>\n",
              "  </thead>\n",
              "  <tbody>\n",
              "    <tr>\n",
              "      <th>0</th>\n",
              "      <td>1949</td>\n",
              "      <td>Jan</td>\n",
              "      <td>112</td>\n",
              "    </tr>\n",
              "    <tr>\n",
              "      <th>1</th>\n",
              "      <td>1949</td>\n",
              "      <td>Feb</td>\n",
              "      <td>118</td>\n",
              "    </tr>\n",
              "    <tr>\n",
              "      <th>2</th>\n",
              "      <td>1949</td>\n",
              "      <td>Mar</td>\n",
              "      <td>132</td>\n",
              "    </tr>\n",
              "    <tr>\n",
              "      <th>3</th>\n",
              "      <td>1949</td>\n",
              "      <td>Apr</td>\n",
              "      <td>129</td>\n",
              "    </tr>\n",
              "    <tr>\n",
              "      <th>4</th>\n",
              "      <td>1949</td>\n",
              "      <td>May</td>\n",
              "      <td>121</td>\n",
              "    </tr>\n",
              "  </tbody>\n",
              "</table>\n",
              "</div>"
            ],
            "text/plain": [
              "   year month  passengers\n",
              "0  1949   Jan         112\n",
              "1  1949   Feb         118\n",
              "2  1949   Mar         132\n",
              "3  1949   Apr         129\n",
              "4  1949   May         121"
            ]
          },
          "metadata": {
            "tags": []
          },
          "execution_count": 2
        }
      ]
    },
    {
      "cell_type": "code",
      "metadata": {
        "id": "et9TXMhyRxVT",
        "outputId": "0a417d8a-d75d-4333-8500-990eb9fadcaa",
        "colab": {
          "base_uri": "https://localhost:8080/",
          "height": 136
        }
      },
      "source": [
        "print(flight_data.tail())\n",
        "print(\"shape : \",flight_data.shape)"
      ],
      "execution_count": 3,
      "outputs": [
        {
          "output_type": "stream",
          "text": [
            "     year month  passengers\n",
            "139  1960   Aug         606\n",
            "140  1960   Sep         508\n",
            "141  1960   Oct         461\n",
            "142  1960   Nov         390\n",
            "143  1960   Dec         432\n",
            "shape :  (144, 3)\n"
          ],
          "name": "stdout"
        }
      ]
    },
    {
      "cell_type": "code",
      "metadata": {
        "id": "8mLB0sjDR38B",
        "outputId": "6c83c0d6-bb09-4506-bd8e-cd9e3c103cc7",
        "colab": {
          "base_uri": "https://localhost:8080/",
          "height": 312
        }
      },
      "source": [
        "plt.title('Month vs Passenger')\n",
        "plt.ylabel('Total Passengers')\n",
        "plt.xlabel('Months')\n",
        "plt.grid(True)\n",
        "plt.autoscale(axis='x',tight=True)\n",
        "plt.plot(flight_data['passengers'])"
      ],
      "execution_count": 4,
      "outputs": [
        {
          "output_type": "execute_result",
          "data": {
            "text/plain": [
              "[<matplotlib.lines.Line2D at 0x7fc004386438>]"
            ]
          },
          "metadata": {
            "tags": []
          },
          "execution_count": 4
        },
        {
          "output_type": "display_data",
          "data": {
            "image/png": "[encoded data removed]",
            "text/plain": [
              "<Figure size 432x288 with 1 Axes>"
            ]
          },
          "metadata": {
            "tags": [],
            "needs_background": "light"
          }
        }
      ]
    },
    {
      "cell_type": "code",
      "metadata": {
        "id": "M4N600GjR6th"
      },
      "source": [
        "all_data = flight_data['passengers'].values.astype(float)\n"
      ],
      "execution_count": 5,
      "outputs": []
    },
    {
      "cell_type": "code",
      "metadata": {
        "id": "8V5_-Cd3R60d",
        "outputId": "3d2c5e97-d491-48e8-8d36-da0687a499f2",
        "colab": {
          "base_uri": "https://localhost:8080/",
          "height": 204
        }
      },
      "source": [
        "all_data = flight_data['passengers'].values.astype(float)\n",
        "print(all_data)"
      ],
      "execution_count": 6,
      "outputs": [
        {
          "output_type": "stream",
          "text": [
            "[112. 118. 132. 129. 121. 135. 148. 148. 136. 119. 104. 118. 115. 126.\n",
            " 141. 135. 125. 149. 170. 170. 158. 133. 114. 140. 145. 150. 178. 163.\n",
            " 172. 178. 199. 199. 184. 162. 146. 166. 171. 180. 193. 181. 183. 218.\n",
            " 230. 242. 209. 191. 172. 194. 196. 196. 236. 235. 229. 243. 264. 272.\n",
            " 237. 211. 180. 201. 204. 188. 235. 227. 234. 264. 302. 293. 259. 229.\n",
            " 203. 229. 242. 233. 267. 269. 270. 315. 364. 347. 312. 274. 237. 278.\n",
            " 284. 277. 317. 313. 318. 374. 413. 405. 355. 306. 271. 306. 315. 301.\n",
            " 356. 348. 355. 422. 465. 467. 404. 347. 305. 336. 340. 318. 362. 348.\n",
            " 363. 435. 491. 505. 404. 359. 310. 337. 360. 342. 406. 396. 420. 472.\n",
            " 548. 559. 463. 407. 362. 405. 417. 391. 419. 461. 472. 535. 622. 606.\n",
            " 508. 461. 390. 432.]\n"
          ],
          "name": "stdout"
        }
      ]
    },
    {
      "cell_type": "markdown",
      "metadata": {
        "id": "AW1w4_6pSycP"
      },
      "source": [
        "Train-Test Split. Last 12 Month will be tested"
      ]
    },
    {
      "cell_type": "code",
      "metadata": {
        "id": "bWa_meTuR65w",
        "outputId": "deae8cf6-e9b1-4cce-a07d-59cba6744ffd",
        "colab": {
          "base_uri": "https://localhost:8080/",
          "height": 51
        }
      },
      "source": [
        "test_data_size = 12\n",
        "\n",
        "train_data = all_data[:-test_data_size]\n",
        "test_data = all_data[-test_data_size:]\n",
        "\n",
        "print(len(train_data))\n",
        "print(len(test_data))"
      ],
      "execution_count": 7,
      "outputs": [
        {
          "output_type": "stream",
          "text": [
            "132\n",
            "12\n"
          ],
          "name": "stdout"
        }
      ]
    },
    {
      "cell_type": "markdown",
      "metadata": {
        "id": "ofKXuAk2TC_a"
      },
      "source": [
        "in Time Series Normalization is required. It will be normalized in range (-1,1) "
      ]
    },
    {
      "cell_type": "code",
      "metadata": {
        "id": "icp3i9OaSp-m"
      },
      "source": [
        "from sklearn.preprocessing import MinMaxScaler\n",
        "\n",
        "scaler = MinMaxScaler(feature_range=(-1, 1))\n",
        "train_data_normalized = scaler.fit_transform(train_data .reshape(-1, 1))\n",
        "\n",
        "#132 row, 1 column is produced."
      ],
      "execution_count": 8,
      "outputs": []
    },
    {
      "cell_type": "code",
      "metadata": {
        "id": "jvE0A1NXSqFL",
        "outputId": "d33d198f-e3ce-4b72-e8a0-d5c9c83a60a1",
        "colab": {
          "base_uri": "https://localhost:8080/",
          "height": 102
        }
      },
      "source": [
        "print(train_data_normalized[:5])\n"
      ],
      "execution_count": 9,
      "outputs": [
        {
          "output_type": "stream",
          "text": [
            "[[-0.96483516]\n",
            " [-0.93846154]\n",
            " [-0.87692308]\n",
            " [-0.89010989]\n",
            " [-0.92527473]]\n"
          ],
          "name": "stdout"
        }
      ]
    },
    {
      "cell_type": "code",
      "metadata": {
        "id": "R7ZDwmg7oJ9S",
        "outputId": "8ba4938f-2ff1-4256-e4e9-27c62985e38f",
        "colab": {
          "base_uri": "https://localhost:8080/",
          "height": 34
        }
      },
      "source": [
        "train_data_normalized.shape"
      ],
      "execution_count": 10,
      "outputs": [
        {
          "output_type": "execute_result",
          "data": {
            "text/plain": [
              "(132, 1)"
            ]
          },
          "metadata": {
            "tags": []
          },
          "execution_count": 10
        }
      ]
    },
    {
      "cell_type": "code",
      "metadata": {
        "id": "ZZzZssnuSqSS",
        "outputId": "5465f94e-9e2c-41f0-feb5-2214e1d7b40f",
        "colab": {
          "base_uri": "https://localhost:8080/",
          "height": 34
        }
      },
      "source": [
        "# Flattened and Tensored it again\n",
        "train_data_normalized = torch.FloatTensor(train_data_normalized).view(-1)\n",
        "train_data_normalized.shape"
      ],
      "execution_count": 11,
      "outputs": [
        {
          "output_type": "execute_result",
          "data": {
            "text/plain": [
              "torch.Size([132])"
            ]
          },
          "metadata": {
            "tags": []
          },
          "execution_count": 11
        }
      ]
    },
    {
      "cell_type": "code",
      "metadata": {
        "id": "XsG5rUjZTwyG",
        "outputId": "3ce1511b-ce69-4434-f180-8daceed907ff",
        "colab": {
          "base_uri": "https://localhost:8080/",
          "height": 68
        }
      },
      "source": [
        "window_size = 12\n",
        "\n",
        "def create_inout_sequences(input_data, ws):\n",
        "    inout_seq = []\n",
        "    L = len(input_data)\n",
        "    for i in range(L-ws):\n",
        "        train_seq = input_data[i:i+ws]\n",
        "        train_label = input_data[i+ws:i+ws+1]\n",
        "        inout_seq.append((train_seq ,train_label))\n",
        "    return inout_seq\n",
        "\n",
        "train_inout_seq = create_inout_sequences(train_data_normalized, window_size)\n",
        "\n",
        "print(train_inout_seq[-1])\n",
        "print(len(train_inout_seq))"
      ],
      "execution_count": 12,
      "outputs": [
        {
          "output_type": "stream",
          "text": [
            "(tensor([0.0242, 0.1253, 0.0462, 0.3275, 0.2835, 0.3890, 0.6176, 0.9516, 1.0000,\n",
            "        0.5780, 0.3319, 0.1341]), tensor([0.3231]))\n",
            "120\n"
          ],
          "name": "stdout"
        }
      ]
    },
    {
      "cell_type": "markdown",
      "metadata": {
        "id": "1DlPxUFPW1BF"
      },
      "source": [
        "#Model"
      ]
    },
    {
      "cell_type": "code",
      "metadata": {
        "id": "K5eCT6EgTw2w"
      },
      "source": [
        "class LSTM(nn.Module):\n",
        "    def __init__(self, input_size=1, hidden_layer_size=100, output_size=1):\n",
        "        super().__init__()\n",
        "        self.hidden_layer_size = hidden_layer_size\n",
        "\n",
        "        self.lstm = nn.LSTM(input_size, hidden_layer_size, num_layers = 1, batch_first = True)\n",
        "        self.linear = nn.Linear(hidden_layer_size, output_size)\n",
        "\n",
        "        #num layers*num direction,batch,hidden_size\n",
        "        #self.hidden_cell = (torch.zeros(1,1,self.hidden_layer_size),\n",
        "         #                   torch.zeros(1,1,self.hidden_layer_size))\n",
        "\n",
        "    def forward(self, input_seq):\n",
        "\n",
        "        print(\"input shape: \",input_seq.view(1,len(input_seq),-1).shape)\n",
        "\n",
        "        lstm_out, self.hidden_cell = self.lstm(input_seq.view(1,len(input_seq),-1))\n",
        "\n",
        "        print(\"hidden cell : \",self.hidden_cell[0].shape,\" \",self.hidden_cell[1].shape)\n",
        "        print(\"lstm out : \",lstm_out.shape)\n",
        "\n",
        "        predictions = self.linear(lstm_out)\n",
        "\n",
        "        print(\"prediction shape : \",predictions.shape)\n",
        "        print(\"prediction shape : \",predictions[-1].shape)\n",
        "\n",
        "        return predictions[-1]"
      ],
      "execution_count": 42,
      "outputs": []
    },
    {
      "cell_type": "code",
      "metadata": {
        "id": "Pgefm5BJTw-5",
        "outputId": "73932664-ed89-4b24-d157-c8aa13d14239",
        "colab": {
          "base_uri": "https://localhost:8080/",
          "height": 85
        }
      },
      "source": [
        "model = LSTM()\n",
        "loss_function = nn.MSELoss()\n",
        "optimizer = torch.optim.Adam(model.parameters(), lr=0.001)\n",
        "print(model)\n"
      ],
      "execution_count": 43,
      "outputs": [
        {
          "output_type": "stream",
          "text": [
            "LSTM(\n",
            "  (lstm): LSTM(1, 100, batch_first=True)\n",
            "  (linear): Linear(in_features=100, out_features=1, bias=True)\n",
            ")\n"
          ],
          "name": "stdout"
        }
      ]
    },
    {
      "cell_type": "code",
      "metadata": {
        "id": "Q3DqAqfxX1-r",
        "outputId": "b39810cd-fb29-40d3-85be-bbd6a586c2a5",
        "colab": {
          "base_uri": "https://localhost:8080/",
          "height": 289
        }
      },
      "source": [
        "# train_input is list, every one item in the list is tuple returning seq array and labels\n",
        "for seq,labels in train_inout_seq:\n",
        "  print(seq)\n",
        "  print(labels)\n",
        "  print(seq.view(1,len(seq), -1))\n",
        "  print(seq.view(1,len(seq), -1).shape)\n",
        "  break"
      ],
      "execution_count": 39,
      "outputs": [
        {
          "output_type": "stream",
          "text": [
            "tensor([-0.9648, -0.9385, -0.8769, -0.8901, -0.9253, -0.8637, -0.8066, -0.8066,\n",
            "        -0.8593, -0.9341, -1.0000, -0.9385])\n",
            "tensor([-0.9516])\n",
            "tensor([[[-0.9648],\n",
            "         [-0.9385],\n",
            "         [-0.8769],\n",
            "         [-0.8901],\n",
            "         [-0.9253],\n",
            "         [-0.8637],\n",
            "         [-0.8066],\n",
            "         [-0.8066],\n",
            "         [-0.8593],\n",
            "         [-0.9341],\n",
            "         [-1.0000],\n",
            "         [-0.9385]]])\n",
            "torch.Size([1, 12, 1])\n"
          ],
          "name": "stdout"
        }
      ]
    },
    {
      "cell_type": "code",
      "metadata": {
        "id": "rA_zyyQYhqk2",
        "outputId": "57125da2-6d36-4056-824b-96ed1fc2dbed",
        "colab": {
          "base_uri": "https://localhost:8080/",
          "height": 102
        }
      },
      "source": [
        "for seq,labels in train_inout_seq:\n",
        "  a = model(seq)\n",
        "  break"
      ],
      "execution_count": 44,
      "outputs": [
        {
          "output_type": "stream",
          "text": [
            "input shape:  torch.Size([1, 12, 1])\n",
            "hidden cell :  torch.Size([1, 1, 100])   torch.Size([1, 1, 100])\n",
            "lstm out :  torch.Size([1, 12, 100])\n",
            "prediction shape :  torch.Size([1, 12, 1])\n",
            "prediction shape :  torch.Size([12, 1])\n"
          ],
          "name": "stdout"
        }
      ]
    },
    {
      "cell_type": "code",
      "metadata": {
        "id": "Byi4qwjzrOoJ"
      },
      "source": [
        "a = nn.Linear(12,2)"
      ],
      "execution_count": 54,
      "outputs": []
    },
    {
      "cell_type": "code",
      "metadata": {
        "id": "WxV55Balr48i",
        "outputId": "11dfdd16-106c-481e-d88d-a78ca6ffa9cd",
        "colab": {
          "base_uri": "https://localhost:8080/",
          "height": 34
        }
      },
      "source": [
        "# 1,12,1 entered.\n",
        "seq1 = seq.reshape(1,12)\n",
        "result = a(seq1)\n",
        "result.shape"
      ],
      "execution_count": 55,
      "outputs": [
        {
          "output_type": "execute_result",
          "data": {
            "text/plain": [
              "torch.Size([1, 2])"
            ]
          },
          "metadata": {
            "tags": []
          },
          "execution_count": 55
        }
      ]
    },
    {
      "cell_type": "markdown",
      "metadata": {
        "id": "MGXgCiGds-Qq"
      },
      "source": [
        "Layer look to the last element of shape. 1,12,1 entered linear(1,13) : 1,12,3. But 1,12 entered linear(12,13) : 1,13"
      ]
    },
    {
      "cell_type": "code",
      "metadata": {
        "id": "YQP46DfdXl60"
      },
      "source": [
        "epochs = 150\n",
        "\n",
        "train_loss = []\n",
        "for i in range(epochs):\n",
        "    epoch_loss = []\n",
        "    for seq, labels in train_inout_seq:\n",
        "        optimizer.zero_grad()\n",
        "        #model.hidden_cell = (torch.zeros(1, 1, model.hidden_layer_size),\n",
        "         #               torch.zeros(1, 1, model.hidden_layer_size))\n",
        "\n",
        "        y_pred = model(seq)\n",
        "\n",
        "        single_loss = loss_function(y_pred, labels)        \n",
        "        single_loss.backward()\n",
        "        optimizer.step()\n",
        "\n",
        "        epoch_loss.append(single_loss.item())\n",
        "\n",
        "    average_epoch_loss = sum(epoch_loss)/len(epoch_loss)\n",
        "    train_loss.append(average_epoch_loss)\n",
        "    \n"
      ],
      "execution_count": 25,
      "outputs": []
    },
    {
      "cell_type": "code",
      "metadata": {
        "id": "GEekDtGb5quq",
        "outputId": "b1f23da3-e340-46fe-e538-14503c334ad8",
        "colab": {
          "base_uri": "https://localhost:8080/",
          "height": 624
        }
      },
      "source": [
        "from pylab import rcParams\n",
        "rcParams['figure.figsize'] = 20, 10\n",
        "\n",
        "plt.plot(train_loss)\n",
        "plt.title(\"Train Loss\")\n",
        "plt.show()\n",
        "\n",
        "print(f\"Last Loss {train_loss[-1]}\")"
      ],
      "execution_count": 17,
      "outputs": [
        {
          "output_type": "display_data",
          "data": {
            "image/png": "[encoded data removed]",
            "text/plain": [
              "<Figure size 1440x720 with 1 Axes>"
            ]
          },
          "metadata": {
            "tags": [],
            "needs_background": "light"
          }
        },
        {
          "output_type": "stream",
          "text": [
            "Last Loss 0.002511288628510518\n"
          ],
          "name": "stdout"
        }
      ]
    },
    {
      "cell_type": "code",
      "metadata": {
        "id": "Lc43P-69cJ-P",
        "outputId": "e353aa0e-c95c-4c69-b176-f49df44d0ffd",
        "colab": {
          "base_uri": "https://localhost:8080/",
          "height": 34
        }
      },
      "source": [
        "fut_pred = 12\n",
        "\n",
        "test_inputs = train_data_normalized[-window_size:].tolist()\n",
        "print(test_inputs)\n"
      ],
      "execution_count": 18,
      "outputs": [
        {
          "output_type": "stream",
          "text": [
            "[0.12527473270893097, 0.04615384712815285, 0.3274725377559662, 0.2835164964199066, 0.3890109956264496, 0.6175824403762817, 0.9516483545303345, 1.0, 0.5780220031738281, 0.33186814188957214, 0.13406594097614288, 0.32307693362236023]\n"
          ],
          "name": "stdout"
        }
      ]
    },
    {
      "cell_type": "code",
      "metadata": {
        "id": "Mt1DHSNJdjIJ",
        "outputId": "349c195f-d65e-4b3a-df80-db11c1ecf5ec",
        "colab": {
          "base_uri": "https://localhost:8080/",
          "height": 221
        }
      },
      "source": [
        "model.eval()\n",
        "# iteratively do prediction for 13.month then append it. do prediction for 1-13 month do prediction. do prediction for 2-14 month so on so forth.\n",
        "\n",
        "for i in range(fut_pred):\n",
        "    seq = torch.FloatTensor(test_inputs[-window_size:])\n",
        "    with torch.no_grad():\n",
        "        #model.hidden = (torch.zeros(1, 1, model.hidden_layer_size),\n",
        "                        #torch.zeros(1, 1, model.hidden_layer_size))\n",
        "        test_inputs.append(model(seq).item())\n",
        "\n",
        "\n",
        "test_inputs[fut_pred:]\n"
      ],
      "execution_count": 19,
      "outputs": [
        {
          "output_type": "execute_result",
          "data": {
            "text/plain": [
              "[0.40259069204330444,\n",
              " 0.3045390844345093,\n",
              " 0.6008407473564148,\n",
              " 0.8895153999328613,\n",
              " 1.2684916257858276,\n",
              " 1.6735049486160278,\n",
              " 2.0683205127716064,\n",
              " 2.401402711868286,\n",
              " 1.7416685819625854,\n",
              " 1.7479335069656372,\n",
              " 1.708396077156067,\n",
              " 1.735251545906067]"
            ]
          },
          "metadata": {
            "tags": []
          },
          "execution_count": 19
        }
      ]
    },
    {
      "cell_type": "code",
      "metadata": {
        "id": "qqetiLnUf3uv",
        "outputId": "318a4d8d-dfc9-45f0-ab6e-5110608933a4",
        "colab": {
          "base_uri": "https://localhost:8080/",
          "height": 221
        }
      },
      "source": [
        "actual_predictions = scaler.inverse_transform(np.array(test_inputs[window_size:] ).reshape(-1, 1))\n",
        "print(actual_predictions)"
      ],
      "execution_count": 20,
      "outputs": [
        {
          "output_type": "stream",
          "text": [
            "[[423.08938244]\n",
            " [400.78264171]\n",
            " [468.19127002]\n",
            " [533.86475348]\n",
            " [620.08184487]\n",
            " [712.22237581]\n",
            " [802.04291666]\n",
            " [877.81911695]\n",
            " [727.7296024 ]\n",
            " [729.15487283]\n",
            " [720.16010755]\n",
            " [726.26972669]]\n"
          ],
          "name": "stdout"
        }
      ]
    },
    {
      "cell_type": "code",
      "metadata": {
        "id": "FVgp3DfKYiys",
        "outputId": "7a022462-8d6e-4ad7-b783-d0cf4835dc69",
        "colab": {
          "base_uri": "https://localhost:8080/",
          "height": 221
        }
      },
      "source": [
        "test_data_expanded = test_data.reshape(12,1)\n",
        "test_data_expanded"
      ],
      "execution_count": 21,
      "outputs": [
        {
          "output_type": "execute_result",
          "data": {
            "text/plain": [
              "array([[417.],\n",
              "       [391.],\n",
              "       [419.],\n",
              "       [461.],\n",
              "       [472.],\n",
              "       [535.],\n",
              "       [622.],\n",
              "       [606.],\n",
              "       [508.],\n",
              "       [461.],\n",
              "       [390.],\n",
              "       [432.]])"
            ]
          },
          "metadata": {
            "tags": []
          },
          "execution_count": 21
        }
      ]
    },
    {
      "cell_type": "code",
      "metadata": {
        "id": "MtmPDlFAYrym",
        "outputId": "f9550a6f-726b-4a41-b193-683bef502f61",
        "colab": {
          "base_uri": "https://localhost:8080/",
          "height": 34
        }
      },
      "source": [
        "loss_function(torch.tensor(actual_predictions),torch.tensor(test_data_expanded))"
      ],
      "execution_count": 22,
      "outputs": [
        {
          "output_type": "execute_result",
          "data": {
            "text/plain": [
              "tensor(40273.9520, dtype=torch.float64)"
            ]
          },
          "metadata": {
            "tags": []
          },
          "execution_count": 22
        }
      ]
    },
    {
      "cell_type": "code",
      "metadata": {
        "id": "0I0fW1Saf7wz"
      },
      "source": [
        "#https://stackabuse.com/time-series-prediction-using-lstm-with-pytorch-in-python/"
      ],
      "execution_count": null,
      "outputs": []
    },
    {
      "cell_type": "code",
      "metadata": {
        "id": "UF9c-4-vljm-"
      },
      "source": [
        ""
      ],
      "execution_count": null,
      "outputs": []
    }
  ]
}