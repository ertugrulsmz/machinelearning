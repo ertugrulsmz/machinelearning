{
  "nbformat": 4,
  "nbformat_minor": 0,
  "metadata": {
    "colab": {
      "name": "RNN_test.ipynb",
      "provenance": []
    },
    "kernelspec": {
      "name": "python3",
      "display_name": "Python 3"
    }
  },
  "cells": [
    {
      "cell_type": "code",
      "metadata": {
        "id": "AF3eOiwE1DUC"
      },
      "source": [
        "# Imports\n",
        "import torch\n",
        "import torchvision\n",
        "import torch.nn as nn  # All neural network modules, nn.Linear, nn.Conv2d, BatchNorm, Loss functions\n",
        "import torch.optim as optim  # For all Optimization algorithms, SGD, Adam, etc.\n",
        "import torch.nn.functional as F  # All functions that don't have any parameters\n",
        "from torch.utils.data import (\n",
        "    DataLoader,\n",
        ")  # Gives easier dataset managment and creates mini batches\n",
        "import torchvision.datasets as datasets  # Has standard datasets we can import in a nice way\n",
        "import torchvision.transforms as transforms  # Transformations we can perform on our dataset\n",
        "\n",
        "# Set device\n",
        "device = torch.device(\"cuda\" if torch.cuda.is_available() else \"cpu\")"
      ],
      "execution_count": 1,
      "outputs": []
    },
    {
      "cell_type": "code",
      "metadata": {
        "id": "jycLpqW41Ibw"
      },
      "source": [
        "# Hyperparameters\n",
        "input_size = 28\n",
        "hidden_size = 256\n",
        "num_layers = 2\n",
        "num_classes = 10\n",
        "sequence_length = 28\n",
        "learning_rate = 0.005\n",
        "batch_size = 64\n",
        "num_epochs = 2"
      ],
      "execution_count": 2,
      "outputs": []
    },
    {
      "cell_type": "code",
      "metadata": {
        "id": "FQxzmwFt1Khx"
      },
      "source": [
        "# Recurrent neural network (many-to-one)\n",
        "class RNN(nn.Module):\n",
        "    def __init__(self, input_size, hidden_size, num_layers, num_classes):\n",
        "        super(RNN, self).__init__()\n",
        "        self.hidden_size = hidden_size\n",
        "        self.num_layers = num_layers\n",
        "        self.rnn = nn.RNN(input_size, hidden_size, num_layers, batch_first=True)\n",
        "        self.fc = nn.Linear(hidden_size * sequence_length, num_classes)\n",
        "\n",
        "    def forward(self, x):\n",
        "        # Set initial hidden and cell states\n",
        "        h0 = torch.zeros(self.num_layers, x.size(0), self.hidden_size).to(device)\n",
        "        \n",
        "        print(\"x shape : \",x.shape)\n",
        "\n",
        "        # Forward propagate LSTM\n",
        "        out, _ = self.rnn(x, h0)\n",
        "\n",
        "        print(\"out shape : \",out.shape)\n",
        "\n",
        "        out = out.reshape(out.shape[0], -1)\n",
        "\n",
        "        print(\"out shape2:\",out.shape)\n",
        "        # Decode the hidden state of the last time step\n",
        "        out = self.fc(out)\n",
        "\n",
        "        print(\"out shape3 : \",out.shape)\n",
        "\n",
        "        return out\n"
      ],
      "execution_count": 16,
      "outputs": []
    },
    {
      "cell_type": "code",
      "metadata": {
        "id": "LeUH47f21SSz"
      },
      "source": [
        "# Recurrent neural network with LSTM (many-to-one)\n",
        "class RNN_LSTM(nn.Module):\n",
        "    def __init__(self, input_size, hidden_size, num_layers, num_classes):\n",
        "        super(RNN_LSTM, self).__init__()\n",
        "        self.hidden_size = hidden_size\n",
        "        self.num_layers = num_layers\n",
        "        self.lstm = nn.LSTM(input_size, hidden_size, num_layers, batch_first=True)\n",
        "        self.fc = nn.Linear(hidden_size * sequence_length, num_classes)\n",
        "\n",
        "    def forward(self, x):\n",
        "        # Set initial hidden and cell states\n",
        "        h0 = torch.zeros(self.num_layers, x.size(0), self.hidden_size).to(device)\n",
        "        c0 = torch.zeros(self.num_layers, x.size(0), self.hidden_size).to(device)\n",
        "\n",
        "        \n",
        "\n",
        "        # Forward propagate LSTM\n",
        "        out, _ = self.lstm(\n",
        "            x, (h0, c0)\n",
        "        )  # out: tensor of shape (batch_size, seq_length, hidden_size)\n",
        "        out = out.reshape(out.shape[0], -1)\n",
        "\n",
        "        \n",
        "\n",
        "        # Decode the hidden state of the last time step\n",
        "        out = self.fc(out)\n",
        "        return out"
      ],
      "execution_count": 4,
      "outputs": []
    },
    {
      "cell_type": "code",
      "metadata": {
        "id": "XCPrvIgl1aSb"
      },
      "source": [
        "# Load Data\n",
        "train_dataset = datasets.MNIST(\n",
        "    root=\"dataset/\", train=True, transform=transforms.ToTensor(), download=True\n",
        ")\n",
        "\n",
        "test_dataset = datasets.MNIST(\n",
        "    root=\"dataset/\", train=False, transform=transforms.ToTensor(), download=True\n",
        ")\n",
        "\n",
        "train_loader = DataLoader(dataset=train_dataset, batch_size=batch_size, shuffle=True)\n",
        "test_loader = DataLoader(dataset=test_dataset, batch_size=batch_size, shuffle=True)\n"
      ],
      "execution_count": 12,
      "outputs": []
    },
    {
      "cell_type": "code",
      "metadata": {
        "id": "XH0f_VLc1ert"
      },
      "source": [
        "# Initialize network\n",
        "model = RNN(input_size, hidden_size, num_layers, num_classes).to(device)\n",
        "\n",
        "# Loss and optimizer\n",
        "criterion = nn.CrossEntropyLoss()\n",
        "optimizer = optim.Adam(model.parameters(), lr=learning_rate)"
      ],
      "execution_count": 18,
      "outputs": []
    },
    {
      "cell_type": "code",
      "metadata": {
        "id": "r2CS6jHv1jw1",
        "outputId": "f9b58f78-111e-49ae-85d1-c96e144e79c4",
        "colab": {
          "base_uri": "https://localhost:8080/",
          "height": 34
        }
      },
      "source": [
        "for im,l in train_loader:\n",
        "  print(im.shape)\n",
        "  break"
      ],
      "execution_count": 14,
      "outputs": [
        {
          "output_type": "stream",
          "text": [
            "torch.Size([64, 1, 28, 28])\n"
          ],
          "name": "stdout"
        }
      ]
    },
    {
      "cell_type": "code",
      "metadata": {
        "id": "6OVKRP-614af",
        "outputId": "958342a6-e6b3-48ea-e9b9-4073fbceddfb",
        "colab": {
          "base_uri": "https://localhost:8080/",
          "height": 1000
        }
      },
      "source": [
        "# Train Network\n",
        "general_loss = []\n",
        "for epoch in range(num_epochs):\n",
        "    epoch_loss = []\n",
        "    for batch_idx, (data, targets) in enumerate(train_loader):\n",
        "        # Get data to cuda if possible\n",
        "        data = data.to(device=device).squeeze(1)\n",
        "        targets = targets.to(device=device)\n",
        "\n",
        "        # forward\n",
        "        scores = model(data)\n",
        "        loss = criterion(scores, targets)\n",
        "\n",
        "        epoch_loss.append(loss.item())\n",
        "        \n",
        "        # backward\n",
        "        optimizer.zero_grad()\n",
        "        loss.backward()\n",
        "\n",
        "        # gradient descent or adam step\n",
        "        optimizer.step()\n",
        "\n",
        "\n",
        "    mean_loss = sum(epoch_loss)/len(epoch_loss)\n",
        "    general_loss.append(mean_loss)\n",
        "    print(f\"epoch loss {mean_loss} in {epoch}\")    "
      ],
      "execution_count": 19,
      "outputs": [
        {
          "output_type": "stream",
          "text": [
            "x shape :  torch.Size([64, 28, 28])\n",
            "out shape :  torch.Size([64, 28, 256])\n",
            "out shape2: torch.Size([64, 7168])\n",
            "out shape3 :  torch.Size([64, 10])\n",
            "x shape :  torch.Size([64, 28, 28])\n",
            "out shape :  torch.Size([64, 28, 256])\n",
            "out shape2: torch.Size([64, 7168])\n",
            "out shape3 :  torch.Size([64, 10])\n",
            "x shape :  torch.Size([64, 28, 28])\n",
            "out shape :  torch.Size([64, 28, 256])\n",
            "out shape2: torch.Size([64, 7168])\n",
            "out shape3 :  torch.Size([64, 10])\n",
            "x shape :  torch.Size([64, 28, 28])\n",
            "out shape :  torch.Size([64, 28, 256])\n",
            "out shape2: torch.Size([64, 7168])\n",
            "out shape3 :  torch.Size([64, 10])\n",
            "x shape :  torch.Size([64, 28, 28])\n",
            "out shape :  torch.Size([64, 28, 256])\n",
            "out shape2: torch.Size([64, 7168])\n",
            "out shape3 :  torch.Size([64, 10])\n",
            "x shape :  torch.Size([64, 28, 28])\n",
            "out shape :  torch.Size([64, 28, 256])\n",
            "out shape2: torch.Size([64, 7168])\n",
            "out shape3 :  torch.Size([64, 10])\n",
            "x shape :  torch.Size([64, 28, 28])\n",
            "out shape :  torch.Size([64, 28, 256])\n",
            "out shape2: torch.Size([64, 7168])\n",
            "out shape3 :  torch.Size([64, 10])\n",
            "x shape :  torch.Size([64, 28, 28])\n",
            "out shape :  torch.Size([64, 28, 256])\n",
            "out shape2: torch.Size([64, 7168])\n",
            "out shape3 :  torch.Size([64, 10])\n",
            "x shape :  torch.Size([64, 28, 28])\n",
            "out shape :  torch.Size([64, 28, 256])\n",
            "out shape2: torch.Size([64, 7168])\n",
            "out shape3 :  torch.Size([64, 10])\n",
            "x shape :  torch.Size([64, 28, 28])\n",
            "out shape :  torch.Size([64, 28, 256])\n",
            "out shape2: torch.Size([64, 7168])\n",
            "out shape3 :  torch.Size([64, 10])\n",
            "x shape :  torch.Size([64, 28, 28])\n",
            "out shape :  torch.Size([64, 28, 256])\n",
            "out shape2: torch.Size([64, 7168])\n",
            "out shape3 :  torch.Size([64, 10])\n",
            "x shape :  torch.Size([64, 28, 28])\n",
            "out shape :  torch.Size([64, 28, 256])\n",
            "out shape2: torch.Size([64, 7168])\n",
            "out shape3 :  torch.Size([64, 10])\n",
            "x shape :  torch.Size([64, 28, 28])\n",
            "out shape :  torch.Size([64, 28, 256])\n",
            "out shape2: torch.Size([64, 7168])\n",
            "out shape3 :  torch.Size([64, 10])\n",
            "x shape :  torch.Size([64, 28, 28])\n",
            "out shape :  torch.Size([64, 28, 256])\n",
            "out shape2: torch.Size([64, 7168])\n",
            "out shape3 :  torch.Size([64, 10])\n",
            "x shape :  torch.Size([64, 28, 28])\n",
            "out shape :  torch.Size([64, 28, 256])\n",
            "out shape2: torch.Size([64, 7168])\n",
            "out shape3 :  torch.Size([64, 10])\n",
            "x shape :  torch.Size([64, 28, 28])\n",
            "out shape :  torch.Size([64, 28, 256])\n",
            "out shape2: torch.Size([64, 7168])\n",
            "out shape3 :  torch.Size([64, 10])\n",
            "x shape :  torch.Size([64, 28, 28])\n",
            "out shape :  torch.Size([64, 28, 256])\n",
            "out shape2: torch.Size([64, 7168])\n",
            "out shape3 :  torch.Size([64, 10])\n",
            "x shape :  torch.Size([64, 28, 28])\n",
            "out shape :  torch.Size([64, 28, 256])\n",
            "out shape2: torch.Size([64, 7168])\n",
            "out shape3 :  torch.Size([64, 10])\n",
            "x shape :  torch.Size([64, 28, 28])\n",
            "out shape :  torch.Size([64, 28, 256])\n",
            "out shape2: torch.Size([64, 7168])\n",
            "out shape3 :  torch.Size([64, 10])\n",
            "x shape :  torch.Size([64, 28, 28])\n",
            "out shape :  torch.Size([64, 28, 256])\n",
            "out shape2: torch.Size([64, 7168])\n",
            "out shape3 :  torch.Size([64, 10])\n",
            "x shape :  torch.Size([64, 28, 28])\n",
            "out shape :  torch.Size([64, 28, 256])\n",
            "out shape2: torch.Size([64, 7168])\n",
            "out shape3 :  torch.Size([64, 10])\n",
            "x shape :  torch.Size([64, 28, 28])\n",
            "out shape :  torch.Size([64, 28, 256])\n",
            "out shape2: torch.Size([64, 7168])\n",
            "out shape3 :  torch.Size([64, 10])\n",
            "x shape :  torch.Size([64, 28, 28])\n",
            "out shape :  torch.Size([64, 28, 256])\n",
            "out shape2: torch.Size([64, 7168])\n",
            "out shape3 :  torch.Size([64, 10])\n",
            "x shape :  torch.Size([64, 28, 28])\n",
            "out shape :  torch.Size([64, 28, 256])\n",
            "out shape2: torch.Size([64, 7168])\n",
            "out shape3 :  torch.Size([64, 10])\n",
            "x shape :  torch.Size([64, 28, 28])\n",
            "out shape :  torch.Size([64, 28, 256])\n",
            "out shape2: torch.Size([64, 7168])\n",
            "out shape3 :  torch.Size([64, 10])\n",
            "x shape :  torch.Size([64, 28, 28])\n",
            "out shape :  torch.Size([64, 28, 256])\n",
            "out shape2: torch.Size([64, 7168])\n",
            "out shape3 :  torch.Size([64, 10])\n",
            "x shape :  torch.Size([64, 28, 28])\n",
            "out shape :  torch.Size([64, 28, 256])\n",
            "out shape2: torch.Size([64, 7168])\n",
            "out shape3 :  torch.Size([64, 10])\n",
            "x shape :  torch.Size([64, 28, 28])\n",
            "out shape :  torch.Size([64, 28, 256])\n",
            "out shape2: torch.Size([64, 7168])\n",
            "out shape3 :  torch.Size([64, 10])\n",
            "x shape :  torch.Size([64, 28, 28])\n",
            "out shape :  torch.Size([64, 28, 256])\n",
            "out shape2: torch.Size([64, 7168])\n",
            "out shape3 :  torch.Size([64, 10])\n",
            "x shape :  torch.Size([64, 28, 28])\n",
            "out shape :  torch.Size([64, 28, 256])\n",
            "out shape2: torch.Size([64, 7168])\n",
            "out shape3 :  torch.Size([64, 10])\n",
            "x shape :  torch.Size([64, 28, 28])\n",
            "out shape :  torch.Size([64, 28, 256])\n",
            "out shape2: torch.Size([64, 7168])\n",
            "out shape3 :  torch.Size([64, 10])\n",
            "x shape :  torch.Size([64, 28, 28])\n",
            "out shape :  torch.Size([64, 28, 256])\n",
            "out shape2: torch.Size([64, 7168])\n",
            "out shape3 :  torch.Size([64, 10])\n",
            "x shape :  torch.Size([64, 28, 28])\n",
            "out shape :  torch.Size([64, 28, 256])\n",
            "out shape2: torch.Size([64, 7168])\n",
            "out shape3 :  torch.Size([64, 10])\n",
            "x shape :  torch.Size([64, 28, 28])\n"
          ],
          "name": "stdout"
        },
        {
          "output_type": "error",
          "ename": "KeyboardInterrupt",
          "evalue": "ignored",
          "traceback": [
            "\u001b[0;31m---------------------------------------------------------------------------\u001b[0m",
            "\u001b[0;31mKeyboardInterrupt\u001b[0m                         Traceback (most recent call last)",
            "\u001b[0;32m<ipython-input-19-56dba658ab70>\u001b[0m in \u001b[0;36m<module>\u001b[0;34m()\u001b[0m\n\u001b[1;32m      9\u001b[0m \u001b[0;34m\u001b[0m\u001b[0m\n\u001b[1;32m     10\u001b[0m         \u001b[0;31m# forward\u001b[0m\u001b[0;34m\u001b[0m\u001b[0;34m\u001b[0m\u001b[0;34m\u001b[0m\u001b[0m\n\u001b[0;32m---> 11\u001b[0;31m         \u001b[0mscores\u001b[0m \u001b[0;34m=\u001b[0m \u001b[0mmodel\u001b[0m\u001b[0;34m(\u001b[0m\u001b[0mdata\u001b[0m\u001b[0;34m)\u001b[0m\u001b[0;34m\u001b[0m\u001b[0;34m\u001b[0m\u001b[0m\n\u001b[0m\u001b[1;32m     12\u001b[0m         \u001b[0mloss\u001b[0m \u001b[0;34m=\u001b[0m \u001b[0mcriterion\u001b[0m\u001b[0;34m(\u001b[0m\u001b[0mscores\u001b[0m\u001b[0;34m,\u001b[0m \u001b[0mtargets\u001b[0m\u001b[0;34m)\u001b[0m\u001b[0;34m\u001b[0m\u001b[0;34m\u001b[0m\u001b[0m\n\u001b[1;32m     13\u001b[0m \u001b[0;34m\u001b[0m\u001b[0m\n",
            "\u001b[0;32m/usr/local/lib/python3.6/dist-packages/torch/nn/modules/module.py\u001b[0m in \u001b[0;36m_call_impl\u001b[0;34m(self, *input, **kwargs)\u001b[0m\n\u001b[1;32m    720\u001b[0m             \u001b[0mresult\u001b[0m \u001b[0;34m=\u001b[0m \u001b[0mself\u001b[0m\u001b[0;34m.\u001b[0m\u001b[0m_slow_forward\u001b[0m\u001b[0;34m(\u001b[0m\u001b[0;34m*\u001b[0m\u001b[0minput\u001b[0m\u001b[0;34m,\u001b[0m \u001b[0;34m**\u001b[0m\u001b[0mkwargs\u001b[0m\u001b[0;34m)\u001b[0m\u001b[0;34m\u001b[0m\u001b[0;34m\u001b[0m\u001b[0m\n\u001b[1;32m    721\u001b[0m         \u001b[0;32melse\u001b[0m\u001b[0;34m:\u001b[0m\u001b[0;34m\u001b[0m\u001b[0;34m\u001b[0m\u001b[0m\n\u001b[0;32m--> 722\u001b[0;31m             \u001b[0mresult\u001b[0m \u001b[0;34m=\u001b[0m \u001b[0mself\u001b[0m\u001b[0;34m.\u001b[0m\u001b[0mforward\u001b[0m\u001b[0;34m(\u001b[0m\u001b[0;34m*\u001b[0m\u001b[0minput\u001b[0m\u001b[0;34m,\u001b[0m \u001b[0;34m**\u001b[0m\u001b[0mkwargs\u001b[0m\u001b[0;34m)\u001b[0m\u001b[0;34m\u001b[0m\u001b[0;34m\u001b[0m\u001b[0m\n\u001b[0m\u001b[1;32m    723\u001b[0m         for hook in itertools.chain(\n\u001b[1;32m    724\u001b[0m                 \u001b[0m_global_forward_hooks\u001b[0m\u001b[0;34m.\u001b[0m\u001b[0mvalues\u001b[0m\u001b[0;34m(\u001b[0m\u001b[0;34m)\u001b[0m\u001b[0;34m,\u001b[0m\u001b[0;34m\u001b[0m\u001b[0;34m\u001b[0m\u001b[0m\n",
            "\u001b[0;32m<ipython-input-16-ea95be669ea1>\u001b[0m in \u001b[0;36mforward\u001b[0;34m(self, x)\u001b[0m\n\u001b[1;32m     15\u001b[0m \u001b[0;34m\u001b[0m\u001b[0m\n\u001b[1;32m     16\u001b[0m         \u001b[0;31m# Forward propagate LSTM\u001b[0m\u001b[0;34m\u001b[0m\u001b[0;34m\u001b[0m\u001b[0;34m\u001b[0m\u001b[0m\n\u001b[0;32m---> 17\u001b[0;31m         \u001b[0mout\u001b[0m\u001b[0;34m,\u001b[0m \u001b[0m_\u001b[0m \u001b[0;34m=\u001b[0m \u001b[0mself\u001b[0m\u001b[0;34m.\u001b[0m\u001b[0mrnn\u001b[0m\u001b[0;34m(\u001b[0m\u001b[0mx\u001b[0m\u001b[0;34m,\u001b[0m \u001b[0mh0\u001b[0m\u001b[0;34m)\u001b[0m\u001b[0;34m\u001b[0m\u001b[0;34m\u001b[0m\u001b[0m\n\u001b[0m\u001b[1;32m     18\u001b[0m \u001b[0;34m\u001b[0m\u001b[0m\n\u001b[1;32m     19\u001b[0m         \u001b[0mprint\u001b[0m\u001b[0;34m(\u001b[0m\u001b[0;34m\"out shape : \"\u001b[0m\u001b[0;34m,\u001b[0m\u001b[0mout\u001b[0m\u001b[0;34m.\u001b[0m\u001b[0mshape\u001b[0m\u001b[0;34m)\u001b[0m\u001b[0;34m\u001b[0m\u001b[0;34m\u001b[0m\u001b[0m\n",
            "\u001b[0;32m/usr/local/lib/python3.6/dist-packages/torch/nn/modules/module.py\u001b[0m in \u001b[0;36m_call_impl\u001b[0;34m(self, *input, **kwargs)\u001b[0m\n\u001b[1;32m    720\u001b[0m             \u001b[0mresult\u001b[0m \u001b[0;34m=\u001b[0m \u001b[0mself\u001b[0m\u001b[0;34m.\u001b[0m\u001b[0m_slow_forward\u001b[0m\u001b[0;34m(\u001b[0m\u001b[0;34m*\u001b[0m\u001b[0minput\u001b[0m\u001b[0;34m,\u001b[0m \u001b[0;34m**\u001b[0m\u001b[0mkwargs\u001b[0m\u001b[0;34m)\u001b[0m\u001b[0;34m\u001b[0m\u001b[0;34m\u001b[0m\u001b[0m\n\u001b[1;32m    721\u001b[0m         \u001b[0;32melse\u001b[0m\u001b[0;34m:\u001b[0m\u001b[0;34m\u001b[0m\u001b[0;34m\u001b[0m\u001b[0m\n\u001b[0;32m--> 722\u001b[0;31m             \u001b[0mresult\u001b[0m \u001b[0;34m=\u001b[0m \u001b[0mself\u001b[0m\u001b[0;34m.\u001b[0m\u001b[0mforward\u001b[0m\u001b[0;34m(\u001b[0m\u001b[0;34m*\u001b[0m\u001b[0minput\u001b[0m\u001b[0;34m,\u001b[0m \u001b[0;34m**\u001b[0m\u001b[0mkwargs\u001b[0m\u001b[0;34m)\u001b[0m\u001b[0;34m\u001b[0m\u001b[0;34m\u001b[0m\u001b[0m\n\u001b[0m\u001b[1;32m    723\u001b[0m         for hook in itertools.chain(\n\u001b[1;32m    724\u001b[0m                 \u001b[0m_global_forward_hooks\u001b[0m\u001b[0;34m.\u001b[0m\u001b[0mvalues\u001b[0m\u001b[0;34m(\u001b[0m\u001b[0;34m)\u001b[0m\u001b[0;34m,\u001b[0m\u001b[0;34m\u001b[0m\u001b[0;34m\u001b[0m\u001b[0m\n",
            "\u001b[0;32m/usr/local/lib/python3.6/dist-packages/torch/nn/modules/rnn.py\u001b[0m in \u001b[0;36mforward\u001b[0;34m(self, input, hx)\u001b[0m\n\u001b[1;32m    232\u001b[0m         \u001b[0;32mif\u001b[0m \u001b[0mbatch_sizes\u001b[0m \u001b[0;32mis\u001b[0m \u001b[0;32mNone\u001b[0m\u001b[0;34m:\u001b[0m\u001b[0;34m\u001b[0m\u001b[0;34m\u001b[0m\u001b[0m\n\u001b[1;32m    233\u001b[0m             result = _impl(input, hx, self._flat_weights, self.bias, self.num_layers,\n\u001b[0;32m--> 234\u001b[0;31m                            self.dropout, self.training, self.bidirectional, self.batch_first)\n\u001b[0m\u001b[1;32m    235\u001b[0m         \u001b[0;32melse\u001b[0m\u001b[0;34m:\u001b[0m\u001b[0;34m\u001b[0m\u001b[0;34m\u001b[0m\u001b[0m\n\u001b[1;32m    236\u001b[0m             result = _impl(input, batch_sizes, hx, self._flat_weights, self.bias,\n",
            "\u001b[0;31mKeyboardInterrupt\u001b[0m: "
          ]
        }
      ]
    },
    {
      "cell_type": "code",
      "metadata": {
        "id": "XaACx3Dh2pCl"
      },
      "source": [
        ""
      ],
      "execution_count": null,
      "outputs": []
    }
  ]
}